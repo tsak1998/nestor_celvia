{
 "cells": [
  {
   "cell_type": "code",
   "execution_count": 4,
   "metadata": {},
   "outputs": [],
   "source": [
    "import pandas as pd\n",
    "import numpy as np\n",
    "import matplotlib.pyplot as plt\n",
    "from pathlib import Path"
   ]
  },
  {
   "cell_type": "code",
   "execution_count": 59,
   "metadata": {},
   "outputs": [],
   "source": [
    "base_metadata_pth = Path('/Users/tsakalis/ntua/nestor/nestor_celvia/metadata')\n",
    "\n",
    "basic_metadata_file = 'metadata.repository.2024-11-05.json'\n",
    "clinical_cohort_file = 'clinical.cohort.2024-11-07.json'\n",
    "biospecimen_file = 'biospecimen.cohort.2024-11-07.json'\n",
    "gene_expr_file = 'Human__TCGA_OV__UNC__RNAseq__GA_RNA__01_28_2016__BI__Gene__Firehose_RSEM_log2.cct'\n",
    "# gene_expr_file = \"Human__TCGA_OV__UNC__RNAseq__HiSeq_RNA__01_28_2016__BI__Gene__Firehose_RSEM_log2.cct\"\n",
    "\n",
    "gene_mutation_file = 'Human__TCGA_OV__WUSM__Mutation__GAIIx__01_28_2016__BI__Gene__Firehose_MutSig2CV.cbt'"
   ]
  },
  {
   "cell_type": "code",
   "execution_count": 60,
   "metadata": {},
   "outputs": [],
   "source": [
    "gene_names = pd.read_csv(base_metadata_pth / 'GeneNames.tsv', header=None)"
   ]
  },
  {
   "cell_type": "code",
   "execution_count": 61,
   "metadata": {},
   "outputs": [],
   "source": [
    "metadata_df = pd.read_json(base_metadata_pth / basic_metadata_file)\n",
    "\n",
    "clinical_cohort_df = pd.read_json(base_metadata_pth / clinical_cohort_file)\n",
    "\n",
    "biospecimen_df = pd.read_json(base_metadata_pth / biospecimen_file)\n",
    "gene_expr_df = pd.read_csv(base_metadata_pth / gene_expr_file, delimiter='\\t')\n",
    "\n",
    "gene_mutation_df = pd.read_csv(base_metadata_pth / gene_mutation_file,\n",
    "                               delimiter='\\t')"
   ]
  },
  {
   "cell_type": "code",
   "execution_count": 62,
   "metadata": {},
   "outputs": [],
   "source": [
    "latent_vec_pth = Path(\n",
    "    '/Users/tsakalis/ntua/nestor/nestor_celvia/src/vae_embeddings/latent_vectors'\n",
    ")"
   ]
  },
  {
   "cell_type": "code",
   "execution_count": 63,
   "metadata": {},
   "outputs": [],
   "source": [
    "import torch"
   ]
  },
  {
   "cell_type": "code",
   "execution_count": 64,
   "metadata": {},
   "outputs": [],
   "source": [
    "import h5py\n",
    "import pandas as pd\n",
    "\n",
    "\n",
    "def load_h5(path, key='mean'):\n",
    "    \"\"\"\n",
    "    Load data from an HDF5 file and return the specified dataset as a DataFrame.\n",
    "\n",
    "    Parameters:\n",
    "    - path (str): Path to the HDF5 file.\n",
    "    - key (str): Key of the dataset to retrieve.\n",
    "\n",
    "    Returns:\n",
    "    - pd.DataFrame: DataFrame containing the data from the specified key.\n",
    "    \"\"\"\n",
    "    with h5py.File(path, \"r\") as f:\n",
    "        if key not in f:\n",
    "            raise KeyError(f\"Key '{key}' not found in the HDF5 file.\")\n",
    "\n",
    "        ds_arr = f[key][()]  # Get the numpy array from the specified key\n",
    "\n",
    "    # Return the data as a DataFrame\n",
    "    return pd.DataFrame(ds_arr)\n"
   ]
  },
  {
   "cell_type": "code",
   "execution_count": 65,
   "metadata": {},
   "outputs": [],
   "source": [
    "latent_vec_pth = Path(\n",
    "    '/Users/tsakalis/ntua/nestor/nestor_celvia/src/vae_embeddings/embeddings_adco'\n",
    ")\n",
    "latent_vecs = [(pth.stem, load_h5(pth), load_h5(pth, key='max'),\n",
    "                load_h5(pth, key='min'), load_h5(pth, key='std'))\n",
    "               for pth in latent_vec_pth.glob('*.h5')]\n",
    "\n",
    "# latent_vecs = [np.load(pth) for pth in latent_vec_pth.glob('*.npy')]"
   ]
  },
  {
   "cell_type": "code",
   "execution_count": 66,
   "metadata": {},
   "outputs": [],
   "source": [
    "# latent_vec_pth = Path(\n",
    "#     '/Users/tsakalis/ntua/nestor/nestor_celvia/src/vae_embeddings/embeddings_adco'\n",
    "# )\n",
    "# latent_vecs = [(pth.stem, torch.load(pth,\n",
    "#                                      map_location=torch.device('cpu')).numpy())\n",
    "#                for pth in latent_vec_pth.glob('*.pt')]\n",
    "\n",
    "# # latent_vecs = [np.load(pth) for pth in latent_vec_pth.glob('*.npy')]"
   ]
  },
  {
   "cell_type": "code",
   "execution_count": 67,
   "metadata": {},
   "outputs": [],
   "source": [
    "test_id = \"TCGA-WR-A838-01A-01-TS1.E8CA96CD-A253-4090-86BA-60E7192B72FD\""
   ]
  },
  {
   "cell_type": "code",
   "execution_count": 201,
   "metadata": {},
   "outputs": [],
   "source": [
    "all_latent_df = []\n",
    "\n",
    "for latent in latent_vecs:\n",
    "    latent_df_mean = pd.DataFrame(latent[1]).transpose()\n",
    "    latent_df_max = pd.DataFrame(latent[2]).transpose()\n",
    "\n",
    "    latent_df_min = pd.DataFrame(latent[3]).transpose()\n",
    "    latent_df_std = pd.DataFrame(latent[4]).transpose()\n",
    "    latent_df = pd.concat(\n",
    "        [latent_df_mean, latent_df_max, latent_df_min, latent_df_std], axis=1)\n",
    "    # break\n",
    "    latent_df.columns = [f\"emb_{i}\" for i in range(4096)]\n",
    "    latent_df['file_name'] = latent[0] + \".svs\"  #.split('_')[0]\n",
    "    if test_id == latent[0]:\n",
    "        break\n",
    "    all_latent_df.append(latent_df)"
   ]
  },
  {
   "cell_type": "code",
   "execution_count": 202,
   "metadata": {},
   "outputs": [
    {
     "data": {
      "text/html": [
       "<div>\n",
       "<style scoped>\n",
       "    .dataframe tbody tr th:only-of-type {\n",
       "        vertical-align: middle;\n",
       "    }\n",
       "\n",
       "    .dataframe tbody tr th {\n",
       "        vertical-align: top;\n",
       "    }\n",
       "\n",
       "    .dataframe thead th {\n",
       "        text-align: right;\n",
       "    }\n",
       "</style>\n",
       "<table border=\"1\" class=\"dataframe\">\n",
       "  <thead>\n",
       "    <tr style=\"text-align: right;\">\n",
       "      <th></th>\n",
       "      <th>0</th>\n",
       "      <th>1</th>\n",
       "      <th>2</th>\n",
       "      <th>3</th>\n",
       "      <th>4</th>\n",
       "      <th>5</th>\n",
       "      <th>6</th>\n",
       "      <th>7</th>\n",
       "      <th>8</th>\n",
       "      <th>9</th>\n",
       "      <th>...</th>\n",
       "      <th>1014</th>\n",
       "      <th>1015</th>\n",
       "      <th>1016</th>\n",
       "      <th>1017</th>\n",
       "      <th>1018</th>\n",
       "      <th>1019</th>\n",
       "      <th>1020</th>\n",
       "      <th>1021</th>\n",
       "      <th>1022</th>\n",
       "      <th>1023</th>\n",
       "    </tr>\n",
       "  </thead>\n",
       "  <tbody>\n",
       "    <tr>\n",
       "      <th>0</th>\n",
       "      <td>21.318197</td>\n",
       "      <td>0.16337</td>\n",
       "      <td>0.005576</td>\n",
       "      <td>8.083027</td>\n",
       "      <td>4.269736</td>\n",
       "      <td>7.085565</td>\n",
       "      <td>3.472527</td>\n",
       "      <td>10.271541</td>\n",
       "      <td>0.587898</td>\n",
       "      <td>5.674457</td>\n",
       "      <td>...</td>\n",
       "      <td>0.019325</td>\n",
       "      <td>0.160837</td>\n",
       "      <td>23.98288</td>\n",
       "      <td>17.949211</td>\n",
       "      <td>20.918461</td>\n",
       "      <td>0.115844</td>\n",
       "      <td>14.47217</td>\n",
       "      <td>3.106407</td>\n",
       "      <td>11.481506</td>\n",
       "      <td>19.92428</td>\n",
       "    </tr>\n",
       "  </tbody>\n",
       "</table>\n",
       "<p>1 rows × 2048 columns</p>\n",
       "</div>"
      ],
      "text/plain": [
       "        0        1         2         3         4         5         6     \\\n",
       "0  21.318197  0.16337  0.005576  8.083027  4.269736  7.085565  3.472527   \n",
       "\n",
       "        7         8         9     ...      1014      1015      1016  \\\n",
       "0  10.271541  0.587898  5.674457  ...  0.019325  0.160837  23.98288   \n",
       "\n",
       "        1017       1018      1019      1020      1021       1022      1023  \n",
       "0  17.949211  20.918461  0.115844  14.47217  3.106407  11.481506  19.92428  \n",
       "\n",
       "[1 rows x 2048 columns]"
      ]
     },
     "execution_count": 202,
     "metadata": {},
     "output_type": "execute_result"
    }
   ],
   "source": [
    "pd.concat([latent_df_mean, latent_df_max], axis=1)"
   ]
  },
  {
   "cell_type": "code",
   "execution_count": 203,
   "metadata": {},
   "outputs": [],
   "source": [
    "latent_vec_pth = Path(\n",
    "    '/Users/tsakalis/ntua/nestor/nestor_celvia/src/vae_embeddings/latent_vectors'\n",
    ")\n",
    "\n",
    "latent_vecs2 = [(pth.stem, np.load(pth))\n",
    "                for pth in latent_vec_pth.glob('*.npy')]\n",
    "\n",
    "# latent_vecs = [np.load(pth) for pth in latent_vec_pth.glob('*.npy')]"
   ]
  },
  {
   "cell_type": "code",
   "execution_count": 204,
   "metadata": {},
   "outputs": [],
   "source": [
    "metadata_df['submitter_id'] = metadata_df.submitter_id.apply(\n",
    "    lambda x: '.'.join(x.split('-')[:3]))"
   ]
  },
  {
   "cell_type": "code",
   "execution_count": 205,
   "metadata": {},
   "outputs": [],
   "source": [
    "merged_genes = pd.merge(gene_expr_df.set_index('attrib_name'),\n",
    "                        gene_names,\n",
    "                        left_index=True,\n",
    "                        right_on=0)\n"
   ]
  },
  {
   "cell_type": "code",
   "execution_count": 206,
   "metadata": {},
   "outputs": [],
   "source": [
    "clinical_cohort_df['submitter_id'] = clinical_cohort_df['submitter_id'].apply(\n",
    "    lambda x: x.replace('-', '.'))"
   ]
  },
  {
   "cell_type": "code",
   "execution_count": 207,
   "metadata": {},
   "outputs": [],
   "source": [
    "gene_patient = pd.merge(metadata_df,\n",
    "                        merged_genes.T,\n",
    "                        left_on='submitter_id',\n",
    "                        right_index=True)"
   ]
  },
  {
   "cell_type": "code",
   "execution_count": 208,
   "metadata": {},
   "outputs": [],
   "source": [
    "metadata_latent = pd.merge(metadata_df,\n",
    "                           pd.concat(all_latent_df),\n",
    "                           on='file_name')"
   ]
  },
  {
   "cell_type": "code",
   "execution_count": 250,
   "metadata": {},
   "outputs": [],
   "source": [
    "all_data = pd.merge(metadata_latent,\n",
    "                    gene_patient.reset_index(drop=True),\n",
    "                    on='file_id',\n",
    "                    how='inner')"
   ]
  },
  {
   "cell_type": "code",
   "execution_count": 251,
   "metadata": {},
   "outputs": [
    {
     "data": {
      "text/html": [
       "<div>\n",
       "<style scoped>\n",
       "    .dataframe tbody tr th:only-of-type {\n",
       "        vertical-align: middle;\n",
       "    }\n",
       "\n",
       "    .dataframe tbody tr th {\n",
       "        vertical-align: top;\n",
       "    }\n",
       "\n",
       "    .dataframe thead th {\n",
       "        text-align: right;\n",
       "    }\n",
       "</style>\n",
       "<table border=\"1\" class=\"dataframe\">\n",
       "  <thead>\n",
       "    <tr style=\"text-align: right;\">\n",
       "      <th></th>\n",
       "      <th>data_format_x</th>\n",
       "      <th>access_x</th>\n",
       "      <th>associated_entities_x</th>\n",
       "      <th>file_name_x</th>\n",
       "      <th>submitter_id_x</th>\n",
       "      <th>data_category_x</th>\n",
       "      <th>annotations_x</th>\n",
       "      <th>file_size_x</th>\n",
       "      <th>md5sum_x</th>\n",
       "      <th>file_id</th>\n",
       "      <th>...</th>\n",
       "      <th>117</th>\n",
       "      <th>34</th>\n",
       "      <th>8</th>\n",
       "      <th>114</th>\n",
       "      <th>71</th>\n",
       "      <th>62</th>\n",
       "      <th>110</th>\n",
       "      <th>27</th>\n",
       "      <th>4</th>\n",
       "      <th>20</th>\n",
       "    </tr>\n",
       "  </thead>\n",
       "  <tbody>\n",
       "    <tr>\n",
       "      <th>0</th>\n",
       "      <td>SVS</td>\n",
       "      <td>open</td>\n",
       "      <td>[{'entity_submitter_id': 'TCGA-61-1903-01A-01-...</td>\n",
       "      <td>TCGA-61-1903-01A-01-BS1.77116a06-9e30-4bf6-885...</td>\n",
       "      <td>TCGA.61.1903</td>\n",
       "      <td>Biospecimen</td>\n",
       "      <td>[{'entity_submitter_id': 'TCGA-61-1903', 'note...</td>\n",
       "      <td>200210513</td>\n",
       "      <td>05da084e2d65c34aa87bf865483f8b6d</td>\n",
       "      <td>13c2fa97-02ed-4442-aad8-9c4e6b365adc</td>\n",
       "      <td>...</td>\n",
       "      <td>8.1401</td>\n",
       "      <td>6.0462</td>\n",
       "      <td>7.6083</td>\n",
       "      <td>8.3437</td>\n",
       "      <td>7.8797</td>\n",
       "      <td>7.3016</td>\n",
       "      <td>8.3923</td>\n",
       "      <td>5.1404</td>\n",
       "      <td>7.7682</td>\n",
       "      <td>5.9685</td>\n",
       "    </tr>\n",
       "    <tr>\n",
       "      <th>1</th>\n",
       "      <td>SVS</td>\n",
       "      <td>open</td>\n",
       "      <td>[{'entity_submitter_id': 'TCGA-42-2587-01A-01-...</td>\n",
       "      <td>TCGA-42-2587-01A-01-TS1.f9c60f94-e626-4e40-849...</td>\n",
       "      <td>TCGA.42.2587</td>\n",
       "      <td>Biospecimen</td>\n",
       "      <td>[{'entity_submitter_id': 'TCGA-42-2587', 'note...</td>\n",
       "      <td>138771709</td>\n",
       "      <td>c9d89dc3808a0df5bcfb7fe39994b8ca</td>\n",
       "      <td>d93b71fa-bfe0-4402-876a-b51edef5ef86</td>\n",
       "      <td>...</td>\n",
       "      <td>8.3749</td>\n",
       "      <td>5.9136</td>\n",
       "      <td>7.9143</td>\n",
       "      <td>8.6136</td>\n",
       "      <td>7.5858</td>\n",
       "      <td>7.2941</td>\n",
       "      <td>8.6792</td>\n",
       "      <td>7.6029</td>\n",
       "      <td>7.9861</td>\n",
       "      <td>8.4471</td>\n",
       "    </tr>\n",
       "    <tr>\n",
       "      <th>2</th>\n",
       "      <td>SVS</td>\n",
       "      <td>open</td>\n",
       "      <td>[{'entity_submitter_id': 'TCGA-29-2414-01A-02-...</td>\n",
       "      <td>TCGA-29-2414-01A-02-BS2.5006bae6-462f-4310-b8a...</td>\n",
       "      <td>TCGA.29.2414</td>\n",
       "      <td>Biospecimen</td>\n",
       "      <td>[{'entity_submitter_id': 'TCGA-29-2414', 'note...</td>\n",
       "      <td>141220505</td>\n",
       "      <td>0ef0c1307832bc2c94ad65b2e64eedc4</td>\n",
       "      <td>9d990512-1576-4625-8fbd-a8b46fbbdf99</td>\n",
       "      <td>...</td>\n",
       "      <td>8.9513</td>\n",
       "      <td>5.9913</td>\n",
       "      <td>7.6193</td>\n",
       "      <td>10.4179</td>\n",
       "      <td>9.2474</td>\n",
       "      <td>6.6855</td>\n",
       "      <td>8.0525</td>\n",
       "      <td>6.3294</td>\n",
       "      <td>7.8052</td>\n",
       "      <td>6.5273</td>\n",
       "    </tr>\n",
       "    <tr>\n",
       "      <th>3</th>\n",
       "      <td>SVS</td>\n",
       "      <td>open</td>\n",
       "      <td>[{'entity_submitter_id': 'TCGA-29-2414-02A-01-...</td>\n",
       "      <td>TCGA-29-2414-02A-01-TS1.9e8b6cda-a655-40f9-a44...</td>\n",
       "      <td>TCGA.29.2414</td>\n",
       "      <td>Biospecimen</td>\n",
       "      <td>[{'entity_submitter_id': 'TCGA-29-2414', 'note...</td>\n",
       "      <td>99784483</td>\n",
       "      <td>04cb8fd6eb96121626209cea1cf993d5</td>\n",
       "      <td>26438d97-7bd3-4f4c-9f09-38d5cef705a0</td>\n",
       "      <td>...</td>\n",
       "      <td>8.9513</td>\n",
       "      <td>5.9913</td>\n",
       "      <td>7.6193</td>\n",
       "      <td>10.4179</td>\n",
       "      <td>9.2474</td>\n",
       "      <td>6.6855</td>\n",
       "      <td>8.0525</td>\n",
       "      <td>6.3294</td>\n",
       "      <td>7.8052</td>\n",
       "      <td>6.5273</td>\n",
       "    </tr>\n",
       "    <tr>\n",
       "      <th>4</th>\n",
       "      <td>SVS</td>\n",
       "      <td>open</td>\n",
       "      <td>[{'entity_submitter_id': 'TCGA-24-1416-01A-01-...</td>\n",
       "      <td>TCGA-24-1416-01A-01-BS1.9af08ca1-7925-4689-9ad...</td>\n",
       "      <td>TCGA.24.1416</td>\n",
       "      <td>Biospecimen</td>\n",
       "      <td>NaN</td>\n",
       "      <td>160023955</td>\n",
       "      <td>d3d86ff3007ce6ac4adf69bd91dee64d</td>\n",
       "      <td>3170f418-ead5-48b7-9e49-6bc256f36e75</td>\n",
       "      <td>...</td>\n",
       "      <td>8.8458</td>\n",
       "      <td>5.8283</td>\n",
       "      <td>7.9525</td>\n",
       "      <td>9.1587</td>\n",
       "      <td>9.4952</td>\n",
       "      <td>6.2367</td>\n",
       "      <td>7.9672</td>\n",
       "      <td>6.572</td>\n",
       "      <td>7.4422</td>\n",
       "      <td>6.4335</td>\n",
       "    </tr>\n",
       "    <tr>\n",
       "      <th>...</th>\n",
       "      <td>...</td>\n",
       "      <td>...</td>\n",
       "      <td>...</td>\n",
       "      <td>...</td>\n",
       "      <td>...</td>\n",
       "      <td>...</td>\n",
       "      <td>...</td>\n",
       "      <td>...</td>\n",
       "      <td>...</td>\n",
       "      <td>...</td>\n",
       "      <td>...</td>\n",
       "      <td>...</td>\n",
       "      <td>...</td>\n",
       "      <td>...</td>\n",
       "      <td>...</td>\n",
       "      <td>...</td>\n",
       "      <td>...</td>\n",
       "      <td>...</td>\n",
       "      <td>...</td>\n",
       "      <td>...</td>\n",
       "      <td>...</td>\n",
       "    </tr>\n",
       "    <tr>\n",
       "      <th>700</th>\n",
       "      <td>SVS</td>\n",
       "      <td>open</td>\n",
       "      <td>[{'entity_submitter_id': 'TCGA-59-2354-11A-01-...</td>\n",
       "      <td>TCGA-59-2354-11A-01-TS1.e597d6fa-9435-4056-808...</td>\n",
       "      <td>TCGA.59.2354</td>\n",
       "      <td>Biospecimen</td>\n",
       "      <td>NaN</td>\n",
       "      <td>57069143</td>\n",
       "      <td>fd35bdb7780f50c206ef986df6b7607d</td>\n",
       "      <td>b9b7fe7b-f83e-4bc6-82f0-2f81ff0c34c7</td>\n",
       "      <td>...</td>\n",
       "      <td>8.2313</td>\n",
       "      <td>5.6455</td>\n",
       "      <td>7.8046</td>\n",
       "      <td>9.5054</td>\n",
       "      <td>9.1967</td>\n",
       "      <td>5.9355</td>\n",
       "      <td>8.4785</td>\n",
       "      <td>7.3105</td>\n",
       "      <td>7.3354</td>\n",
       "      <td>7.3069</td>\n",
       "    </tr>\n",
       "    <tr>\n",
       "      <th>701</th>\n",
       "      <td>SVS</td>\n",
       "      <td>open</td>\n",
       "      <td>[{'entity_submitter_id': 'TCGA-24-2020-01A-01-...</td>\n",
       "      <td>TCGA-24-2020-01A-01-TS1.e210ebcd-ea37-4fe7-953...</td>\n",
       "      <td>TCGA.24.2020</td>\n",
       "      <td>Biospecimen</td>\n",
       "      <td>NaN</td>\n",
       "      <td>111180723</td>\n",
       "      <td>8d4a7486f7d66442508675dd54c65f10</td>\n",
       "      <td>ff06ad85-d1e2-49e6-975a-6d34bcf38fba</td>\n",
       "      <td>...</td>\n",
       "      <td>9.1052</td>\n",
       "      <td>5.9594</td>\n",
       "      <td>8.2652</td>\n",
       "      <td>9.2659</td>\n",
       "      <td>7.5272</td>\n",
       "      <td>7.8014</td>\n",
       "      <td>8.6894</td>\n",
       "      <td>5.513</td>\n",
       "      <td>8.6664</td>\n",
       "      <td>6.7931</td>\n",
       "    </tr>\n",
       "    <tr>\n",
       "      <th>702</th>\n",
       "      <td>SVS</td>\n",
       "      <td>open</td>\n",
       "      <td>[{'entity_submitter_id': 'TCGA-10-0926-01A-01-...</td>\n",
       "      <td>TCGA-10-0926-01A-01-TS1.81702be2-0c3a-4469-9a6...</td>\n",
       "      <td>TCGA.10.0926</td>\n",
       "      <td>Biospecimen</td>\n",
       "      <td>NaN</td>\n",
       "      <td>44703535</td>\n",
       "      <td>45e2b7ab823e56455299c643b2a82efa</td>\n",
       "      <td>64519ca4-6aa8-454e-b6c9-c10120fb1427</td>\n",
       "      <td>...</td>\n",
       "      <td>8.8193</td>\n",
       "      <td>6.7216</td>\n",
       "      <td>7.5514</td>\n",
       "      <td>9.3318</td>\n",
       "      <td>8.4994</td>\n",
       "      <td>6.0078</td>\n",
       "      <td>7.2716</td>\n",
       "      <td>5.7255</td>\n",
       "      <td>7.3378</td>\n",
       "      <td>5.5673</td>\n",
       "    </tr>\n",
       "    <tr>\n",
       "      <th>703</th>\n",
       "      <td>SVS</td>\n",
       "      <td>open</td>\n",
       "      <td>[{'entity_submitter_id': 'TCGA-13-1484-01A-01-...</td>\n",
       "      <td>TCGA-13-1484-01A-01-BS1.dfebf9da-d2d8-42cd-a94...</td>\n",
       "      <td>TCGA.13.1484</td>\n",
       "      <td>Biospecimen</td>\n",
       "      <td>NaN</td>\n",
       "      <td>271158307</td>\n",
       "      <td>17bad5ae203854c3fa27beeaeb1d51ce</td>\n",
       "      <td>a20a6cb2-2da0-491d-a22a-3bd74fb3062e</td>\n",
       "      <td>...</td>\n",
       "      <td>9.2964</td>\n",
       "      <td>6.1838</td>\n",
       "      <td>7.3916</td>\n",
       "      <td>8.787</td>\n",
       "      <td>8.9912</td>\n",
       "      <td>6.3021</td>\n",
       "      <td>7.9721</td>\n",
       "      <td>5.7415</td>\n",
       "      <td>8.0873</td>\n",
       "      <td>7.1429</td>\n",
       "    </tr>\n",
       "    <tr>\n",
       "      <th>704</th>\n",
       "      <td>SVS</td>\n",
       "      <td>open</td>\n",
       "      <td>[{'entity_submitter_id': 'TCGA-04-1348-01A-01-...</td>\n",
       "      <td>TCGA-04-1348-01A-01-TS1.ffb07f65-72b7-494c-abf...</td>\n",
       "      <td>TCGA.04.1348</td>\n",
       "      <td>Biospecimen</td>\n",
       "      <td>NaN</td>\n",
       "      <td>109640757</td>\n",
       "      <td>1d974d73037217e9a9d97e08023d6eeb</td>\n",
       "      <td>019607b4-e183-46ee-b062-9abcbe54ceb5</td>\n",
       "      <td>...</td>\n",
       "      <td>9.0403</td>\n",
       "      <td>6.0699</td>\n",
       "      <td>8.2965</td>\n",
       "      <td>8.8037</td>\n",
       "      <td>9.1196</td>\n",
       "      <td>6.5004</td>\n",
       "      <td>8.4558</td>\n",
       "      <td>5.9298</td>\n",
       "      <td>7.5717</td>\n",
       "      <td>6.438</td>\n",
       "    </tr>\n",
       "  </tbody>\n",
       "</table>\n",
       "<p>705 rows × 4156 columns</p>\n",
       "</div>"
      ],
      "text/plain": [
       "    data_format_x access_x                              associated_entities_x  \\\n",
       "0             SVS     open  [{'entity_submitter_id': 'TCGA-61-1903-01A-01-...   \n",
       "1             SVS     open  [{'entity_submitter_id': 'TCGA-42-2587-01A-01-...   \n",
       "2             SVS     open  [{'entity_submitter_id': 'TCGA-29-2414-01A-02-...   \n",
       "3             SVS     open  [{'entity_submitter_id': 'TCGA-29-2414-02A-01-...   \n",
       "4             SVS     open  [{'entity_submitter_id': 'TCGA-24-1416-01A-01-...   \n",
       "..            ...      ...                                                ...   \n",
       "700           SVS     open  [{'entity_submitter_id': 'TCGA-59-2354-11A-01-...   \n",
       "701           SVS     open  [{'entity_submitter_id': 'TCGA-24-2020-01A-01-...   \n",
       "702           SVS     open  [{'entity_submitter_id': 'TCGA-10-0926-01A-01-...   \n",
       "703           SVS     open  [{'entity_submitter_id': 'TCGA-13-1484-01A-01-...   \n",
       "704           SVS     open  [{'entity_submitter_id': 'TCGA-04-1348-01A-01-...   \n",
       "\n",
       "                                           file_name_x submitter_id_x  \\\n",
       "0    TCGA-61-1903-01A-01-BS1.77116a06-9e30-4bf6-885...   TCGA.61.1903   \n",
       "1    TCGA-42-2587-01A-01-TS1.f9c60f94-e626-4e40-849...   TCGA.42.2587   \n",
       "2    TCGA-29-2414-01A-02-BS2.5006bae6-462f-4310-b8a...   TCGA.29.2414   \n",
       "3    TCGA-29-2414-02A-01-TS1.9e8b6cda-a655-40f9-a44...   TCGA.29.2414   \n",
       "4    TCGA-24-1416-01A-01-BS1.9af08ca1-7925-4689-9ad...   TCGA.24.1416   \n",
       "..                                                 ...            ...   \n",
       "700  TCGA-59-2354-11A-01-TS1.e597d6fa-9435-4056-808...   TCGA.59.2354   \n",
       "701  TCGA-24-2020-01A-01-TS1.e210ebcd-ea37-4fe7-953...   TCGA.24.2020   \n",
       "702  TCGA-10-0926-01A-01-TS1.81702be2-0c3a-4469-9a6...   TCGA.10.0926   \n",
       "703  TCGA-13-1484-01A-01-BS1.dfebf9da-d2d8-42cd-a94...   TCGA.13.1484   \n",
       "704  TCGA-04-1348-01A-01-TS1.ffb07f65-72b7-494c-abf...   TCGA.04.1348   \n",
       "\n",
       "    data_category_x                                      annotations_x  \\\n",
       "0       Biospecimen  [{'entity_submitter_id': 'TCGA-61-1903', 'note...   \n",
       "1       Biospecimen  [{'entity_submitter_id': 'TCGA-42-2587', 'note...   \n",
       "2       Biospecimen  [{'entity_submitter_id': 'TCGA-29-2414', 'note...   \n",
       "3       Biospecimen  [{'entity_submitter_id': 'TCGA-29-2414', 'note...   \n",
       "4       Biospecimen                                                NaN   \n",
       "..              ...                                                ...   \n",
       "700     Biospecimen                                                NaN   \n",
       "701     Biospecimen                                                NaN   \n",
       "702     Biospecimen                                                NaN   \n",
       "703     Biospecimen                                                NaN   \n",
       "704     Biospecimen                                                NaN   \n",
       "\n",
       "     file_size_x                          md5sum_x  \\\n",
       "0      200210513  05da084e2d65c34aa87bf865483f8b6d   \n",
       "1      138771709  c9d89dc3808a0df5bcfb7fe39994b8ca   \n",
       "2      141220505  0ef0c1307832bc2c94ad65b2e64eedc4   \n",
       "3       99784483  04cb8fd6eb96121626209cea1cf993d5   \n",
       "4      160023955  d3d86ff3007ce6ac4adf69bd91dee64d   \n",
       "..           ...                               ...   \n",
       "700     57069143  fd35bdb7780f50c206ef986df6b7607d   \n",
       "701    111180723  8d4a7486f7d66442508675dd54c65f10   \n",
       "702     44703535  45e2b7ab823e56455299c643b2a82efa   \n",
       "703    271158307  17bad5ae203854c3fa27beeaeb1d51ce   \n",
       "704    109640757  1d974d73037217e9a9d97e08023d6eeb   \n",
       "\n",
       "                                  file_id  ...     117      34       8  \\\n",
       "0    13c2fa97-02ed-4442-aad8-9c4e6b365adc  ...  8.1401  6.0462  7.6083   \n",
       "1    d93b71fa-bfe0-4402-876a-b51edef5ef86  ...  8.3749  5.9136  7.9143   \n",
       "2    9d990512-1576-4625-8fbd-a8b46fbbdf99  ...  8.9513  5.9913  7.6193   \n",
       "3    26438d97-7bd3-4f4c-9f09-38d5cef705a0  ...  8.9513  5.9913  7.6193   \n",
       "4    3170f418-ead5-48b7-9e49-6bc256f36e75  ...  8.8458  5.8283  7.9525   \n",
       "..                                    ...  ...     ...     ...     ...   \n",
       "700  b9b7fe7b-f83e-4bc6-82f0-2f81ff0c34c7  ...  8.2313  5.6455  7.8046   \n",
       "701  ff06ad85-d1e2-49e6-975a-6d34bcf38fba  ...  9.1052  5.9594  8.2652   \n",
       "702  64519ca4-6aa8-454e-b6c9-c10120fb1427  ...  8.8193  6.7216  7.5514   \n",
       "703  a20a6cb2-2da0-491d-a22a-3bd74fb3062e  ...  9.2964  6.1838  7.3916   \n",
       "704  019607b4-e183-46ee-b062-9abcbe54ceb5  ...  9.0403  6.0699  8.2965   \n",
       "\n",
       "         114      71      62     110      27       4      20  \n",
       "0     8.3437  7.8797  7.3016  8.3923  5.1404  7.7682  5.9685  \n",
       "1     8.6136  7.5858  7.2941  8.6792  7.6029  7.9861  8.4471  \n",
       "2    10.4179  9.2474  6.6855  8.0525  6.3294  7.8052  6.5273  \n",
       "3    10.4179  9.2474  6.6855  8.0525  6.3294  7.8052  6.5273  \n",
       "4     9.1587  9.4952  6.2367  7.9672   6.572  7.4422  6.4335  \n",
       "..       ...     ...     ...     ...     ...     ...     ...  \n",
       "700   9.5054  9.1967  5.9355  8.4785  7.3105  7.3354  7.3069  \n",
       "701   9.2659  7.5272  7.8014  8.6894   5.513  8.6664  6.7931  \n",
       "702   9.3318  8.4994  6.0078  7.2716  5.7255  7.3378  5.5673  \n",
       "703    8.787  8.9912  6.3021  7.9721  5.7415  8.0873  7.1429  \n",
       "704   8.8037  9.1196  6.5004  8.4558  5.9298  7.5717   6.438  \n",
       "\n",
       "[705 rows x 4156 columns]"
      ]
     },
     "execution_count": 251,
     "metadata": {},
     "output_type": "execute_result"
    }
   ],
   "source": [
    "all_data"
   ]
  },
  {
   "cell_type": "code",
   "execution_count": 252,
   "metadata": {},
   "outputs": [
    {
     "data": {
      "text/plain": [
       "0       TCGA-61-1903-01A-01-BS1.77116a06-9e30-4bf6-885...\n",
       "2       TCGA-42-2587-01A-01-TS1.f9c60f94-e626-4e40-849...\n",
       "3       TCGA-29-2414-01A-02-BS2.5006bae6-462f-4310-b8a...\n",
       "4       TCGA-29-2414-02A-01-TS1.9e8b6cda-a655-40f9-a44...\n",
       "5       TCGA-42-2588-01A-01-TS1.cc3b36dc-1ce9-4db3-998...\n",
       "                              ...                        \n",
       "1364    TCGA-13-1484-01A-01-BS1.dfebf9da-d2d8-42cd-a94...\n",
       "1365    TCGA-13-0906-01A-01-BS1.e8aa0544-cc48-4941-9d7...\n",
       "1366    TCGA-13-0906-01A-01-TS1.7be7e649-9db2-4a60-b12...\n",
       "1367    TCGA-04-1348-01A-01-TS1.ffb07f65-72b7-494c-abf...\n",
       "1368    TCGA-13-1496-01A-01-TS1.6e8bc620-4631-48ed-8bf...\n",
       "Name: file_name, Length: 1337, dtype: object"
      ]
     },
     "execution_count": 252,
     "metadata": {},
     "output_type": "execute_result"
    }
   ],
   "source": [
    "gene_patient.file_name\n"
   ]
  },
  {
   "cell_type": "code",
   "execution_count": 253,
   "metadata": {},
   "outputs": [],
   "source": [
    "# Get unique values of the stratify column\n",
    "from sklearn.model_selection import train_test_split\n",
    "\n",
    "unique_values = all_data['submitter_id_x'].unique()\n",
    "\n",
    "# Split unique values into train and test\n",
    "train_ids, test_ids = train_test_split(all_data.index,\n",
    "                                       test_size=0.2,\n",
    "                                       random_state=42)"
   ]
  },
  {
   "cell_type": "code",
   "execution_count": null,
   "metadata": {},
   "outputs": [],
   "source": []
  },
  {
   "cell_type": "code",
   "execution_count": null,
   "metadata": {},
   "outputs": [],
   "source": []
  },
  {
   "cell_type": "code",
   "execution_count": 254,
   "metadata": {},
   "outputs": [],
   "source": [
    "target_labels = all_data.columns[-35:]"
   ]
  },
  {
   "cell_type": "code",
   "execution_count": 255,
   "metadata": {},
   "outputs": [],
   "source": [
    "genes_ovarian_cancer = [\n",
    "    \"BRCA1\", \"BRCA2\", \"TP53\", \"RAD51C\", \"RAD51D\", \"PALB2\", \"ATM\", \"CHEK2\",\n",
    "    \"PTEN\", \"ARID1A\"\n",
    "]\n"
   ]
  },
  {
   "cell_type": "code",
   "execution_count": 256,
   "metadata": {},
   "outputs": [],
   "source": [
    "input_labels = [f\"emb_{i}\" for i in range(1024 * 3)]"
   ]
  },
  {
   "cell_type": "code",
   "execution_count": null,
   "metadata": {},
   "outputs": [],
   "source": []
  },
  {
   "cell_type": "code",
   "execution_count": null,
   "metadata": {},
   "outputs": [],
   "source": []
  },
  {
   "cell_type": "code",
   "execution_count": 257,
   "metadata": {},
   "outputs": [],
   "source": [
    "from sklearn.preprocessing import LabelEncoder\n",
    "\n",
    "encode_p = LabelEncoder().fit_transform(all_data['submitter_id_x'])"
   ]
  },
  {
   "cell_type": "code",
   "execution_count": 258,
   "metadata": {},
   "outputs": [],
   "source": [
    "from sklearn.model_selection import train_test_split\n",
    "from sklearn.preprocessing import StandardScaler, MinMaxScaler\n",
    "from lightgbm import LGBMRegressor\n",
    "from sklearn.ensemble import RandomForestRegressor, GradientBoostingRegressor, RandomForestClassifier\n",
    "from sklearn.svm import SVR\n",
    "from sklearn.metrics import mean_squared_error, mean_absolute_percentage_error, accuracy_score, f1_score, classification_report, r2_score\n",
    "from sklearn.model_selection import KFold\n",
    "from sklearn.decomposition import PCA"
   ]
  },
  {
   "cell_type": "code",
   "execution_count": 259,
   "metadata": {},
   "outputs": [],
   "source": [
    "# pca = PCA(n_components=700)\n",
    "\n",
    "# pcaed = pca.fit_transform(all_data[input_labels])\n",
    "\n",
    "# all_data_copy = all_data.copy()\n"
   ]
  },
  {
   "cell_type": "code",
   "execution_count": 260,
   "metadata": {},
   "outputs": [],
   "source": [
    "train_data = all_data.loc[train_ids]\n",
    "test_data = all_data.loc[test_ids]"
   ]
  },
  {
   "cell_type": "code",
   "execution_count": 261,
   "metadata": {},
   "outputs": [],
   "source": [
    "X_train, X_test, y_train, y_test = train_data[input_labels], test_data[\n",
    "    input_labels], train_data[target_labels], test_data[target_labels]"
   ]
  },
  {
   "cell_type": "code",
   "execution_count": 270,
   "metadata": {},
   "outputs": [],
   "source": [
    "params = {\n",
    "    'n_estimators': 200,\n",
    "    'min_samples_split': 10,\n",
    "    'min_samples_leaf': 1,\n",
    "    'max_features': 'sqrt',\n",
    "    'max_depth': 10\n",
    "}"
   ]
  },
  {
   "cell_type": "code",
   "execution_count": 271,
   "metadata": {},
   "outputs": [
    {
     "name": "stdout",
     "output_type": "stream",
     "text": [
      "0.03845425249983996\n"
     ]
    }
   ],
   "source": [
    "# for i in range(len(target_labels)):\n",
    "model = RandomForestRegressor(n_jobs=-1, **params)  #n_estimators=100)\n",
    "model.fit(X_train, y_train.values.astype(float))\n",
    "\n",
    "# Make predictions\n",
    "y_pred = model.predict(X_test)\n",
    "# print(mean_squared_error(y_test.flatten(), y_pred.flatten()))\n",
    "print(r2_score(y_test, y_pred))"
   ]
  },
  {
   "cell_type": "code",
   "execution_count": 238,
   "metadata": {},
   "outputs": [
    {
     "name": "stdout",
     "output_type": "stream",
     "text": [
      "Fitting 3 folds for each of 20 candidates, totalling 60 fits\n"
     ]
    },
    {
     "name": "stderr",
     "output_type": "stream",
     "text": [
      "/Users/tsakalis/Library/Caches/pypoetry/virtualenvs/nestor-FDN6wAKV-py3.11/lib/python3.11/site-packages/sklearn/model_selection/_validation.py:540: FitFailedWarning: \n",
      "24 fits failed out of a total of 60.\n",
      "The score on these train-test partitions for these parameters will be set to nan.\n",
      "If these failures are not expected, you can try to debug them by setting error_score='raise'.\n",
      "\n",
      "Below are more details about the failures:\n",
      "--------------------------------------------------------------------------------\n",
      "5 fits failed with the following error:\n",
      "Traceback (most recent call last):\n",
      "  File \"/Users/tsakalis/Library/Caches/pypoetry/virtualenvs/nestor-FDN6wAKV-py3.11/lib/python3.11/site-packages/sklearn/model_selection/_validation.py\", line 888, in _fit_and_score\n",
      "    estimator.fit(X_train, y_train, **fit_params)\n",
      "  File \"/Users/tsakalis/Library/Caches/pypoetry/virtualenvs/nestor-FDN6wAKV-py3.11/lib/python3.11/site-packages/sklearn/base.py\", line 1466, in wrapper\n",
      "    estimator._validate_params()\n",
      "  File \"/Users/tsakalis/Library/Caches/pypoetry/virtualenvs/nestor-FDN6wAKV-py3.11/lib/python3.11/site-packages/sklearn/base.py\", line 666, in _validate_params\n",
      "    validate_parameter_constraints(\n",
      "  File \"/Users/tsakalis/Library/Caches/pypoetry/virtualenvs/nestor-FDN6wAKV-py3.11/lib/python3.11/site-packages/sklearn/utils/_param_validation.py\", line 95, in validate_parameter_constraints\n",
      "    raise InvalidParameterError(\n",
      "sklearn.utils._param_validation.InvalidParameterError: The 'max_features' parameter of RandomForestRegressor must be an int in the range [1, inf), a float in the range (0.0, 1.0], a str among {'sqrt', 'log2'} or None. Got 'auto' instead.\n",
      "\n",
      "--------------------------------------------------------------------------------\n",
      "19 fits failed with the following error:\n",
      "Traceback (most recent call last):\n",
      "  File \"/Users/tsakalis/Library/Caches/pypoetry/virtualenvs/nestor-FDN6wAKV-py3.11/lib/python3.11/site-packages/sklearn/model_selection/_validation.py\", line 888, in _fit_and_score\n",
      "    estimator.fit(X_train, y_train, **fit_params)\n",
      "  File \"/Users/tsakalis/Library/Caches/pypoetry/virtualenvs/nestor-FDN6wAKV-py3.11/lib/python3.11/site-packages/sklearn/base.py\", line 1466, in wrapper\n",
      "    estimator._validate_params()\n",
      "  File \"/Users/tsakalis/Library/Caches/pypoetry/virtualenvs/nestor-FDN6wAKV-py3.11/lib/python3.11/site-packages/sklearn/base.py\", line 666, in _validate_params\n",
      "    validate_parameter_constraints(\n",
      "  File \"/Users/tsakalis/Library/Caches/pypoetry/virtualenvs/nestor-FDN6wAKV-py3.11/lib/python3.11/site-packages/sklearn/utils/_param_validation.py\", line 95, in validate_parameter_constraints\n",
      "    raise InvalidParameterError(\n",
      "sklearn.utils._param_validation.InvalidParameterError: The 'max_features' parameter of RandomForestRegressor must be an int in the range [1, inf), a float in the range (0.0, 1.0], a str among {'log2', 'sqrt'} or None. Got 'auto' instead.\n",
      "\n",
      "  warnings.warn(some_fits_failed_message, FitFailedWarning)\n",
      "/Users/tsakalis/Library/Caches/pypoetry/virtualenvs/nestor-FDN6wAKV-py3.11/lib/python3.11/site-packages/sklearn/model_selection/_search.py:1103: UserWarning: One or more of the test scores are non-finite: [0.00873363 0.00192714 0.00380299        nan        nan 0.00812515\n",
      " 0.00419229 0.00808746        nan 0.0037319         nan        nan\n",
      " 0.00535902 0.00801031        nan 0.00568195 0.00789061 0.00870352\n",
      "        nan        nan]\n",
      "  warnings.warn(\n"
     ]
    },
    {
     "name": "stdout",
     "output_type": "stream",
     "text": [
      "Best Parameters: {'n_estimators': 100, 'min_samples_split': 10, 'min_samples_leaf': 4, 'max_features': 'sqrt', 'max_depth': 10}\n",
      "R2 Score: 0.005655491337785896\n",
      "Mean Squared Error: 0.34898943420526474\n"
     ]
    }
   ],
   "source": [
    "from sklearn.model_selection import RandomizedSearchCV\n",
    "from sklearn.ensemble import RandomForestRegressor\n",
    "from sklearn.metrics import r2_score, mean_squared_error\n",
    "import numpy as np\n",
    "\n",
    "# Define parameter grid for RandomForestRegressor\n",
    "param_grid = {\n",
    "    'n_estimators': [100, 150, 200],\n",
    "    'max_depth': [None, 10, 20, 30],\n",
    "    'min_samples_split': [2, 5, 10],\n",
    "    'min_samples_leaf': [1, 2, 4],\n",
    "    'max_features': ['auto', 'sqrt', 'log2']\n",
    "}\n",
    "\n",
    "# Initialize the RandomForestRegressor\n",
    "rf = RandomForestRegressor(n_jobs=-1)\n",
    "\n",
    "# RandomizedSearchCV for lightweight optimization\n",
    "random_search = RandomizedSearchCV(\n",
    "    estimator=rf,\n",
    "    param_distributions=param_grid,\n",
    "    n_iter=20,  # Number of parameter settings to sample\n",
    "    cv=3,  # Number of folds for cross-validation\n",
    "    scoring='r2',\n",
    "    verbose=1,\n",
    "    random_state=42,\n",
    "    n_jobs=-1)\n",
    "\n",
    "# Fit the random search to the data\n",
    "random_search.fit(X_train, y_train.values)  # Flatten y_train for regression\n",
    "\n",
    "# Best parameters and evaluation\n",
    "best_model = random_search.best_estimator_\n",
    "print(f\"Best Parameters: {random_search.best_params_}\")\n",
    "\n",
    "# Evaluate the best model\n",
    "y_pred = best_model.predict(X_test)\n",
    "print(f\"R2 Score: {r2_score(y_test, y_pred)}\")\n",
    "print(f\"Mean Squared Error: {mean_squared_error(y_test, y_pred)}\")\n"
   ]
  },
  {
   "cell_type": "code",
   "execution_count": 179,
   "metadata": {},
   "outputs": [],
   "source": [
    "# import lightgbm as lgb\n",
    "# from sklearn.metrics import r2_score\n",
    "# import numpy as np\n",
    "\n",
    "# correls = []\n",
    "# # Assuming y_train and y_test are numpy arrays with shape (n_samples, n_targets)\n",
    "# for i in range(y_train.shape[1]):  # Loop over each target variable\n",
    "#     # Prepare the LightGBM dataset\n",
    "#     train_data = lgb.Dataset(X_train, label=y_train.values[:, i])\n",
    "#     test_data = lgb.Dataset(X_test,\n",
    "#                             label=y_test.values[:, i],\n",
    "#                             reference=train_data)\n",
    "\n",
    "#     # Set parameters\n",
    "#     params = {\n",
    "#         'objective': 'regression',\n",
    "#         'metric': 'rmse',\n",
    "#         'boosting_type': 'gbdt',\n",
    "#         'n_jobs': -1,\n",
    "#         'verbosity': -1,\n",
    "#         # 'num_leaves': 500,  # Large number of leaves to increase complexity\n",
    "#         # 'max_depth': -1,  # No depth limit\n",
    "#         # 'min_data_in_leaf': 1,  # Allow very small leaves\n",
    "#         # 'min_child_samples': 1,  # Reduce the minimum data per child\n",
    "#         # 'lambda_l1': 0,  # No L1 regularization\n",
    "#         # 'lambda_l2': 0,  # No L2 regularization\n",
    "#         # 'learning_rate': 0.1,  # Larger learning rate for faster overfitting\n",
    "#         # 'feature_fraction': 1.0,  # Use all features\n",
    "#         # 'bagging_fraction': 1.0,  # Use all data\n",
    "#         # 'bagging_freq': 0,  # No bagging\n",
    "#     }\n",
    "\n",
    "#     # Train the model\n",
    "#     model = lgb.train(\n",
    "#         params,\n",
    "#         train_data,\n",
    "#         num_boost_round=100,\n",
    "#         valid_sets=[train_data, test_data],\n",
    "#         valid_names=['train', 'valid'],\n",
    "#         #   early_stopping_rounds=10,\n",
    "#         # verbose_eval=False\n",
    "#     )\n",
    "\n",
    "#     # Make predictions\n",
    "#     y_pred = model.predict(X_test)\n",
    "\n",
    "#     # Evaluate the model\n",
    "#     r2 = r2_score(y_test.values[:, i], y_pred)\n",
    "#     print(f\"R2 score for target {i}: {r2}\")\n",
    "#     print(\n",
    "#         np.corrcoef(y_test.values[:, i].flatten().astype(float),\n",
    "#                     y_pred.flatten()))\n",
    "\n",
    "#     correls.append(\n",
    "#         np.corrcoef(y_test.values[:, i].flatten().astype(float),\n",
    "#                     y_pred.flatten()))\n"
   ]
  },
  {
   "cell_type": "code",
   "execution_count": null,
   "metadata": {},
   "outputs": [],
   "source": []
  },
  {
   "cell_type": "code",
   "execution_count": null,
   "metadata": {},
   "outputs": [],
   "source": []
  },
  {
   "cell_type": "code",
   "execution_count": 180,
   "metadata": {},
   "outputs": [],
   "source": [
    "from scipy import stats"
   ]
  },
  {
   "cell_type": "code",
   "execution_count": 241,
   "metadata": {},
   "outputs": [],
   "source": [
    "corrlesb = []\n",
    "for i in range(len(target_labels)):\n",
    "    corrlesb.append(\n",
    "        stats.spearmanr(y_test.values[:, i].flatten().astype(float),\n",
    "                        y_pred[:, i].flatten()))"
   ]
  },
  {
   "cell_type": "code",
   "execution_count": 242,
   "metadata": {},
   "outputs": [
    {
     "data": {
      "text/plain": [
       "[SignificanceResult(statistic=np.float64(0.15000428048672013), pvalue=np.float64(0.01396659244977871)),\n",
       " SignificanceResult(statistic=np.float64(0.20187680997063726), pvalue=np.float64(0.000888303665931444)),\n",
       " SignificanceResult(statistic=np.float64(0.21003455101668028), pvalue=np.float64(0.0005381179361754259)),\n",
       " SignificanceResult(statistic=np.float64(0.11115058994431923), pvalue=np.float64(0.0692566842510015)),\n",
       " SignificanceResult(statistic=np.float64(0.10533398176118548), pvalue=np.float64(0.0852285936282103)),\n",
       " SignificanceResult(statistic=np.float64(0.08481600200166829), pvalue=np.float64(0.16620430184850526)),\n",
       " SignificanceResult(statistic=np.float64(0.27998229469509006), pvalue=np.float64(3.2315182921751107e-06)),\n",
       " SignificanceResult(statistic=np.float64(0.09329608463254578), pvalue=np.float64(0.12763156236728498)),\n",
       " SignificanceResult(statistic=np.float64(0.1142386290090178), pvalue=np.float64(0.06182569609313293)),\n",
       " SignificanceResult(statistic=np.float64(0.22033118947598007), pvalue=np.float64(0.000278102193392598)),\n",
       " SignificanceResult(statistic=np.float64(0.1360935609209314), pvalue=np.float64(0.02588656679770621)),\n",
       " SignificanceResult(statistic=np.float64(0.1956064970877923), pvalue=np.float64(0.001289103842507255)),\n",
       " SignificanceResult(statistic=np.float64(0.19675827938220317), pvalue=np.float64(0.0012048760832276397)),\n",
       " SignificanceResult(statistic=np.float64(0.002485300781132557), pvalue=np.float64(0.9676976850284557)),\n",
       " SignificanceResult(statistic=np.float64(0.12287758988146817), pvalue=np.float64(0.04445100883350886)),\n",
       " SignificanceResult(statistic=np.float64(0.04471980404916169), pvalue=np.float64(0.4659786693911958)),\n",
       " SignificanceResult(statistic=np.float64(0.2718464409166543), pvalue=np.float64(6.336828427129166e-06)),\n",
       " SignificanceResult(statistic=np.float64(0.15331350523983994), pvalue=np.float64(0.011971176675331097)),\n",
       " SignificanceResult(statistic=np.float64(0.05684579747950799), pvalue=np.float64(0.35392353051138226)),\n",
       " SignificanceResult(statistic=np.float64(-0.013785734427787513), pvalue=np.float64(0.8222609110650914)),\n",
       " SignificanceResult(statistic=np.float64(0.0650630098908215), pvalue=np.float64(0.2885655710586203)),\n",
       " SignificanceResult(statistic=np.float64(0.06367751883026372), pvalue=np.float64(0.2989779057447584)),\n",
       " SignificanceResult(statistic=np.float64(0.11057944921677985), pvalue=np.float64(0.07070794622799474)),\n",
       " SignificanceResult(statistic=np.float64(0.09698043288113356), pvalue=np.float64(0.11320443259508982)),\n",
       " SignificanceResult(statistic=np.float64(0.04525979078828232), pvalue=np.float64(0.46060583718099046)),\n",
       " SignificanceResult(statistic=np.float64(0.12555827110595869), pvalue=np.float64(0.03997519830458623)),\n",
       " SignificanceResult(statistic=np.float64(0.11712029188332089), pvalue=np.float64(0.055495657723238785)),\n",
       " SignificanceResult(statistic=np.float64(0.07036886102266232), pvalue=np.float64(0.2509574382552945)),\n",
       " SignificanceResult(statistic=np.float64(0.1688989054679385), pvalue=np.float64(0.0055710891976003)),\n",
       " SignificanceResult(statistic=np.float64(0.07089391514295472), pvalue=np.float64(0.24742991779223866)),\n",
       " SignificanceResult(statistic=np.float64(0.06366255340091116), pvalue=np.float64(0.29909171921779876)),\n",
       " SignificanceResult(statistic=np.float64(0.19855198958598183), pvalue=np.float64(0.001083722387033093)),\n",
       " SignificanceResult(statistic=np.float64(0.11860153320502496), pvalue=np.float64(0.05245683348013589)),\n",
       " SignificanceResult(statistic=np.float64(0.18270683632264026), pvalue=np.float64(0.0026788503815519727)),\n",
       " SignificanceResult(statistic=np.float64(0.2022787781246008), pvalue=np.float64(0.0008670190818972619))]"
      ]
     },
     "execution_count": 242,
     "metadata": {},
     "output_type": "execute_result"
    }
   ],
   "source": [
    "corrlesb"
   ]
  },
  {
   "cell_type": "code",
   "execution_count": 243,
   "metadata": {},
   "outputs": [],
   "source": [
    "correls = []\n",
    "for i in range(len(target_labels)):\n",
    "    correls.append(\n",
    "        np.corrcoef(y_test.values[:, i].flatten().astype(float),\n",
    "                    y_pred[:, i].flatten())[0, 1])"
   ]
  },
  {
   "cell_type": "code",
   "execution_count": null,
   "metadata": {},
   "outputs": [],
   "source": []
  },
  {
   "cell_type": "code",
   "execution_count": 244,
   "metadata": {},
   "outputs": [],
   "source": [
    "# for i in range(len(target_labels)):\n",
    "#     model = RandomForestRegressor()\n",
    "#     model.fit(X_train, y_train.values[:, i])\n",
    "\n",
    "#     # Make predictions\n",
    "#     y_pred = model.predict(X_test)\n",
    "#     # print(mean_squared_error(y_test.flatten(), y_pred.flatten()))\n",
    "#     print(r2_score(y_test.values[:, i], y_pred))\n",
    "#     print(\n",
    "#         np.corrcoef(y_test.values[:, i].flatten().astype(float),\n",
    "#                     y_pred.flatten())[0, 1])"
   ]
  },
  {
   "cell_type": "code",
   "execution_count": 245,
   "metadata": {},
   "outputs": [
    {
     "data": {
      "text/plain": [
       "(268, 35)"
      ]
     },
     "execution_count": 245,
     "metadata": {},
     "output_type": "execute_result"
    }
   ],
   "source": [
    "y_test.shape"
   ]
  },
  {
   "cell_type": "code",
   "execution_count": 246,
   "metadata": {},
   "outputs": [],
   "source": [
    "def find_vector_duplicates(array1, array2):\n",
    "    # Convert each vector to a tuple for hashable comparison\n",
    "    set1 = {tuple(vec) for vec in array1}\n",
    "    duplicates = [vec for vec in array2 if tuple(vec) in set1]\n",
    "    return duplicates"
   ]
  },
  {
   "attachments": {},
   "cell_type": "markdown",
   "metadata": {},
   "source": []
  },
  {
   "cell_type": "code",
   "execution_count": 247,
   "metadata": {},
   "outputs": [
    {
     "data": {
      "image/png": "[encoded data removed]",
      "text/plain": [
       "<Figure size 1000x800 with 1 Axes>"
      ]
     },
     "metadata": {},
     "output_type": "display_data"
    }
   ],
   "source": [
    "import matplotlib.pyplot as plt\n",
    "import numpy as np\n",
    "\n",
    "# Data extracted from the plot (example data, replace with actual values)\n",
    "sort_idx = np.argsort(correls)[::-1]\n",
    "genes = np.array(target_labels)[sort_idx[:35]]\n",
    "\n",
    "# Plotting\n",
    "y_pos = np.arange(len(genes))\n",
    "\n",
    "plt.figure(figsize=(10, 8))\n",
    "plt.barh(y_pos - 0.2,\n",
    "         np.array(correls)[sort_idx[:35]],\n",
    "         height=0.4,\n",
    "         label='Pearson',\n",
    "         color='blue',\n",
    "         alpha=0.7)\n",
    "# plt.barh(y_pos + 0.2, spearman, height=0.4, label='Spearman', color='orange', alpha=0.7)\n",
    "\n",
    "plt.yticks(y_pos, genes)\n",
    "plt.xlabel(\"Correlation Coefficient\")\n",
    "plt.title(\"Correlation Pearson\")\n",
    "plt.axvline(0, color='black', linewidth=0.8, linestyle='--')\n",
    "plt.legend()\n",
    "plt.tight_layout()\n",
    "\n",
    "plt.show()\n"
   ]
  },
  {
   "cell_type": "code",
   "execution_count": null,
   "metadata": {},
   "outputs": [],
   "source": [
    "y_test.shape"
   ]
  },
  {
   "cell_type": "code",
   "execution_count": null,
   "metadata": {},
   "outputs": [],
   "source": [
    "np.corrcoef(y_test.T, y_pred.T)"
   ]
  },
  {
   "cell_type": "code",
   "execution_count": null,
   "metadata": {},
   "outputs": [],
   "source": []
  },
  {
   "cell_type": "code",
   "execution_count": null,
   "metadata": {},
   "outputs": [],
   "source": [
    "pca_vecs = pca.fit_transform(latent_vecs)"
   ]
  },
  {
   "cell_type": "code",
   "execution_count": null,
   "metadata": {},
   "outputs": [],
   "source": [
    "pca.explained_variance_ratio_.sum()"
   ]
  },
  {
   "cell_type": "code",
   "execution_count": null,
   "metadata": {},
   "outputs": [],
   "source": [
    "pca.get_covariance()"
   ]
  },
  {
   "cell_type": "code",
   "execution_count": null,
   "metadata": {},
   "outputs": [],
   "source": [
    "np.corrcoef(pca_vecs[:, 0], [pca_vecs[:, 1]])"
   ]
  },
  {
   "cell_type": "code",
   "execution_count": null,
   "metadata": {},
   "outputs": [],
   "source": [
    "plt.scatter(pca_vecs[:, 0], [pca_vecs[:, 1]])\n",
    "plt.xlim(-0.5, 0.5)\n",
    "plt.ylim(-0.5, 0.5)"
   ]
  },
  {
   "cell_type": "code",
   "execution_count": null,
   "metadata": {},
   "outputs": [],
   "source": []
  },
  {
   "cell_type": "code",
   "execution_count": null,
   "metadata": {},
   "outputs": [],
   "source": []
  },
  {
   "cell_type": "code",
   "execution_count": null,
   "metadata": {},
   "outputs": [],
   "source": []
  }
 ],
 "metadata": {
  "kernelspec": {
   "display_name": "nestor-FDN6wAKV-py3.11",
   "language": "python",
   "name": "python3"
  },
  "language_info": {
   "codemirror_mode": {
    "name": "ipython",
    "version": 3
   },
   "file_extension": ".py",
   "mimetype": "text/x-python",
   "name": "python",
   "nbconvert_exporter": "python",
   "pygments_lexer": "ipython3",
   "version": "3.11.10"
  },
  "orig_nbformat": 4
 },
 "nbformat": 4,
 "nbformat_minor": 2
}
