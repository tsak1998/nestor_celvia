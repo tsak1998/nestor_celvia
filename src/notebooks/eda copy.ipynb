{
 "cells": [
  {
   "cell_type": "code",
   "execution_count": 3,
   "metadata": {},
   "outputs": [],
   "source": [
    "import pandas as pd\n",
    "import numpy as np\n",
    "import matplotlib.pyplot as plt\n",
    "from pathlib import Path"
   ]
  },
  {
   "cell_type": "code",
   "execution_count": 4,
   "metadata": {},
   "outputs": [],
   "source": [
    "base_metadata_pth = Path('/home/tsakalis/ntua/nestor_celvia/metadata')\n",
    "\n",
    "basic_metadata_file = 'metadata.repository.2024-11-05.json'\n",
    "clinical_cohort_file = 'clinical.cohort.2024-11-07.json'\n",
    "biospecimen_file = 'biospecimen.cohort.2024-11-07.json'\n",
    "gene_expr_file = 'Human__TCGA_OV__UNC__RNAseq__GA_RNA__01_28_2016__BI__Gene__Firehose_RSEM_log2.cct'\n",
    "# gene_expr_file = \"Human__TCGA_OV__UNC__RNAseq__HiSeq_RNA__01_28_2016__BI__Gene__Firehose_RSEM_log2.cct\"\n",
    "\n",
    "gene_mutation_file = 'Human__TCGA_OV__WUSM__Mutation__GAIIx__01_28_2016__BI__Gene__Firehose_MutSig2CV.cbt'"
   ]
  },
  {
   "cell_type": "code",
   "execution_count": 5,
   "metadata": {},
   "outputs": [],
   "source": [
    "gene_names = pd.read_csv(base_metadata_pth / 'GeneNames.tsv', header=None)"
   ]
  },
  {
   "cell_type": "code",
   "execution_count": 6,
   "metadata": {},
   "outputs": [],
   "source": [
    "metadata_df = pd.read_json(base_metadata_pth / basic_metadata_file)\n",
    "\n",
    "clinical_cohort_df = pd.read_json(base_metadata_pth / clinical_cohort_file)\n",
    "\n",
    "biospecimen_df = pd.read_json(base_metadata_pth / biospecimen_file)\n",
    "gene_expr_df = pd.read_csv(base_metadata_pth / gene_expr_file, delimiter='\\t')\n",
    "\n",
    "gene_mutation_df = pd.read_csv(base_metadata_pth / gene_mutation_file,\n",
    "                               delimiter='\\t')"
   ]
  },
  {
   "cell_type": "code",
   "execution_count": 7,
   "metadata": {},
   "outputs": [],
   "source": [
    "latent_vec_pth = Path(\n",
    "    '/home/tsakalis/ntua/nestor_celvia/vae_embeddings/embeddings_adco')"
   ]
  },
  {
   "cell_type": "code",
   "execution_count": 8,
   "metadata": {},
   "outputs": [],
   "source": [
    "import torch"
   ]
  },
  {
   "cell_type": "code",
   "execution_count": 9,
   "metadata": {},
   "outputs": [],
   "source": [
    "import h5py\n",
    "import pandas as pd\n",
    "\n",
    "\n",
    "def load_h5(path, key='mean'):\n",
    "    \"\"\"\n",
    "    Load data from an HDF5 file and return the specified dataset as a DataFrame.\n",
    "\n",
    "    Parameters:\n",
    "    - path (str): Path to the HDF5 file.\n",
    "    - key (str): Key of the dataset to retrieve.\n",
    "\n",
    "    Returns:\n",
    "    - pd.DataFrame: DataFrame containing the data from the specified key.\n",
    "    \"\"\"\n",
    "    with h5py.File(path, \"r\") as f:\n",
    "        if key not in f:\n",
    "            raise KeyError(f\"Key '{key}' not found in the HDF5 file.\")\n",
    "\n",
    "        ds_arr = f[key][()]  # Get the numpy array from the specified key\n",
    "\n",
    "    # Return the data as a DataFrame\n",
    "    return pd.DataFrame(ds_arr)\n"
   ]
  },
  {
   "cell_type": "code",
   "execution_count": 10,
   "metadata": {},
   "outputs": [],
   "source": [
    "latent_vec_pth = Path(\n",
    "    '/home/tsakalis/ntua/nestor_celvia/vae_embeddings/embeddings_adco'\n",
    ")\n",
    "latent_vecs = [(pth.stem, load_h5(pth), load_h5(pth, key='max'),\n",
    "                load_h5(pth, key='min'), load_h5(pth, key='std'))\n",
    "               for pth in latent_vec_pth.glob('*.h5')]\n",
    "\n",
    "# latent_vecs = [np.load(pth) for pth in latent_vec_pth.glob('*.npy')]"
   ]
  },
  {
   "cell_type": "code",
   "execution_count": 11,
   "metadata": {},
   "outputs": [],
   "source": [
    "\n",
    "latent_vec_pth = Path('/home/tsakalis/ntua/nestor_celvia/vae_embeddings/embeddings_adco_sampled')\n",
    "\n",
    "latent_vecs = [(pth.stem,  pd.read_csv(pth))\n",
    "               for pth in latent_vec_pth.glob('*.csv')]\n"
   ]
  },
  {
   "cell_type": "code",
   "execution_count": 12,
   "metadata": {},
   "outputs": [],
   "source": [
    "# latent_vec_pth = Path(\n",
    "#     '/Users/tsakalis/ntua/nestor/nestor_celvia/src/vae_embeddings/embeddings_adco'\n",
    "# )\n",
    "# latent_vecs = [(pth.stem, torch.load(pth,\n",
    "#                                      map_location=torch.device('cpu')).numpy())\n",
    "#                for pth in latent_vec_pth.glob('*.pt')]\n",
    "\n",
    "# # latent_vecs = [np.load(pth) for pth in latent_vec_pth.glob('*.npy')]"
   ]
  },
  {
   "cell_type": "code",
   "execution_count": 13,
   "metadata": {},
   "outputs": [],
   "source": [
    "test_id = \"TCGA-WR-A838-01A-01-TS1.E8CA96CD-A253-4090-86BA-60E7192B72FD\""
   ]
  },
  {
   "cell_type": "code",
   "execution_count": 14,
   "metadata": {},
   "outputs": [],
   "source": [
    "all_latent_df = []\n",
    "for latent in latent_vecs:\n",
    "    latent_df = latent[1].copy()\n",
    "    fname = latent[0]\n",
    "\n",
    "    latent_df.columns = [f\"emb_{i}\" for i in range(1024)]\n",
    "\n",
    "    latent_df['file_name'] = fname+ \".svs\" \n",
    "    all_latent_df.append(latent_df)"
   ]
  },
  {
   "cell_type": "code",
   "execution_count": 15,
   "metadata": {},
   "outputs": [],
   "source": [
    "# all_latent_df = []\n",
    "\n",
    "# for latent in latent_vecs:\n",
    "#     latent_df_mean = pd.DataFrame(latent[1]).transpose()\n",
    "#     latent_df_max = pd.DataFrame(latent[2]).transpose()\n",
    "\n",
    "#     latent_df_min = pd.DataFrame(latent[3]).transpose()\n",
    "#     latent_df_std = pd.DataFrame(latent[4]).transpose()\n",
    "#     latent_df = pd.concat(\n",
    "#         [latent_df_mean, latent_df_max, latent_df_min, latent_df_std], axis=1)\n",
    "#     # break\n",
    "#     latent_df.columns = [f\"emb_{i}\" for i in range(4096)]\n",
    "#     latent_df['file_name'] = latent[0] + \".svs\"  #.split('_')[0]\n",
    "#     if test_id == latent[0]:\n",
    "#         break\n",
    "#     all_latent_df.append(latent_df)"
   ]
  },
  {
   "cell_type": "code",
   "execution_count": 16,
   "metadata": {},
   "outputs": [],
   "source": [
    "latent_vec_pth = Path(\n",
    "    '/Users/tsakalis/ntua/nestor/nestor_celvia/src/vae_embeddings/latent_vectors'\n",
    ")\n",
    "\n",
    "latent_vecs2 = [(pth.stem, np.load(pth))\n",
    "                for pth in latent_vec_pth.glob('*.npy')]\n",
    "                \n",
    "\n",
    "# latent_vecs = [np.load(pth) for pth in latent_vec_pth.glob('*.npy')]"
   ]
  },
  {
   "cell_type": "code",
   "execution_count": 17,
   "metadata": {},
   "outputs": [],
   "source": [
    "metadata_df['submitter_id'] = metadata_df.submitter_id.apply(\n",
    "    lambda x: '.'.join(x.split('-')[:3]))"
   ]
  },
  {
   "cell_type": "code",
   "execution_count": 18,
   "metadata": {},
   "outputs": [],
   "source": [
    "merged_genes = pd.merge(gene_expr_df.set_index('attrib_name'),\n",
    "                        gene_names,\n",
    "                        left_index=True,\n",
    "                        right_on=0)\n"
   ]
  },
  {
   "cell_type": "code",
   "execution_count": 19,
   "metadata": {},
   "outputs": [],
   "source": [
    "clinical_cohort_df['submitter_id'] = clinical_cohort_df['submitter_id'].apply(\n",
    "    lambda x: x.replace('-', '.'))"
   ]
  },
  {
   "cell_type": "code",
   "execution_count": 20,
   "metadata": {},
   "outputs": [],
   "source": [
    "gene_patient = pd.merge(metadata_df,\n",
    "                        merged_genes.T,\n",
    "                        left_on='submitter_id',\n",
    "                        right_index=True)"
   ]
  },
  {
   "cell_type": "code",
   "execution_count": 21,
   "metadata": {},
   "outputs": [],
   "source": [
    "metadata_latent = pd.merge(metadata_df,\n",
    "                           pd.concat(all_latent_df),\n",
    "                           on='file_name')"
   ]
  },
  {
   "cell_type": "code",
   "execution_count": 22,
   "metadata": {},
   "outputs": [],
   "source": [
    "all_data = pd.merge(metadata_latent,\n",
    "                    gene_patient.reset_index(drop=True),\n",
    "                    on='file_id',\n",
    "                    how='inner')"
   ]
  },
  {
   "cell_type": "code",
   "execution_count": 23,
   "metadata": {},
   "outputs": [
    {
     "data": {
      "text/plain": [
       "0         05da084e2d65c34aa87bf865483f8b6d\n",
       "1         05da084e2d65c34aa87bf865483f8b6d\n",
       "2         05da084e2d65c34aa87bf865483f8b6d\n",
       "3         05da084e2d65c34aa87bf865483f8b6d\n",
       "4         05da084e2d65c34aa87bf865483f8b6d\n",
       "                        ...               \n",
       "399478    599802ce9923acaefba5524bad7c5139\n",
       "399479    599802ce9923acaefba5524bad7c5139\n",
       "399480    599802ce9923acaefba5524bad7c5139\n",
       "399481    599802ce9923acaefba5524bad7c5139\n",
       "399482    599802ce9923acaefba5524bad7c5139\n",
       "Name: md5sum_x, Length: 399483, dtype: object"
      ]
     },
     "execution_count": 23,
     "metadata": {},
     "output_type": "execute_result"
    }
   ],
   "source": [
    "all_data['md5sum_x']"
   ]
  },
  {
   "cell_type": "code",
   "execution_count": 52,
   "metadata": {},
   "outputs": [],
   "source": [
    "# Get unique values of the stratify column\n",
    "from sklearn.model_selection import train_test_split\n",
    "\n",
    "unique_values = all_data['file_id'].unique()\n",
    "\n",
    "# Split unique values into train and test\n",
    "train_ids, test_ids = train_test_split(unique_values,\n",
    "                                       test_size=0.2,\n",
    "                                       random_state=42)"
   ]
  },
  {
   "cell_type": "code",
   "execution_count": 53,
   "metadata": {},
   "outputs": [
    {
     "data": {
      "text/plain": [
       "array(['db7b9c91-08be-4af8-be86-3dae153eb29d',\n",
       "       'ffea0670-cc16-4753-aace-a2fecf71fd56',\n",
       "       '6969b1be-b1fa-4c37-8872-dcbb84e6856c', ...,\n",
       "       '6e1f77f7-db6d-4fab-99a3-6daa94f7fa7b',\n",
       "       '4d3fc78c-5d40-4ebc-8990-d6ee8ec6aa1f',\n",
       "       '45e8e8cc-3b48-45bf-ac6f-ecbee7dd2d0d'], dtype=object)"
      ]
     },
     "execution_count": 53,
     "metadata": {},
     "output_type": "execute_result"
    }
   ],
   "source": [
    "train_ids"
   ]
  },
  {
   "cell_type": "code",
   "execution_count": 54,
   "metadata": {},
   "outputs": [],
   "source": [
    "from sklearn.preprocessing import LabelEncoder\n",
    "\n",
    "all_data['encoded'] = LabelEncoder().fit_transform(all_data['file_id'])\n",
    "# all_data"
   ]
  },
  {
   "cell_type": "code",
   "execution_count": 55,
   "metadata": {},
   "outputs": [],
   "source": [
    "train_data = all_data[all_data['file_id'].isin(train_ids)]\n",
    "\n",
    "test_data = all_data[all_data['file_id'].isin(test_ids)]"
   ]
  },
  {
   "cell_type": "code",
   "execution_count": 56,
   "metadata": {},
   "outputs": [
    {
     "data": {
      "text/plain": [
       "(80100, 1085)"
      ]
     },
     "execution_count": 56,
     "metadata": {},
     "output_type": "execute_result"
    }
   ],
   "source": [
    "test_data.shape"
   ]
  },
  {
   "cell_type": "code",
   "execution_count": 117,
   "metadata": {},
   "outputs": [],
   "source": [
    "are_identical = train_data.drop_duplicates('file_id')['file_id'].isin(test_data.drop_duplicates('file_id')['file_id'])\n"
   ]
  },
  {
   "cell_type": "code",
   "execution_count": 118,
   "metadata": {},
   "outputs": [
    {
     "data": {
      "text/plain": [
       "0"
      ]
     },
     "execution_count": 118,
     "metadata": {},
     "output_type": "execute_result"
    }
   ],
   "source": [
    "are_identical.sum()"
   ]
  },
  {
   "cell_type": "markdown",
   "metadata": {},
   "source": []
  },
  {
   "cell_type": "code",
   "execution_count": 59,
   "metadata": {},
   "outputs": [],
   "source": [
    "target_labels = all_data.columns[-36:-1]"
   ]
  },
  {
   "cell_type": "code",
   "execution_count": 60,
   "metadata": {},
   "outputs": [],
   "source": [
    "genes_ovarian_cancer = [\n",
    "    \"BRCA1\", \"BRCA2\", \"TP53\", \"RAD51C\", \"RAD51D\", \"PALB2\", \"ATM\", \"CHEK2\",\n",
    "    \"PTEN\", \"ARID1A\"\n",
    "]\n"
   ]
  },
  {
   "cell_type": "code",
   "execution_count": 145,
   "metadata": {},
   "outputs": [],
   "source": [
    "input_labels = [f\"emb_{i}\" for i in range(1024)] "
   ]
  },
  {
   "cell_type": "code",
   "execution_count": 146,
   "metadata": {},
   "outputs": [
    {
     "data": {
      "text/plain": [
       "Index([ 43,  86,  28, 101,  67,   2,  75,  70,  40,  59,  69,  90,  32,  98,\n",
       "        89,  93,  95, 104,  97,  15, 116, 113,  14,  48,  37, 117,  34,   8,\n",
       "       114,  71,  62, 110,  27,   4,  20],\n",
       "      dtype='object')"
      ]
     },
     "execution_count": 146,
     "metadata": {},
     "output_type": "execute_result"
    }
   ],
   "source": [
    "target_labels"
   ]
  },
  {
   "cell_type": "code",
   "execution_count": 147,
   "metadata": {},
   "outputs": [],
   "source": [
    "from sklearn.model_selection import train_test_split\n",
    "from sklearn.preprocessing import StandardScaler, MinMaxScaler\n",
    "from lightgbm import LGBMRegressor\n",
    "from sklearn.ensemble import RandomForestRegressor, GradientBoostingRegressor, RandomForestClassifier\n",
    "from sklearn.svm import SVR\n",
    "from sklearn.metrics import mean_squared_error, mean_absolute_percentage_error, accuracy_score, f1_score, classification_report, r2_score\n",
    "from sklearn.model_selection import KFold\n",
    "from sklearn.decomposition import PCA"
   ]
  },
  {
   "cell_type": "code",
   "execution_count": 340,
   "metadata": {},
   "outputs": [],
   "source": []
  },
  {
   "cell_type": "code",
   "execution_count": 148,
   "metadata": {},
   "outputs": [
    {
     "data": {
      "text/plain": [
       "Index([ 43,  86,  28, 101,  67,   2,  75,  70,  40,  59,  69,  90,  32,  98,\n",
       "        89,  93,  95, 104,  97,  15, 116, 113,  14,  48,  37, 117,  34,   8,\n",
       "       114,  71,  62, 110,  27,   4,  20],\n",
       "      dtype='object')"
      ]
     },
     "execution_count": 148,
     "metadata": {},
     "output_type": "execute_result"
    }
   ],
   "source": [
    "target_labels"
   ]
  },
  {
   "cell_type": "code",
   "execution_count": 154,
   "metadata": {},
   "outputs": [],
   "source": []
  },
  {
   "cell_type": "code",
   "execution_count": 149,
   "metadata": {},
   "outputs": [],
   "source": [
    "# train_data = all_data.loc[train_ids]\n",
    "# test_data = all_data.loc[test_ids]"
   ]
  },
  {
   "cell_type": "code",
   "execution_count": 150,
   "metadata": {},
   "outputs": [],
   "source": [
    "X_train, X_test, y_train, y_test = train_data[input_labels], test_data[\n",
    "    input_labels], train_data[target_labels], test_data[target_labels]"
   ]
  },
  {
   "cell_type": "code",
   "execution_count": null,
   "metadata": {},
   "outputs": [],
   "source": []
  },
  {
   "cell_type": "code",
   "execution_count": 151,
   "metadata": {},
   "outputs": [],
   "source": [
    "params = {\n",
    "    # 'n_estimators': 200,\n",
    "    # 'min_samples_split': 10,\n",
    "    # 'min_samples_leaf': 1,\n",
    "    'max_features': 'sqrt',\n",
    "    # 'max_depth': 10\n",
    "}"
   ]
  },
  {
   "cell_type": "code",
   "execution_count": 75,
   "metadata": {},
   "outputs": [
    {
     "name": "stdout",
     "output_type": "stream",
     "text": [
      "0.004481470998375595\n"
     ]
    }
   ],
   "source": [
    "# for i in range(len(target_labels)):\n",
    "model = RandomForestRegressor(n_jobs=-1)  #n_estimators=100)\n",
    "model.fit(X_train, y_train.values.astype(float))\n",
    "\n",
    "# Make predictions\n",
    "y_pred = model.predict(X_test)\n",
    "# print(mean_squared_error(y_test.flatten(), y_pred.flatten()))\n",
    "print(r2_score(y_test.values.astype(float), y_pred)  )"
   ]
  },
  {
   "cell_type": "code",
   "execution_count": 112,
   "metadata": {},
   "outputs": [
    {
     "data": {
      "text/html": [
       "<div>\n",
       "<style scoped>\n",
       "    .dataframe tbody tr th:only-of-type {\n",
       "        vertical-align: middle;\n",
       "    }\n",
       "\n",
       "    .dataframe tbody tr th {\n",
       "        vertical-align: top;\n",
       "    }\n",
       "\n",
       "    .dataframe thead th {\n",
       "        text-align: right;\n",
       "    }\n",
       "</style>\n",
       "<table border=\"1\" class=\"dataframe\">\n",
       "  <thead>\n",
       "    <tr style=\"text-align: right;\">\n",
       "      <th></th>\n",
       "      <th>emb_0</th>\n",
       "      <th>emb_1</th>\n",
       "      <th>emb_2</th>\n",
       "      <th>emb_3</th>\n",
       "      <th>emb_4</th>\n",
       "      <th>emb_5</th>\n",
       "      <th>emb_6</th>\n",
       "      <th>emb_7</th>\n",
       "      <th>emb_8</th>\n",
       "      <th>emb_9</th>\n",
       "      <th>...</th>\n",
       "      <th>emb_1015</th>\n",
       "      <th>emb_1016</th>\n",
       "      <th>emb_1017</th>\n",
       "      <th>emb_1018</th>\n",
       "      <th>emb_1019</th>\n",
       "      <th>emb_1020</th>\n",
       "      <th>emb_1021</th>\n",
       "      <th>emb_1022</th>\n",
       "      <th>emb_1023</th>\n",
       "      <th>encoded</th>\n",
       "    </tr>\n",
       "  </thead>\n",
       "  <tbody>\n",
       "    <tr>\n",
       "      <th>145928</th>\n",
       "      <td>26.180069</td>\n",
       "      <td>0.220889</td>\n",
       "      <td>0.000000</td>\n",
       "      <td>9.993701</td>\n",
       "      <td>4.714709</td>\n",
       "      <td>7.362140</td>\n",
       "      <td>5.085289</td>\n",
       "      <td>11.345926</td>\n",
       "      <td>0.748165</td>\n",
       "      <td>6.173256</td>\n",
       "      <td>...</td>\n",
       "      <td>0.132060</td>\n",
       "      <td>22.709038</td>\n",
       "      <td>16.587280</td>\n",
       "      <td>19.878246</td>\n",
       "      <td>0.013346</td>\n",
       "      <td>13.872596</td>\n",
       "      <td>2.871491</td>\n",
       "      <td>11.026994</td>\n",
       "      <td>16.713268</td>\n",
       "      <td>124</td>\n",
       "    </tr>\n",
       "    <tr>\n",
       "      <th>145929</th>\n",
       "      <td>24.742603</td>\n",
       "      <td>0.200435</td>\n",
       "      <td>0.002628</td>\n",
       "      <td>9.110624</td>\n",
       "      <td>4.873423</td>\n",
       "      <td>7.371716</td>\n",
       "      <td>4.406344</td>\n",
       "      <td>11.353935</td>\n",
       "      <td>0.754496</td>\n",
       "      <td>6.220332</td>\n",
       "      <td>...</td>\n",
       "      <td>0.032054</td>\n",
       "      <td>21.257141</td>\n",
       "      <td>16.373040</td>\n",
       "      <td>19.117823</td>\n",
       "      <td>0.007599</td>\n",
       "      <td>12.737205</td>\n",
       "      <td>2.849313</td>\n",
       "      <td>10.418127</td>\n",
       "      <td>17.120789</td>\n",
       "      <td>124</td>\n",
       "    </tr>\n",
       "    <tr>\n",
       "      <th>145930</th>\n",
       "      <td>25.795140</td>\n",
       "      <td>0.234384</td>\n",
       "      <td>0.003789</td>\n",
       "      <td>9.951448</td>\n",
       "      <td>4.664169</td>\n",
       "      <td>7.506164</td>\n",
       "      <td>4.980003</td>\n",
       "      <td>11.782374</td>\n",
       "      <td>0.809662</td>\n",
       "      <td>6.745441</td>\n",
       "      <td>...</td>\n",
       "      <td>0.127152</td>\n",
       "      <td>22.743034</td>\n",
       "      <td>16.627304</td>\n",
       "      <td>20.068184</td>\n",
       "      <td>0.008365</td>\n",
       "      <td>13.494923</td>\n",
       "      <td>2.742984</td>\n",
       "      <td>11.040631</td>\n",
       "      <td>17.436588</td>\n",
       "      <td>124</td>\n",
       "    </tr>\n",
       "    <tr>\n",
       "      <th>145931</th>\n",
       "      <td>25.495125</td>\n",
       "      <td>0.211417</td>\n",
       "      <td>0.004887</td>\n",
       "      <td>9.314369</td>\n",
       "      <td>4.965889</td>\n",
       "      <td>7.146495</td>\n",
       "      <td>4.903326</td>\n",
       "      <td>11.411406</td>\n",
       "      <td>0.655503</td>\n",
       "      <td>6.296908</td>\n",
       "      <td>...</td>\n",
       "      <td>0.084845</td>\n",
       "      <td>21.955418</td>\n",
       "      <td>16.692295</td>\n",
       "      <td>19.712343</td>\n",
       "      <td>0.006469</td>\n",
       "      <td>13.174116</td>\n",
       "      <td>2.932083</td>\n",
       "      <td>10.581970</td>\n",
       "      <td>17.232552</td>\n",
       "      <td>124</td>\n",
       "    </tr>\n",
       "    <tr>\n",
       "      <th>145932</th>\n",
       "      <td>25.581253</td>\n",
       "      <td>0.225796</td>\n",
       "      <td>0.000000</td>\n",
       "      <td>9.377810</td>\n",
       "      <td>4.762380</td>\n",
       "      <td>7.138396</td>\n",
       "      <td>4.806961</td>\n",
       "      <td>11.593636</td>\n",
       "      <td>0.774952</td>\n",
       "      <td>6.184652</td>\n",
       "      <td>...</td>\n",
       "      <td>0.111792</td>\n",
       "      <td>22.126137</td>\n",
       "      <td>16.699970</td>\n",
       "      <td>19.933735</td>\n",
       "      <td>0.007867</td>\n",
       "      <td>13.178164</td>\n",
       "      <td>3.118279</td>\n",
       "      <td>10.969482</td>\n",
       "      <td>17.160313</td>\n",
       "      <td>124</td>\n",
       "    </tr>\n",
       "    <tr>\n",
       "      <th>...</th>\n",
       "      <td>...</td>\n",
       "      <td>...</td>\n",
       "      <td>...</td>\n",
       "      <td>...</td>\n",
       "      <td>...</td>\n",
       "      <td>...</td>\n",
       "      <td>...</td>\n",
       "      <td>...</td>\n",
       "      <td>...</td>\n",
       "      <td>...</td>\n",
       "      <td>...</td>\n",
       "      <td>...</td>\n",
       "      <td>...</td>\n",
       "      <td>...</td>\n",
       "      <td>...</td>\n",
       "      <td>...</td>\n",
       "      <td>...</td>\n",
       "      <td>...</td>\n",
       "      <td>...</td>\n",
       "      <td>...</td>\n",
       "      <td>...</td>\n",
       "    </tr>\n",
       "    <tr>\n",
       "      <th>146223</th>\n",
       "      <td>25.001709</td>\n",
       "      <td>0.215974</td>\n",
       "      <td>0.001937</td>\n",
       "      <td>9.400592</td>\n",
       "      <td>4.742292</td>\n",
       "      <td>7.453806</td>\n",
       "      <td>4.749603</td>\n",
       "      <td>11.563495</td>\n",
       "      <td>0.837918</td>\n",
       "      <td>6.449849</td>\n",
       "      <td>...</td>\n",
       "      <td>0.129452</td>\n",
       "      <td>21.748432</td>\n",
       "      <td>16.573650</td>\n",
       "      <td>19.487120</td>\n",
       "      <td>0.008833</td>\n",
       "      <td>13.053215</td>\n",
       "      <td>2.767794</td>\n",
       "      <td>10.614889</td>\n",
       "      <td>17.040684</td>\n",
       "      <td>124</td>\n",
       "    </tr>\n",
       "    <tr>\n",
       "      <th>146224</th>\n",
       "      <td>22.945711</td>\n",
       "      <td>0.241006</td>\n",
       "      <td>0.004616</td>\n",
       "      <td>8.739695</td>\n",
       "      <td>4.240620</td>\n",
       "      <td>6.814197</td>\n",
       "      <td>4.603584</td>\n",
       "      <td>10.732735</td>\n",
       "      <td>0.896932</td>\n",
       "      <td>5.890409</td>\n",
       "      <td>...</td>\n",
       "      <td>0.108794</td>\n",
       "      <td>20.506044</td>\n",
       "      <td>15.090419</td>\n",
       "      <td>17.904160</td>\n",
       "      <td>0.015723</td>\n",
       "      <td>12.372572</td>\n",
       "      <td>2.623968</td>\n",
       "      <td>9.955898</td>\n",
       "      <td>15.338508</td>\n",
       "      <td>124</td>\n",
       "    </tr>\n",
       "    <tr>\n",
       "      <th>146225</th>\n",
       "      <td>23.103670</td>\n",
       "      <td>0.210494</td>\n",
       "      <td>0.002255</td>\n",
       "      <td>8.564510</td>\n",
       "      <td>4.350123</td>\n",
       "      <td>6.618957</td>\n",
       "      <td>4.527407</td>\n",
       "      <td>10.436241</td>\n",
       "      <td>0.595899</td>\n",
       "      <td>5.751564</td>\n",
       "      <td>...</td>\n",
       "      <td>0.088650</td>\n",
       "      <td>19.640854</td>\n",
       "      <td>15.280188</td>\n",
       "      <td>17.806480</td>\n",
       "      <td>0.000008</td>\n",
       "      <td>11.925601</td>\n",
       "      <td>2.782704</td>\n",
       "      <td>9.458235</td>\n",
       "      <td>15.534393</td>\n",
       "      <td>124</td>\n",
       "    </tr>\n",
       "    <tr>\n",
       "      <th>146226</th>\n",
       "      <td>23.183155</td>\n",
       "      <td>0.190706</td>\n",
       "      <td>0.003064</td>\n",
       "      <td>8.414480</td>\n",
       "      <td>4.379067</td>\n",
       "      <td>6.527020</td>\n",
       "      <td>4.764158</td>\n",
       "      <td>10.297223</td>\n",
       "      <td>0.671150</td>\n",
       "      <td>5.891885</td>\n",
       "      <td>...</td>\n",
       "      <td>0.106993</td>\n",
       "      <td>19.974829</td>\n",
       "      <td>15.020350</td>\n",
       "      <td>18.036388</td>\n",
       "      <td>0.015865</td>\n",
       "      <td>12.060867</td>\n",
       "      <td>2.691703</td>\n",
       "      <td>9.576242</td>\n",
       "      <td>15.291817</td>\n",
       "      <td>124</td>\n",
       "    </tr>\n",
       "    <tr>\n",
       "      <th>146227</th>\n",
       "      <td>26.225739</td>\n",
       "      <td>0.248067</td>\n",
       "      <td>0.002333</td>\n",
       "      <td>10.104462</td>\n",
       "      <td>4.752747</td>\n",
       "      <td>7.655306</td>\n",
       "      <td>5.169471</td>\n",
       "      <td>12.095573</td>\n",
       "      <td>0.966987</td>\n",
       "      <td>6.531050</td>\n",
       "      <td>...</td>\n",
       "      <td>0.127283</td>\n",
       "      <td>23.470910</td>\n",
       "      <td>16.900478</td>\n",
       "      <td>20.397995</td>\n",
       "      <td>0.006118</td>\n",
       "      <td>13.775046</td>\n",
       "      <td>2.581168</td>\n",
       "      <td>11.272242</td>\n",
       "      <td>17.415667</td>\n",
       "      <td>124</td>\n",
       "    </tr>\n",
       "  </tbody>\n",
       "</table>\n",
       "<p>300 rows × 1025 columns</p>\n",
       "</div>"
      ],
      "text/plain": [
       "            emb_0     emb_1     emb_2      emb_3     emb_4     emb_5  \\\n",
       "145928  26.180069  0.220889  0.000000   9.993701  4.714709  7.362140   \n",
       "145929  24.742603  0.200435  0.002628   9.110624  4.873423  7.371716   \n",
       "145930  25.795140  0.234384  0.003789   9.951448  4.664169  7.506164   \n",
       "145931  25.495125  0.211417  0.004887   9.314369  4.965889  7.146495   \n",
       "145932  25.581253  0.225796  0.000000   9.377810  4.762380  7.138396   \n",
       "...           ...       ...       ...        ...       ...       ...   \n",
       "146223  25.001709  0.215974  0.001937   9.400592  4.742292  7.453806   \n",
       "146224  22.945711  0.241006  0.004616   8.739695  4.240620  6.814197   \n",
       "146225  23.103670  0.210494  0.002255   8.564510  4.350123  6.618957   \n",
       "146226  23.183155  0.190706  0.003064   8.414480  4.379067  6.527020   \n",
       "146227  26.225739  0.248067  0.002333  10.104462  4.752747  7.655306   \n",
       "\n",
       "           emb_6      emb_7     emb_8     emb_9  ...  emb_1015   emb_1016  \\\n",
       "145928  5.085289  11.345926  0.748165  6.173256  ...  0.132060  22.709038   \n",
       "145929  4.406344  11.353935  0.754496  6.220332  ...  0.032054  21.257141   \n",
       "145930  4.980003  11.782374  0.809662  6.745441  ...  0.127152  22.743034   \n",
       "145931  4.903326  11.411406  0.655503  6.296908  ...  0.084845  21.955418   \n",
       "145932  4.806961  11.593636  0.774952  6.184652  ...  0.111792  22.126137   \n",
       "...          ...        ...       ...       ...  ...       ...        ...   \n",
       "146223  4.749603  11.563495  0.837918  6.449849  ...  0.129452  21.748432   \n",
       "146224  4.603584  10.732735  0.896932  5.890409  ...  0.108794  20.506044   \n",
       "146225  4.527407  10.436241  0.595899  5.751564  ...  0.088650  19.640854   \n",
       "146226  4.764158  10.297223  0.671150  5.891885  ...  0.106993  19.974829   \n",
       "146227  5.169471  12.095573  0.966987  6.531050  ...  0.127283  23.470910   \n",
       "\n",
       "         emb_1017   emb_1018  emb_1019   emb_1020  emb_1021   emb_1022  \\\n",
       "145928  16.587280  19.878246  0.013346  13.872596  2.871491  11.026994   \n",
       "145929  16.373040  19.117823  0.007599  12.737205  2.849313  10.418127   \n",
       "145930  16.627304  20.068184  0.008365  13.494923  2.742984  11.040631   \n",
       "145931  16.692295  19.712343  0.006469  13.174116  2.932083  10.581970   \n",
       "145932  16.699970  19.933735  0.007867  13.178164  3.118279  10.969482   \n",
       "...           ...        ...       ...        ...       ...        ...   \n",
       "146223  16.573650  19.487120  0.008833  13.053215  2.767794  10.614889   \n",
       "146224  15.090419  17.904160  0.015723  12.372572  2.623968   9.955898   \n",
       "146225  15.280188  17.806480  0.000008  11.925601  2.782704   9.458235   \n",
       "146226  15.020350  18.036388  0.015865  12.060867  2.691703   9.576242   \n",
       "146227  16.900478  20.397995  0.006118  13.775046  2.581168  11.272242   \n",
       "\n",
       "         emb_1023  encoded  \n",
       "145928  16.713268      124  \n",
       "145929  17.120789      124  \n",
       "145930  17.436588      124  \n",
       "145931  17.232552      124  \n",
       "145932  17.160313      124  \n",
       "...           ...      ...  \n",
       "146223  17.040684      124  \n",
       "146224  15.338508      124  \n",
       "146225  15.534393      124  \n",
       "146226  15.291817      124  \n",
       "146227  17.415667      124  \n",
       "\n",
       "[300 rows x 1025 columns]"
      ]
     },
     "execution_count": 112,
     "metadata": {},
     "output_type": "execute_result"
    }
   ],
   "source": [
    "X_train.loc[(y_train[43]==6.8917)]"
   ]
  },
  {
   "cell_type": "code",
   "execution_count": 156,
   "metadata": {},
   "outputs": [],
   "source": [
    "from catboost import CatBoostRegressor, Pool\n",
    "catboost_params = {\n",
    "    'learning_rate': 0.02630211356708753,\n",
    "#  'n_estimators': 1504, \n",
    " 'depth': 4,\n",
    "  'l2_leaf_reg': 0.07716793735981385, \n",
    "  'random_strength': 0.06958526592360514,\n",
    "   'bagging_temperature': 0.27240920717632877\n",
    "   }"
   ]
  },
  {
   "cell_type": "code",
   "execution_count": null,
   "metadata": {},
   "outputs": [],
   "source": []
  },
  {
   "cell_type": "code",
   "execution_count": 161,
   "metadata": {},
   "outputs": [
    {
     "name": "stdout",
     "output_type": "stream",
     "text": [
      "0:\tlearn: 3.4632307\ttotal: 1.04s\tremaining: 1m 43s\n",
      "10:\tlearn: 3.4536451\ttotal: 10.5s\tremaining: 1m 25s\n",
      "20:\tlearn: 3.4469284\ttotal: 20s\tremaining: 1m 15s\n",
      "30:\tlearn: 3.4420321\ttotal: 29s\tremaining: 1m 4s\n",
      "40:\tlearn: 3.4382853\ttotal: 38.2s\tremaining: 54.9s\n",
      "50:\tlearn: 3.4353259\ttotal: 46.2s\tremaining: 44.3s\n",
      "60:\tlearn: 3.4327416\ttotal: 54.9s\tremaining: 35.1s\n",
      "70:\tlearn: 3.4305586\ttotal: 1m 3s\tremaining: 26.1s\n",
      "80:\tlearn: 3.4286385\ttotal: 1m 13s\tremaining: 17.3s\n",
      "90:\tlearn: 3.4269761\ttotal: 1m 22s\tremaining: 8.16s\n",
      "99:\tlearn: 3.4256062\ttotal: 1m 29s\tremaining: 0us\n",
      "0.01083071526870549\n"
     ]
    }
   ],
   "source": [
    "cb_reg = CatBoostRegressor(\n",
    "    objective='MultiRMSE',\n",
    "    verbose=10,\n",
    "    #  num_boost_round=100,\n",
    "    **catboost_params\n",
    "    # learning_rate=0.1,\n",
    "    # n_estimators=10,\n",
    "    #    num_boost_round=10\n",
    ")\n",
    "cb_reg.fit(X_train.values, y_train)\n",
    "cb_pred2 = cb_reg.predict(X_test.values)\n",
    "print(r2_score(y_test, cb_pred2))\n",
    "# pd.DataFrame(cb_pred, columns=['Y1', 'Y2'])"
   ]
  },
  {
   "cell_type": "code",
   "execution_count": 162,
   "metadata": {},
   "outputs": [],
   "source": [
    "# from sklearn.model_selection import RandomizedSearchCV\n",
    "# from sklearn.ensemble import RandomForestRegressor\n",
    "# from sklearn.metrics import r2_score, mean_squared_error\n",
    "# import numpy as np\n",
    "\n",
    "# # Define parameter grid for RandomForestRegressor\n",
    "# param_grid = {\n",
    "#     'n_estimators': [100, 150, 200],\n",
    "#     'max_depth': [None, 10, 20, 30],\n",
    "#     'min_samples_split': [2, 5, 10],\n",
    "#     'min_samples_leaf': [1, 2, 4],\n",
    "#     'max_features': ['auto', 'sqrt', 'log2']\n",
    "# }\n",
    "\n",
    "# # Initialize the RandomForestRegressor\n",
    "# rf = RandomForestRegressor(n_jobs=-1)\n",
    "\n",
    "# # RandomizedSearchCV for lightweight optimization\n",
    "# random_search = RandomizedSearchCV(\n",
    "#     estimator=rf,\n",
    "#     param_distributions=param_grid,\n",
    "#     n_iter=20,  # Number of parameter settings to sample\n",
    "#     cv=3,  # Number of folds for cross-validation\n",
    "#     scoring='r2',\n",
    "#     verbose=1,\n",
    "#     random_state=42,\n",
    "#     n_jobs=-1)\n",
    "\n",
    "# # Fit the random search to the data\n",
    "# random_search.fit(X_train, y_train.values)  # Flatten y_train for regression\n",
    "\n",
    "# # Best parameters and evaluation\n",
    "# best_model = random_search.best_estimator_\n",
    "# print(f\"Best Parameters: {random_search.best_params_}\")\n",
    "\n",
    "# # Evaluate the best model\n",
    "# y_pred = best_model.predict(X_test)\n",
    "# print(f\"R2 Score: {r2_score(y_test, y_pred)}\")\n",
    "# print(f\"Mean Squared Error: {mean_squared_error(y_test, y_pred)}\")\n"
   ]
  },
  {
   "cell_type": "code",
   "execution_count": 163,
   "metadata": {},
   "outputs": [],
   "source": [
    "# import lightgbm as lgb\n",
    "# from sklearn.metrics import r2_score\n",
    "# import numpy as np\n",
    "\n",
    "# correls = []\n",
    "# # Assuming y_train and y_test are numpy arrays with shape (n_samples, n_targets)\n",
    "# for i in range(y_train.shape[1]):  # Loop over each target variable\n",
    "#     # Prepare the LightGBM dataset\n",
    "#     train_data = lgb.Dataset(X_train, label=y_train.values[:, i])\n",
    "#     test_data = lgb.Dataset(X_test,\n",
    "#                             label=y_test.values[:, i],\n",
    "#                             reference=train_data)\n",
    "\n",
    "#     # Set parameters\n",
    "#     params = {\n",
    "#         'objective': 'regression',\n",
    "#         'metric': 'rmse',\n",
    "#         'boosting_type': 'gbdt',\n",
    "#         'n_jobs': -1,\n",
    "#         'verbosity': -1,\n",
    "#         # 'num_leaves': 500,  # Large number of leaves to increase complexity\n",
    "#         # 'max_depth': -1,  # No depth limit\n",
    "#         # 'min_data_in_leaf': 1,  # Allow very small leaves\n",
    "#         # 'min_child_samples': 1,  # Reduce the minimum data per child\n",
    "#         # 'lambda_l1': 0,  # No L1 regularization\n",
    "#         # 'lambda_l2': 0,  # No L2 regularization\n",
    "#         # 'learning_rate': 0.1,  # Larger learning rate for faster overfitting\n",
    "#         # 'feature_fraction': 1.0,  # Use all features\n",
    "#         # 'bagging_fraction': 1.0,  # Use all data\n",
    "#         # 'bagging_freq': 0,  # No bagging\n",
    "#     }\n",
    "\n",
    "#     # Train the model\n",
    "#     model = lgb.train(\n",
    "#         params,\n",
    "#         train_data,\n",
    "#         num_boost_round=100,\n",
    "#         valid_sets=[train_data, test_data],\n",
    "#         valid_names=['train', 'valid'],\n",
    "#         #   early_stopping_rounds=10,\n",
    "#         # verbose_eval=False\n",
    "#     )\n",
    "\n",
    "#     # Make predictions\n",
    "#     y_pred = model.predict(X_test)\n",
    "\n",
    "#     # Evaluate the model\n",
    "#     r2 = r2_score(y_test.values[:, i], y_pred)\n",
    "#     print(f\"R2 score for target {i}: {r2}\")\n",
    "#     print(\n",
    "#         np.corrcoef(y_test.values[:, i].flatten().astype(float),\n",
    "#                     y_pred.flatten()))\n",
    "\n",
    "#     correls.append(\n",
    "#         np.corrcoef(y_test.values[:, i].flatten().astype(float),\n",
    "#                     y_pred.flatten()))\n"
   ]
  },
  {
   "cell_type": "code",
   "execution_count": 164,
   "metadata": {},
   "outputs": [
    {
     "data": {
      "text/html": [
       "<div>\n",
       "<style scoped>\n",
       "    .dataframe tbody tr th:only-of-type {\n",
       "        vertical-align: middle;\n",
       "    }\n",
       "\n",
       "    .dataframe tbody tr th {\n",
       "        vertical-align: top;\n",
       "    }\n",
       "\n",
       "    .dataframe thead th {\n",
       "        text-align: right;\n",
       "    }\n",
       "</style>\n",
       "<table border=\"1\" class=\"dataframe\">\n",
       "  <thead>\n",
       "    <tr style=\"text-align: right;\">\n",
       "      <th></th>\n",
       "      <th>43</th>\n",
       "      <th>86</th>\n",
       "      <th>28</th>\n",
       "      <th>101</th>\n",
       "      <th>67</th>\n",
       "      <th>2</th>\n",
       "      <th>75</th>\n",
       "      <th>70</th>\n",
       "      <th>40</th>\n",
       "      <th>59</th>\n",
       "      <th>...</th>\n",
       "      <th>117</th>\n",
       "      <th>34</th>\n",
       "      <th>8</th>\n",
       "      <th>114</th>\n",
       "      <th>71</th>\n",
       "      <th>62</th>\n",
       "      <th>110</th>\n",
       "      <th>27</th>\n",
       "      <th>4</th>\n",
       "      <th>20</th>\n",
       "    </tr>\n",
       "  </thead>\n",
       "  <tbody>\n",
       "    <tr>\n",
       "      <th>6900</th>\n",
       "      <td>6.8917</td>\n",
       "      <td>4.9819</td>\n",
       "      <td>8.3105</td>\n",
       "      <td>7.5195</td>\n",
       "      <td>8.0056</td>\n",
       "      <td>6.1413</td>\n",
       "      <td>7.5476</td>\n",
       "      <td>6.3456</td>\n",
       "      <td>7.4366</td>\n",
       "      <td>8.3753</td>\n",
       "      <td>...</td>\n",
       "      <td>9.0258</td>\n",
       "      <td>6.0745</td>\n",
       "      <td>7.9093</td>\n",
       "      <td>8.9901</td>\n",
       "      <td>9.0772</td>\n",
       "      <td>6.4052</td>\n",
       "      <td>8.9667</td>\n",
       "      <td>6.5934</td>\n",
       "      <td>7.3979</td>\n",
       "      <td>6.6269</td>\n",
       "    </tr>\n",
       "    <tr>\n",
       "      <th>6901</th>\n",
       "      <td>6.8917</td>\n",
       "      <td>4.9819</td>\n",
       "      <td>8.3105</td>\n",
       "      <td>7.5195</td>\n",
       "      <td>8.0056</td>\n",
       "      <td>6.1413</td>\n",
       "      <td>7.5476</td>\n",
       "      <td>6.3456</td>\n",
       "      <td>7.4366</td>\n",
       "      <td>8.3753</td>\n",
       "      <td>...</td>\n",
       "      <td>9.0258</td>\n",
       "      <td>6.0745</td>\n",
       "      <td>7.9093</td>\n",
       "      <td>8.9901</td>\n",
       "      <td>9.0772</td>\n",
       "      <td>6.4052</td>\n",
       "      <td>8.9667</td>\n",
       "      <td>6.5934</td>\n",
       "      <td>7.3979</td>\n",
       "      <td>6.6269</td>\n",
       "    </tr>\n",
       "    <tr>\n",
       "      <th>6902</th>\n",
       "      <td>6.8917</td>\n",
       "      <td>4.9819</td>\n",
       "      <td>8.3105</td>\n",
       "      <td>7.5195</td>\n",
       "      <td>8.0056</td>\n",
       "      <td>6.1413</td>\n",
       "      <td>7.5476</td>\n",
       "      <td>6.3456</td>\n",
       "      <td>7.4366</td>\n",
       "      <td>8.3753</td>\n",
       "      <td>...</td>\n",
       "      <td>9.0258</td>\n",
       "      <td>6.0745</td>\n",
       "      <td>7.9093</td>\n",
       "      <td>8.9901</td>\n",
       "      <td>9.0772</td>\n",
       "      <td>6.4052</td>\n",
       "      <td>8.9667</td>\n",
       "      <td>6.5934</td>\n",
       "      <td>7.3979</td>\n",
       "      <td>6.6269</td>\n",
       "    </tr>\n",
       "    <tr>\n",
       "      <th>6903</th>\n",
       "      <td>6.8917</td>\n",
       "      <td>4.9819</td>\n",
       "      <td>8.3105</td>\n",
       "      <td>7.5195</td>\n",
       "      <td>8.0056</td>\n",
       "      <td>6.1413</td>\n",
       "      <td>7.5476</td>\n",
       "      <td>6.3456</td>\n",
       "      <td>7.4366</td>\n",
       "      <td>8.3753</td>\n",
       "      <td>...</td>\n",
       "      <td>9.0258</td>\n",
       "      <td>6.0745</td>\n",
       "      <td>7.9093</td>\n",
       "      <td>8.9901</td>\n",
       "      <td>9.0772</td>\n",
       "      <td>6.4052</td>\n",
       "      <td>8.9667</td>\n",
       "      <td>6.5934</td>\n",
       "      <td>7.3979</td>\n",
       "      <td>6.6269</td>\n",
       "    </tr>\n",
       "    <tr>\n",
       "      <th>6904</th>\n",
       "      <td>6.8917</td>\n",
       "      <td>4.9819</td>\n",
       "      <td>8.3105</td>\n",
       "      <td>7.5195</td>\n",
       "      <td>8.0056</td>\n",
       "      <td>6.1413</td>\n",
       "      <td>7.5476</td>\n",
       "      <td>6.3456</td>\n",
       "      <td>7.4366</td>\n",
       "      <td>8.3753</td>\n",
       "      <td>...</td>\n",
       "      <td>9.0258</td>\n",
       "      <td>6.0745</td>\n",
       "      <td>7.9093</td>\n",
       "      <td>8.9901</td>\n",
       "      <td>9.0772</td>\n",
       "      <td>6.4052</td>\n",
       "      <td>8.9667</td>\n",
       "      <td>6.5934</td>\n",
       "      <td>7.3979</td>\n",
       "      <td>6.6269</td>\n",
       "    </tr>\n",
       "    <tr>\n",
       "      <th>...</th>\n",
       "      <td>...</td>\n",
       "      <td>...</td>\n",
       "      <td>...</td>\n",
       "      <td>...</td>\n",
       "      <td>...</td>\n",
       "      <td>...</td>\n",
       "      <td>...</td>\n",
       "      <td>...</td>\n",
       "      <td>...</td>\n",
       "      <td>...</td>\n",
       "      <td>...</td>\n",
       "      <td>...</td>\n",
       "      <td>...</td>\n",
       "      <td>...</td>\n",
       "      <td>...</td>\n",
       "      <td>...</td>\n",
       "      <td>...</td>\n",
       "      <td>...</td>\n",
       "      <td>...</td>\n",
       "      <td>...</td>\n",
       "      <td>...</td>\n",
       "    </tr>\n",
       "    <tr>\n",
       "      <th>399478</th>\n",
       "      <td>7.4709</td>\n",
       "      <td>5.5516</td>\n",
       "      <td>8.3982</td>\n",
       "      <td>7.8367</td>\n",
       "      <td>8.4115</td>\n",
       "      <td>7.3404</td>\n",
       "      <td>8.7977</td>\n",
       "      <td>7.6047</td>\n",
       "      <td>7.951</td>\n",
       "      <td>8.3318</td>\n",
       "      <td>...</td>\n",
       "      <td>8.7331</td>\n",
       "      <td>5.8354</td>\n",
       "      <td>8.0515</td>\n",
       "      <td>9.6339</td>\n",
       "      <td>7.6517</td>\n",
       "      <td>6.7537</td>\n",
       "      <td>8.526</td>\n",
       "      <td>5.095</td>\n",
       "      <td>8.211</td>\n",
       "      <td>6.5788</td>\n",
       "    </tr>\n",
       "    <tr>\n",
       "      <th>399479</th>\n",
       "      <td>7.4709</td>\n",
       "      <td>5.5516</td>\n",
       "      <td>8.3982</td>\n",
       "      <td>7.8367</td>\n",
       "      <td>8.4115</td>\n",
       "      <td>7.3404</td>\n",
       "      <td>8.7977</td>\n",
       "      <td>7.6047</td>\n",
       "      <td>7.951</td>\n",
       "      <td>8.3318</td>\n",
       "      <td>...</td>\n",
       "      <td>8.7331</td>\n",
       "      <td>5.8354</td>\n",
       "      <td>8.0515</td>\n",
       "      <td>9.6339</td>\n",
       "      <td>7.6517</td>\n",
       "      <td>6.7537</td>\n",
       "      <td>8.526</td>\n",
       "      <td>5.095</td>\n",
       "      <td>8.211</td>\n",
       "      <td>6.5788</td>\n",
       "    </tr>\n",
       "    <tr>\n",
       "      <th>399480</th>\n",
       "      <td>7.4709</td>\n",
       "      <td>5.5516</td>\n",
       "      <td>8.3982</td>\n",
       "      <td>7.8367</td>\n",
       "      <td>8.4115</td>\n",
       "      <td>7.3404</td>\n",
       "      <td>8.7977</td>\n",
       "      <td>7.6047</td>\n",
       "      <td>7.951</td>\n",
       "      <td>8.3318</td>\n",
       "      <td>...</td>\n",
       "      <td>8.7331</td>\n",
       "      <td>5.8354</td>\n",
       "      <td>8.0515</td>\n",
       "      <td>9.6339</td>\n",
       "      <td>7.6517</td>\n",
       "      <td>6.7537</td>\n",
       "      <td>8.526</td>\n",
       "      <td>5.095</td>\n",
       "      <td>8.211</td>\n",
       "      <td>6.5788</td>\n",
       "    </tr>\n",
       "    <tr>\n",
       "      <th>399481</th>\n",
       "      <td>7.4709</td>\n",
       "      <td>5.5516</td>\n",
       "      <td>8.3982</td>\n",
       "      <td>7.8367</td>\n",
       "      <td>8.4115</td>\n",
       "      <td>7.3404</td>\n",
       "      <td>8.7977</td>\n",
       "      <td>7.6047</td>\n",
       "      <td>7.951</td>\n",
       "      <td>8.3318</td>\n",
       "      <td>...</td>\n",
       "      <td>8.7331</td>\n",
       "      <td>5.8354</td>\n",
       "      <td>8.0515</td>\n",
       "      <td>9.6339</td>\n",
       "      <td>7.6517</td>\n",
       "      <td>6.7537</td>\n",
       "      <td>8.526</td>\n",
       "      <td>5.095</td>\n",
       "      <td>8.211</td>\n",
       "      <td>6.5788</td>\n",
       "    </tr>\n",
       "    <tr>\n",
       "      <th>399482</th>\n",
       "      <td>7.4709</td>\n",
       "      <td>5.5516</td>\n",
       "      <td>8.3982</td>\n",
       "      <td>7.8367</td>\n",
       "      <td>8.4115</td>\n",
       "      <td>7.3404</td>\n",
       "      <td>8.7977</td>\n",
       "      <td>7.6047</td>\n",
       "      <td>7.951</td>\n",
       "      <td>8.3318</td>\n",
       "      <td>...</td>\n",
       "      <td>8.7331</td>\n",
       "      <td>5.8354</td>\n",
       "      <td>8.0515</td>\n",
       "      <td>9.6339</td>\n",
       "      <td>7.6517</td>\n",
       "      <td>6.7537</td>\n",
       "      <td>8.526</td>\n",
       "      <td>5.095</td>\n",
       "      <td>8.211</td>\n",
       "      <td>6.5788</td>\n",
       "    </tr>\n",
       "  </tbody>\n",
       "</table>\n",
       "<p>80100 rows × 35 columns</p>\n",
       "</div>"
      ],
      "text/plain": [
       "           43      86      28      101     67      2       75      70   \\\n",
       "6900    6.8917  4.9819  8.3105  7.5195  8.0056  6.1413  7.5476  6.3456   \n",
       "6901    6.8917  4.9819  8.3105  7.5195  8.0056  6.1413  7.5476  6.3456   \n",
       "6902    6.8917  4.9819  8.3105  7.5195  8.0056  6.1413  7.5476  6.3456   \n",
       "6903    6.8917  4.9819  8.3105  7.5195  8.0056  6.1413  7.5476  6.3456   \n",
       "6904    6.8917  4.9819  8.3105  7.5195  8.0056  6.1413  7.5476  6.3456   \n",
       "...        ...     ...     ...     ...     ...     ...     ...     ...   \n",
       "399478  7.4709  5.5516  8.3982  7.8367  8.4115  7.3404  8.7977  7.6047   \n",
       "399479  7.4709  5.5516  8.3982  7.8367  8.4115  7.3404  8.7977  7.6047   \n",
       "399480  7.4709  5.5516  8.3982  7.8367  8.4115  7.3404  8.7977  7.6047   \n",
       "399481  7.4709  5.5516  8.3982  7.8367  8.4115  7.3404  8.7977  7.6047   \n",
       "399482  7.4709  5.5516  8.3982  7.8367  8.4115  7.3404  8.7977  7.6047   \n",
       "\n",
       "           40      59   ...     117     34      8       114     71      62   \\\n",
       "6900    7.4366  8.3753  ...  9.0258  6.0745  7.9093  8.9901  9.0772  6.4052   \n",
       "6901    7.4366  8.3753  ...  9.0258  6.0745  7.9093  8.9901  9.0772  6.4052   \n",
       "6902    7.4366  8.3753  ...  9.0258  6.0745  7.9093  8.9901  9.0772  6.4052   \n",
       "6903    7.4366  8.3753  ...  9.0258  6.0745  7.9093  8.9901  9.0772  6.4052   \n",
       "6904    7.4366  8.3753  ...  9.0258  6.0745  7.9093  8.9901  9.0772  6.4052   \n",
       "...        ...     ...  ...     ...     ...     ...     ...     ...     ...   \n",
       "399478   7.951  8.3318  ...  8.7331  5.8354  8.0515  9.6339  7.6517  6.7537   \n",
       "399479   7.951  8.3318  ...  8.7331  5.8354  8.0515  9.6339  7.6517  6.7537   \n",
       "399480   7.951  8.3318  ...  8.7331  5.8354  8.0515  9.6339  7.6517  6.7537   \n",
       "399481   7.951  8.3318  ...  8.7331  5.8354  8.0515  9.6339  7.6517  6.7537   \n",
       "399482   7.951  8.3318  ...  8.7331  5.8354  8.0515  9.6339  7.6517  6.7537   \n",
       "\n",
       "           110     27      4       20   \n",
       "6900    8.9667  6.5934  7.3979  6.6269  \n",
       "6901    8.9667  6.5934  7.3979  6.6269  \n",
       "6902    8.9667  6.5934  7.3979  6.6269  \n",
       "6903    8.9667  6.5934  7.3979  6.6269  \n",
       "6904    8.9667  6.5934  7.3979  6.6269  \n",
       "...        ...     ...     ...     ...  \n",
       "399478   8.526   5.095   8.211  6.5788  \n",
       "399479   8.526   5.095   8.211  6.5788  \n",
       "399480   8.526   5.095   8.211  6.5788  \n",
       "399481   8.526   5.095   8.211  6.5788  \n",
       "399482   8.526   5.095   8.211  6.5788  \n",
       "\n",
       "[80100 rows x 35 columns]"
      ]
     },
     "execution_count": 164,
     "metadata": {},
     "output_type": "execute_result"
    }
   ],
   "source": [
    "y_test"
   ]
  },
  {
   "cell_type": "code",
   "execution_count": 166,
   "metadata": {},
   "outputs": [
    {
     "name": "stderr",
     "output_type": "stream",
     "text": [
      "/tmp/ipykernel_305264/3367327688.py:3: DeprecationWarning: DataFrameGroupBy.apply operated on the grouping columns. This behavior is deprecated, and in a future version of pandas the grouping columns will be excluded from the operation. Either pass `include_groups=False` to exclude the groupings or explicitly select the grouping columns after groupby to silence this warning.\n",
      "  for aggr  in y_test.reset_index(drop=True).groupby([43,86]).apply(lambda x: x.index).tolist():\n"
     ]
    }
   ],
   "source": [
    "final_labels = []\n",
    "final_preds = []\n",
    "for aggr  in y_test.reset_index(drop=True).groupby([43,86]).apply(lambda x: x.index).tolist():\n",
    "    true_lbl = y_test.iloc[aggr,:].iloc[0].values.flatten()\n",
    "\n",
    "    mean_pred = cb_pred2[aggr,:].mean(axis=0)\n",
    "    final_labels.append(true_lbl)\n",
    "    final_preds.append(mean_pred)\n",
    "    "
   ]
  },
  {
   "cell_type": "code",
   "execution_count": 122,
   "metadata": {},
   "outputs": [
    {
     "data": {
      "text/plain": [
       "array([7.1757, 5.79, 7.5534, 6.0288, 7.7661, 8.0182, 7.8204, 4.8732,\n",
       "       6.9005, 8.3245, 8.0928, 7.8061, 8.5346, 8.4498, 6.3679, 9.1646,\n",
       "       8.2125, 7.8604, 5.7166, 7.4328, 6.8112, 7.4804, 7.2173, 9.0975,\n",
       "       9.38, 9.0369, 5.9333, 8.321, 9.3635, 9.5174, 5.9692, 7.7409,\n",
       "       8.4282, 7.6551, 7.8563], dtype=object)"
      ]
     },
     "execution_count": 122,
     "metadata": {},
     "output_type": "execute_result"
    }
   ],
   "source": [
    "final_labels = []\n",
    "final_preds = []\n",
    "for aggr  in X_test.reset_index(drop=True).groupby('encoded').apply(lambda x: x.index).tolist():\n",
    "    true_lbl = y_test.iloc[aggr,:].iloc[0].values.flatten()\n",
    "\n",
    "    mean_pred = y_pred[aggr, :].mean(axis=0)\n",
    "    final_labels.append(true_lbl)\n",
    "    final_preds.append(mean_pred)\n",
    "    "
   ]
  },
  {
   "cell_type": "code",
   "execution_count": 167,
   "metadata": {},
   "outputs": [
    {
     "data": {
      "text/plain": [
       "array([7.13184887, 5.11677456, 7.98805042, 6.92283697, 7.76362939,\n",
       "       6.86805252, 8.08687325, 7.3952236 , 7.72707894, 8.5069588 ,\n",
       "       7.25995618, 8.51542005, 8.39160439, 8.17873732, 6.87877819,\n",
       "       9.13332485, 8.03420487, 8.08432818, 6.1579365 , 7.84596953,\n",
       "       6.819671  , 7.55952027, 7.19518375, 8.67961715, 9.48546696,\n",
       "       9.00624099, 5.96442904, 7.94977095, 9.25944806, 8.54552118,\n",
       "       6.68880167, 8.36041701, 6.46788936, 7.84768578, 7.08968083])"
      ]
     },
     "execution_count": 167,
     "metadata": {},
     "output_type": "execute_result"
    }
   ],
   "source": [
    "mean_pred"
   ]
  },
  {
   "cell_type": "code",
   "execution_count": 170,
   "metadata": {},
   "outputs": [
    {
     "data": {
      "text/plain": [
       "0.018052570691938323"
      ]
     },
     "execution_count": 170,
     "metadata": {},
     "output_type": "execute_result"
    }
   ],
   "source": [
    "r2_score(np.stack(final_labels),np.stack(final_preds))"
   ]
  },
  {
   "cell_type": "code",
   "execution_count": 171,
   "metadata": {},
   "outputs": [],
   "source": [
    "from scipy import stats\n",
    "correls = []\n",
    "for i in range(len(target_labels)):\n",
    "    correls.append(\n",
    "        stats.spearmanr(np.stack(final_labels)[:, i].flatten().astype(float),\n",
    "                        np.stack(final_preds)[:, i].flatten()).statistic)"
   ]
  },
  {
   "cell_type": "code",
   "execution_count": 172,
   "metadata": {},
   "outputs": [
    {
     "data": {
      "text/plain": [
       "(229, 35)"
      ]
     },
     "execution_count": 172,
     "metadata": {},
     "output_type": "execute_result"
    }
   ],
   "source": [
    "np.stack(final_labels).shape"
   ]
  },
  {
   "cell_type": "code",
   "execution_count": 227,
   "metadata": {},
   "outputs": [],
   "source": []
  },
  {
   "cell_type": "code",
   "execution_count": 173,
   "metadata": {},
   "outputs": [],
   "source": [
    "corrlesb = []\n",
    "for i in range(len(target_labels)):\n",
    "    corrlesb.append(\n",
    "        stats.spearmanr(y_test.values[:, i].flatten().astype(float),\n",
    "                        y_pred[:, i].flatten()))"
   ]
  },
  {
   "cell_type": "code",
   "execution_count": 174,
   "metadata": {},
   "outputs": [],
   "source": [
    "correls = []\n",
    "for i in range(len(target_labels)):\n",
    "    correls.append(\n",
    "        np.corrcoef(y_test.values[:, i].flatten().astype(float),\n",
    "                    y_pred[:, i].flatten())[0, 1])\n",
    "\n",
    "\n",
    "    # plt.scatter(y_test.values[:, i].flatten().astype(float), y_pred[:, i].flatten())\n",
    "    "
   ]
  },
  {
   "cell_type": "code",
   "execution_count": 175,
   "metadata": {},
   "outputs": [
    {
     "data": {
      "text/plain": [
       "[0.32276974054496005,\n",
       " 0.2985183556979867,\n",
       " 0.24392034491662445,\n",
       " 0.23591443177536522,\n",
       " 0.23498911727933167,\n",
       " 0.22398720453904633,\n",
       " 0.21868946251539145,\n",
       " 0.20640192859648313,\n",
       " 0.2034264608548269,\n",
       " 0.1935834292010516,\n",
       " 0.14995647361493086,\n",
       " 0.13684116092676313,\n",
       " 0.1313444497683255,\n",
       " 0.12585665554708908,\n",
       " 0.12209245025231018,\n",
       " 0.11679853814526263,\n",
       " 0.10144900270720353,\n",
       " 0.09901416237823309,\n",
       " 0.09811003350930055,\n",
       " 0.08627898332217165,\n",
       " 0.08570129866425809,\n",
       " 0.07580108970274883,\n",
       " 0.07306249735854711,\n",
       " 0.07174176279432504,\n",
       " 0.0715962832343796,\n",
       " 0.07073612792474719,\n",
       " 0.06742594512478889,\n",
       " 0.05859475811533238,\n",
       " 0.04844227303686459,\n",
       " 0.04177162341554563,\n",
       " 0.014356549259008375,\n",
       " 0.003107105614805087,\n",
       " 0.001043757222117596,\n",
       " -0.004698625629684702,\n",
       " -0.018222008478179435]"
      ]
     },
     "execution_count": 175,
     "metadata": {},
     "output_type": "execute_result"
    }
   ],
   "source": [
    "sorted(correls)[::-1]"
   ]
  },
  {
   "cell_type": "code",
   "execution_count": 91,
   "metadata": {},
   "outputs": [],
   "source": [
    "# for i in range(len(target_labels)):\n",
    "#     model = RandomForestRegressor()\n",
    "#     model.fit(X_train, y_train.values[:, i])\n",
    "\n",
    "#     # Make predictions\n",
    "#     y_pred = model.predict(X_test)\n",
    "#     # print(mean_squared_error(y_test.flatten(), y_pred.flatten()))\n",
    "#     print(r2_score(y_test.values[:, i], y_pred))\n",
    "#     print(\n",
    "#         np.corrcoef(y_test.values[:, i].flatten().astype(float),\n",
    "#                     y_pred.flatten())[0, 1])"
   ]
  },
  {
   "cell_type": "code",
   "execution_count": 92,
   "metadata": {},
   "outputs": [
    {
     "data": {
      "text/plain": [
       "(80100, 35)"
      ]
     },
     "execution_count": 92,
     "metadata": {},
     "output_type": "execute_result"
    }
   ],
   "source": [
    "y_test.shape"
   ]
  },
  {
   "cell_type": "code",
   "execution_count": 93,
   "metadata": {},
   "outputs": [],
   "source": [
    "def find_vector_duplicates(array1, array2):\n",
    "    # Convert each vector to a tuple for hashable comparison\n",
    "    set1 = {tuple(vec) for vec in array1}\n",
    "    duplicates = [vec for vec in array2 if tuple(vec) in set1]\n",
    "    return duplicates"
   ]
  },
  {
   "attachments": {},
   "cell_type": "markdown",
   "metadata": {},
   "source": []
  },
  {
   "cell_type": "code",
   "execution_count": 94,
   "metadata": {},
   "outputs": [
    {
     "data": {
      "text/plain": [
       "[0.23591443177536522,\n",
       " 0.14995647361493086,\n",
       " 0.24392034491662445,\n",
       " 0.04177162341554563,\n",
       " 0.06742594512478889,\n",
       " 0.07306249735854711,\n",
       " 0.23498911727933167,\n",
       " 0.014356549259008375,\n",
       " 0.10144900270720353,\n",
       " 0.2985183556979867,\n",
       " 0.05859475811533238,\n",
       " 0.2034264608548269,\n",
       " 0.21868946251539145,\n",
       " 0.003107105614805087,\n",
       " 0.0715962832343796,\n",
       " 0.07580108970274883,\n",
       " 0.32276974054496005,\n",
       " 0.1935834292010516,\n",
       " -0.018222008478179435,\n",
       " 0.001043757222117596,\n",
       " 0.04844227303686459,\n",
       " 0.09811003350930055,\n",
       " 0.12209245025231018,\n",
       " 0.1313444497683255,\n",
       " 0.08570129866425809,\n",
       " 0.12585665554708908,\n",
       " 0.07073612792474719,\n",
       " 0.07174176279432504,\n",
       " 0.09901416237823309,\n",
       " -0.004698625629684702,\n",
       " 0.22398720453904633,\n",
       " 0.20640192859648313,\n",
       " 0.11679853814526263,\n",
       " 0.08627898332217165,\n",
       " 0.13684116092676313]"
      ]
     },
     "execution_count": 94,
     "metadata": {},
     "output_type": "execute_result"
    }
   ],
   "source": [
    "correls"
   ]
  },
  {
   "cell_type": "code",
   "execution_count": 95,
   "metadata": {},
   "outputs": [
    {
     "data": {
      "text/plain": [
       "[0.23591443177536522,\n",
       " 0.14995647361493086,\n",
       " 0.24392034491662445,\n",
       " 0.04177162341554563,\n",
       " 0.06742594512478889,\n",
       " 0.07306249735854711,\n",
       " 0.23498911727933167,\n",
       " 0.014356549259008375,\n",
       " 0.10144900270720353,\n",
       " 0.2985183556979867,\n",
       " 0.05859475811533238,\n",
       " 0.2034264608548269,\n",
       " 0.21868946251539145,\n",
       " 0.003107105614805087,\n",
       " 0.0715962832343796,\n",
       " 0.07580108970274883,\n",
       " 0.32276974054496005,\n",
       " 0.1935834292010516,\n",
       " -0.018222008478179435,\n",
       " 0.001043757222117596,\n",
       " 0.04844227303686459,\n",
       " 0.09811003350930055,\n",
       " 0.12209245025231018,\n",
       " 0.1313444497683255,\n",
       " 0.08570129866425809,\n",
       " 0.12585665554708908,\n",
       " 0.07073612792474719,\n",
       " 0.07174176279432504,\n",
       " 0.09901416237823309,\n",
       " -0.004698625629684702,\n",
       " 0.22398720453904633,\n",
       " 0.20640192859648313,\n",
       " 0.11679853814526263,\n",
       " 0.08627898332217165,\n",
       " 0.13684116092676313]"
      ]
     },
     "execution_count": 95,
     "metadata": {},
     "output_type": "execute_result"
    }
   ],
   "source": [
    "correls"
   ]
  },
  {
   "cell_type": "code",
   "execution_count": 96,
   "metadata": {},
   "outputs": [
    {
     "data": {
      "image/png": "[encoded data removed]",
      "text/plain": [
       "<Figure size 1000x800 with 1 Axes>"
      ]
     },
     "metadata": {},
     "output_type": "display_data"
    }
   ],
   "source": [
    "import matplotlib.pyplot as plt\n",
    "import numpy as np\n",
    "\n",
    "# Data extracted from the plot (example data, replace with actual values)\n",
    "sort_idx = np.argsort(correls)#[::-1]\n",
    "genes = np.array(target_labels)[sort_idx[:35]]\n",
    "\n",
    "# Plotting\n",
    "y_pos = np.arange(len(genes))\n",
    "\n",
    "plt.figure(figsize=(10, 8))\n",
    "plt.barh(y_pos - 0.2,\n",
    "         np.array(correls)[sort_idx[:35]],\n",
    "         height=0.4,\n",
    "         label='Pearson',\n",
    "         color='blue',\n",
    "         alpha=0.7)\n",
    "# plt.barh(y_pos + 0.2, spearman, height=0.4, label='Spearman', color='orange', alpha=0.7)\n",
    "\n",
    "plt.yticks(y_pos, genes)\n",
    "plt.xlabel(\"Correlation Coefficient\")\n",
    "plt.title(\"Correlation Pearson\")\n",
    "plt.axvline(0, color='black', linewidth=0.8, linestyle='--')\n",
    "plt.legend()\n",
    "plt.tight_layout()\n",
    "plt.grid()\n",
    "plt.show()\n"
   ]
  },
  {
   "cell_type": "code",
   "execution_count": null,
   "metadata": {},
   "outputs": [],
   "source": [
    "y_test.shape"
   ]
  },
  {
   "cell_type": "code",
   "execution_count": null,
   "metadata": {},
   "outputs": [],
   "source": [
    "np.corrcoef(y_test.T, y_pred.T)"
   ]
  },
  {
   "cell_type": "code",
   "execution_count": null,
   "metadata": {},
   "outputs": [],
   "source": []
  },
  {
   "cell_type": "code",
   "execution_count": null,
   "metadata": {},
   "outputs": [],
   "source": [
    "pca_vecs = pca.fit_transform(latent_vecs)"
   ]
  },
  {
   "cell_type": "code",
   "execution_count": null,
   "metadata": {},
   "outputs": [],
   "source": [
    "pca.explained_variance_ratio_.sum()"
   ]
  },
  {
   "cell_type": "code",
   "execution_count": null,
   "metadata": {},
   "outputs": [],
   "source": [
    "pca.get_covariance()"
   ]
  },
  {
   "cell_type": "code",
   "execution_count": null,
   "metadata": {},
   "outputs": [],
   "source": [
    "np.corrcoef(pca_vecs[:, 0], [pca_vecs[:, 1]])"
   ]
  },
  {
   "cell_type": "code",
   "execution_count": null,
   "metadata": {},
   "outputs": [],
   "source": [
    "plt.scatter(pca_vecs[:, 0], [pca_vecs[:, 1]])\n",
    "plt.xlim(-0.5, 0.5)\n",
    "plt.ylim(-0.5, 0.5)"
   ]
  },
  {
   "cell_type": "code",
   "execution_count": null,
   "metadata": {},
   "outputs": [],
   "source": []
  },
  {
   "cell_type": "code",
   "execution_count": null,
   "metadata": {},
   "outputs": [],
   "source": []
  },
  {
   "cell_type": "code",
   "execution_count": null,
   "metadata": {},
   "outputs": [],
   "source": []
  }
 ],
 "metadata": {
  "kernelspec": {
   "display_name": ".venv",
   "language": "python",
   "name": "python3"
  },
  "language_info": {
   "codemirror_mode": {
    "name": "ipython",
    "version": 3
   },
   "file_extension": ".py",
   "mimetype": "text/x-python",
   "name": "python",
   "nbconvert_exporter": "python",
   "pygments_lexer": "ipython3",
   "version": "3.12.3"
  },
  "orig_nbformat": 4
 },
 "nbformat": 4,
 "nbformat_minor": 2
}
