{
 "cells": [
  {
   "cell_type": "code",
   "execution_count": 2,
   "metadata": {},
   "outputs": [],
   "source": [
    "import pandas as pd\n",
    "import numpy as np\n",
    "import matplotlib.pyplot as plt\n",
    "from pathlib import Path"
   ]
  },
  {
   "cell_type": "code",
   "execution_count": 3,
   "metadata": {},
   "outputs": [],
   "source": [
    "base_metadata_pth = Path('/home/tsakalis/ntua/nestor_celvia/metadata')\n",
    "\n",
    "basic_metadata_file = 'metadata.repository.2024-11-05.json'\n",
    "clinical_cohort_file = 'clinical.cohort.2024-11-07.json'\n",
    "biospecimen_file = 'biospecimen.cohort.2024-11-07.json'\n",
    "gene_expr_file = 'Human__TCGA_OV__UNC__RNAseq__GA_RNA__01_28_2016__BI__Gene__Firehose_RSEM_log2.cct'\n",
    "# gene_expr_file = \"Human__TCGA_OV__UNC__RNAseq__HiSeq_RNA__01_28_2016__BI__Gene__Firehose_RSEM_log2.cct\"\n",
    "\n",
    "gene_mutation_file = 'Human__TCGA_OV__WUSM__Mutation__GAIIx__01_28_2016__BI__Gene__Firehose_MutSig2CV.cbt'"
   ]
  },
  {
   "cell_type": "code",
   "execution_count": 4,
   "metadata": {},
   "outputs": [],
   "source": [
    "gene_names = pd.read_csv(base_metadata_pth / 'GeneNames.tsv', header=None)"
   ]
  },
  {
   "cell_type": "code",
   "execution_count": 5,
   "metadata": {},
   "outputs": [],
   "source": [
    "metadata_df = pd.read_json(base_metadata_pth / basic_metadata_file)\n",
    "\n",
    "clinical_cohort_df = pd.read_json(base_metadata_pth / clinical_cohort_file)\n",
    "\n",
    "biospecimen_df = pd.read_json(base_metadata_pth / biospecimen_file)\n",
    "gene_expr_df = pd.read_csv(base_metadata_pth / gene_expr_file, delimiter='\\t')\n",
    "\n",
    "gene_mutation_df = pd.read_csv(base_metadata_pth / gene_mutation_file,\n",
    "                               delimiter='\\t')"
   ]
  },
  {
   "cell_type": "code",
   "execution_count": 6,
   "metadata": {},
   "outputs": [],
   "source": [
    "latent_vec_pth = Path(\n",
    "    '/Users/tsakalis/ntua/nestor/nestor_celvia/src/vae_embeddings/latent_vectors_individual'\n",
    ")"
   ]
  },
  {
   "cell_type": "code",
   "execution_count": 7,
   "metadata": {},
   "outputs": [],
   "source": [
    "import torch"
   ]
  },
  {
   "cell_type": "code",
   "execution_count": 8,
   "metadata": {},
   "outputs": [
    {
     "name": "stderr",
     "output_type": "stream",
     "text": [
      "/tmp/ipykernel_47176/3201932841.py:6: FutureWarning: You are using `torch.load` with `weights_only=False` (the current default value), which uses the default pickle module implicitly. It is possible to construct malicious pickle data which will execute arbitrary code during unpickling (See https://github.com/pytorch/pytorch/blob/main/SECURITY.md#untrusted-models for more details). In a future release, the default value for `weights_only` will be flipped to `True`. This limits the functions that could be executed during unpickling. Arbitrary objects will no longer be allowed to be loaded via this mode unless they are explicitly allowlisted by the user via `torch.serialization.add_safe_globals`. We recommend you start setting `weights_only=True` for any use case where you don't have full control of the loaded file. Please open an issue on GitHub for any issues related to this experimental feature.\n",
      "  torch.load(pth, map_location=torch.device('cpu')).numpy())\n"
     ]
    }
   ],
   "source": [
    "latent_vec_pth = Path(\n",
    "    '/home/tsakalis/ntua/nestor_celvia/latent_vectors_individual'\n",
    ")\n",
    "latent_vecs = [\n",
    "    (pth.stem,\n",
    "     torch.load(pth, map_location=torch.device('cpu')).numpy())\n",
    "    for pth in latent_vec_pth.glob('*.pt')\n",
    "]\n",
    "\n",
    "# latent_vecs = [np.load(pth) for pth in latent_vec_pth.glob('*.npy')]"
   ]
  },
  {
   "cell_type": "code",
   "execution_count": 32,
   "metadata": {},
   "outputs": [],
   "source": [
    "import h5py\n",
    "import pandas as pd\n",
    "\n",
    "\n",
    "def load_h5(path, key='mean'):\n",
    "    \"\"\"\n",
    "    Load data from an HDF5 file and return the specified dataset as a DataFrame.\n",
    "\n",
    "    Parameters:\n",
    "    - path (str): Path to the HDF5 file.\n",
    "    - key (str): Key of the dataset to retrieve.\n",
    "\n",
    "    Returns:\n",
    "    - pd.DataFrame: DataFrame containing the data from the specified key.\n",
    "    \"\"\"\n",
    "    with h5py.File(path, \"r\") as f:\n",
    "        if key not in f:\n",
    "            raise KeyError(f\"Key '{key}' not found in the HDF5 file.\")\n",
    "\n",
    "        ds_arr = f[key][()]  # Get the numpy array from the specified key\n",
    "\n",
    "    # Return the data as a DataFrame\n",
    "    return pd.DataFrame(ds_arr)\n"
   ]
  },
  {
   "cell_type": "code",
   "execution_count": 33,
   "metadata": {},
   "outputs": [],
   "source": [
    "latent_vec_pth = Path(\n",
    "    '/home/tsakalis/ntua/nestor_celvia/vae_embeddings/embeddings_adco'\n",
    ")\n",
    "latent_vecs = [(pth.stem, load_h5(pth), load_h5(pth, key='max'),\n",
    "                load_h5(pth, key='min'), load_h5(pth, key='std'))\n",
    "               for pth in latent_vec_pth.glob('*.h5')]"
   ]
  },
  {
   "cell_type": "code",
   "execution_count": 55,
   "metadata": {},
   "outputs": [],
   "source": [
    "all_latent_df = []\n",
    "\n",
    "for latent in latent_vecs:\n",
    "    latent_df_mean = pd.DataFrame(latent[1]).transpose()\n",
    "    latent_df_max = pd.DataFrame(latent[2]).transpose()\n",
    "\n",
    "    latent_df_min = pd.DataFrame(latent[3]).transpose()\n",
    "    latent_df_std = pd.DataFrame(latent[4]).transpose()\n",
    "    latent_df = pd.concat(\n",
    "        [latent_df_mean, latent_df_max, latent_df_min, latent_df_std], axis=1)\n",
    "    # break\n",
    "    latent_df.columns = [f\"emb_{i}\" for i in range(4096)]\n",
    "    latent_df['file_name'] = latent[0] + \".svs\"  #.split('_')[0]\n",
    "    # if test_id == latent[0]:\n",
    "    #     break\n",
    "    all_latent_df.append(latent_df)"
   ]
  },
  {
   "cell_type": "code",
   "execution_count": 56,
   "metadata": {},
   "outputs": [],
   "source": [
    "latent_vec_pth = Path(\n",
    "    '/Users/tsakalis/ntua/nestor/nestor_celvia/src/vae_embeddings/latent_vectors'\n",
    ")\n",
    "\n",
    "latent_vecs2 = [(pth.stem, np.load(pth))\n",
    "                for pth in latent_vec_pth.glob('*.npy')]\n",
    "\n",
    "# latent_vecs = [np.load(pth) for pth in latent_vec_pth.glob('*.npy')]"
   ]
  },
  {
   "cell_type": "code",
   "execution_count": 57,
   "metadata": {},
   "outputs": [],
   "source": [
    "metadata_df['submitter_id'] = metadata_df.submitter_id.apply(\n",
    "    lambda x: '.'.join(x.split('-')[:3]))"
   ]
  },
  {
   "cell_type": "code",
   "execution_count": 58,
   "metadata": {},
   "outputs": [],
   "source": [
    "merged_genes = pd.merge(gene_expr_df.set_index('attrib_name'),\n",
    "                        gene_names,\n",
    "                        left_index=True,\n",
    "                        right_on=0)\n"
   ]
  },
  {
   "cell_type": "code",
   "execution_count": 59,
   "metadata": {},
   "outputs": [],
   "source": [
    "clinical_cohort_df['submitter_id'] = clinical_cohort_df['submitter_id'].apply(\n",
    "    lambda x: x.replace('-', '.'))"
   ]
  },
  {
   "cell_type": "code",
   "execution_count": 60,
   "metadata": {},
   "outputs": [],
   "source": [
    "gene_patient = pd.merge(metadata_df,\n",
    "                        merged_genes.T,\n",
    "                        left_on='submitter_id',\n",
    "                        right_index=True)"
   ]
  },
  {
   "cell_type": "code",
   "execution_count": 62,
   "metadata": {},
   "outputs": [],
   "source": [
    "metadata_latent = pd.merge(metadata_df,\n",
    "                           pd.concat(all_latent_df),\n",
    "                           on='file_name')"
   ]
  },
  {
   "cell_type": "code",
   "execution_count": 63,
   "metadata": {},
   "outputs": [],
   "source": [
    "all_data = pd.merge(metadata_latent,\n",
    "                    gene_patient.reset_index(drop=True),\n",
    "                    on='file_id',\n",
    "                    how='inner')"
   ]
  },
  {
   "cell_type": "code",
   "execution_count": 64,
   "metadata": {},
   "outputs": [],
   "source": [
    "# Get unique values of the stratify column\n",
    "from sklearn.model_selection import train_test_split\n",
    "\n",
    "unique_values = all_data['submitter_id_x'].unique()\n",
    "\n",
    "# Split unique values into train and test\n",
    "train_ids, test_ids = train_test_split(all_data.index,\n",
    "                                       test_size=0.2,\n",
    "                                       random_state=42)"
   ]
  },
  {
   "cell_type": "code",
   "execution_count": 65,
   "metadata": {},
   "outputs": [],
   "source": [
    "train_data = all_data.loc[train_ids]\n",
    "test_data = all_data.loc[test_ids]"
   ]
  },
  {
   "cell_type": "code",
   "execution_count": 66,
   "metadata": {},
   "outputs": [],
   "source": [
    "target_labels = all_data.columns[-35:]"
   ]
  },
  {
   "cell_type": "code",
   "execution_count": null,
   "metadata": {},
   "outputs": [],
   "source": []
  },
  {
   "cell_type": "code",
   "execution_count": 67,
   "metadata": {},
   "outputs": [],
   "source": [
    "genes_ovarian_cancer = [\n",
    "    \"BRCA1\", \"BRCA2\", \"TP53\", \"RAD51C\", \"RAD51D\", \"PALB2\", \"ATM\", \"CHEK2\",\n",
    "    \"PTEN\", \"ARID1A\"\n",
    "]\n"
   ]
  },
  {
   "cell_type": "code",
   "execution_count": 68,
   "metadata": {},
   "outputs": [],
   "source": [
    "input_labels = [f\"emb_{i}\" for i in range(1024)]"
   ]
  },
  {
   "cell_type": "code",
   "execution_count": null,
   "metadata": {},
   "outputs": [],
   "source": []
  },
  {
   "cell_type": "code",
   "execution_count": 69,
   "metadata": {},
   "outputs": [],
   "source": [
    "from sklearn.preprocessing import LabelEncoder\n",
    "\n",
    "encode_p = LabelEncoder().fit_transform(all_data['submitter_id_x'])"
   ]
  },
  {
   "cell_type": "code",
   "execution_count": 70,
   "metadata": {},
   "outputs": [],
   "source": [
    "from sklearn.model_selection import train_test_split\n",
    "from sklearn.preprocessing import StandardScaler, MinMaxScaler\n",
    "from lightgbm import LGBMRegressor\n",
    "from sklearn.ensemble import RandomForestRegressor, GradientBoostingRegressor, RandomForestClassifier\n",
    "from sklearn.svm import SVR\n",
    "from sklearn.metrics import mean_squared_error, mean_absolute_percentage_error, accuracy_score, f1_score, classification_report, r2_score\n",
    "from sklearn.model_selection import KFold\n",
    "from sklearn.decomposition import PCA"
   ]
  },
  {
   "cell_type": "code",
   "execution_count": 71,
   "metadata": {},
   "outputs": [],
   "source": [
    "pca = PCA(n_components=2)\n",
    "\n",
    "pcaed = pca.fit_transform(all_data[input_labels])"
   ]
  },
  {
   "cell_type": "code",
   "execution_count": 72,
   "metadata": {},
   "outputs": [
    {
     "data": {
      "text/plain": [
       "<matplotlib.collections.PathCollection at 0x7b8278648fe0>"
      ]
     },
     "execution_count": 72,
     "metadata": {},
     "output_type": "execute_result"
    },
    {
     "data": {
      "image/png": "[encoded data removed]",
      "text/plain": [
       "<Figure size 640x480 with 1 Axes>"
      ]
     },
     "metadata": {},
     "output_type": "display_data"
    }
   ],
   "source": [
    "plt.scatter(pcaed[:,0], pcaed[:,1])"
   ]
  },
  {
   "cell_type": "code",
   "execution_count": 73,
   "metadata": {},
   "outputs": [],
   "source": [
    "X_train, X_test, y_train, y_test = train_data[input_labels], test_data[\n",
    "    input_labels], train_data[target_labels], test_data[target_labels]"
   ]
  },
  {
   "cell_type": "code",
   "execution_count": 74,
   "metadata": {},
   "outputs": [
    {
     "name": "stdout",
     "output_type": "stream",
     "text": [
      "[LightGBM] [Info] Auto-choosing row-wise multi-threading, the overhead of testing was 0.057364 seconds.\n",
      "You can set `force_row_wise=true` to remove the overhead.\n",
      "And if memory is not enough, you can set `force_col_wise=true`.\n",
      "[LightGBM] [Info] Total Bins 258589\n",
      "[LightGBM] [Info] Number of data points in the train set: 1067, number of used features: 1017\n",
      "[LightGBM] [Info] Start training from score 2.088675\n",
      "0.02005496830686837\n",
      "[LightGBM] [Info] Auto-choosing col-wise multi-threading, the overhead of testing was 0.012312 seconds.\n",
      "You can set `force_col_wise=true` to remove the overhead.\n",
      "[LightGBM] [Info] Total Bins 258589\n",
      "[LightGBM] [Info] Number of data points in the train set: 1067, number of used features: 1017\n",
      "[LightGBM] [Info] Start training from score 1.825761\n",
      "0.020009351571483758\n",
      "[LightGBM] [Info] Auto-choosing col-wise multi-threading, the overhead of testing was 0.011057 seconds.\n",
      "You can set `force_col_wise=true` to remove the overhead.\n",
      "[LightGBM] [Info] Total Bins 258589\n",
      "[LightGBM] [Info] Number of data points in the train set: 1067, number of used features: 1017\n",
      "[LightGBM] [Info] Start training from score 2.191411\n",
      "0.014089681822194389\n",
      "[LightGBM] [Info] Auto-choosing col-wise multi-threading, the overhead of testing was 0.007280 seconds.\n",
      "You can set `force_col_wise=true` to remove the overhead.\n",
      "[LightGBM] [Info] Total Bins 258589\n",
      "[LightGBM] [Info] Number of data points in the train set: 1067, number of used features: 1017\n",
      "[LightGBM] [Info] Start training from score 2.064476\n",
      "0.008999086476987883\n",
      "[LightGBM] [Info] Auto-choosing col-wise multi-threading, the overhead of testing was 0.009466 seconds.\n",
      "You can set `force_col_wise=true` to remove the overhead.\n",
      "[LightGBM] [Info] Total Bins 258589\n",
      "[LightGBM] [Info] Number of data points in the train set: 1067, number of used features: 1017\n",
      "[LightGBM] [Info] Start training from score 2.168107\n",
      "-0.0012539142178551455\n",
      "[LightGBM] [Info] Auto-choosing col-wise multi-threading, the overhead of testing was 0.007646 seconds.\n",
      "You can set `force_col_wise=true` to remove the overhead.\n",
      "[LightGBM] [Info] Total Bins 258589\n",
      "[LightGBM] [Info] Number of data points in the train set: 1067, number of used features: 1017\n",
      "[LightGBM] [Info] Start training from score 2.055184\n",
      "0.009728184511875293\n",
      "[LightGBM] [Info] Auto-choosing col-wise multi-threading, the overhead of testing was 0.008982 seconds.\n",
      "You can set `force_col_wise=true` to remove the overhead.\n",
      "[LightGBM] [Info] Total Bins 258589\n",
      "[LightGBM] [Info] Number of data points in the train set: 1067, number of used features: 1017\n",
      "[LightGBM] [Info] Start training from score 2.197659\n",
      "0.007324281892459039\n",
      "[LightGBM] [Info] Auto-choosing col-wise multi-threading, the overhead of testing was 0.010768 seconds.\n",
      "You can set `force_col_wise=true` to remove the overhead.\n",
      "[LightGBM] [Info] Total Bins 258589\n",
      "[LightGBM] [Info] Number of data points in the train set: 1067, number of used features: 1017\n",
      "[LightGBM] [Info] Start training from score 2.101054\n",
      "-0.0026109447239159866\n",
      "[LightGBM] [Info] Auto-choosing col-wise multi-threading, the overhead of testing was 0.011248 seconds.\n",
      "You can set `force_col_wise=true` to remove the overhead.\n",
      "[LightGBM] [Info] Total Bins 258589\n",
      "[LightGBM] [Info] Number of data points in the train set: 1067, number of used features: 1017\n",
      "[LightGBM] [Info] Start training from score 2.166402\n",
      "0.005534676288490581\n",
      "[LightGBM] [Info] Auto-choosing col-wise multi-threading, the overhead of testing was 0.012194 seconds.\n",
      "You can set `force_col_wise=true` to remove the overhead.\n",
      "[LightGBM] [Info] Total Bins 258589\n",
      "[LightGBM] [Info] Number of data points in the train set: 1067, number of used features: 1017\n",
      "[LightGBM] [Info] Start training from score 2.244383\n",
      "0.03144207283606437\n",
      "[LightGBM] [Info] Auto-choosing col-wise multi-threading, the overhead of testing was 0.008682 seconds.\n",
      "You can set `force_col_wise=true` to remove the overhead.\n",
      "[LightGBM] [Info] Total Bins 258589\n",
      "[LightGBM] [Info] Number of data points in the train set: 1067, number of used features: 1017\n",
      "[LightGBM] [Info] Start training from score 2.118770\n",
      "-0.012749558963514485\n",
      "[LightGBM] [Info] Auto-choosing col-wise multi-threading, the overhead of testing was 0.015827 seconds.\n",
      "You can set `force_col_wise=true` to remove the overhead.\n",
      "[LightGBM] [Info] Total Bins 258589\n",
      "[LightGBM] [Info] Number of data points in the train set: 1067, number of used features: 1017\n",
      "[LightGBM] [Info] Start training from score 2.242108\n",
      "0.022044716373760487\n",
      "[LightGBM] [Info] Auto-choosing col-wise multi-threading, the overhead of testing was 0.008782 seconds.\n",
      "You can set `force_col_wise=true` to remove the overhead.\n",
      "[LightGBM] [Info] Total Bins 258589\n",
      "[LightGBM] [Info] Number of data points in the train set: 1067, number of used features: 1017\n",
      "[LightGBM] [Info] Start training from score 2.231205\n",
      "0.011028720995401642\n",
      "[LightGBM] [Info] Auto-choosing col-wise multi-threading, the overhead of testing was 0.008743 seconds.\n",
      "You can set `force_col_wise=true` to remove the overhead.\n",
      "[LightGBM] [Info] Total Bins 258589\n",
      "[LightGBM] [Info] Number of data points in the train set: 1067, number of used features: 1017\n",
      "[LightGBM] [Info] Start training from score 2.214322\n",
      "-0.00025410591194097165\n",
      "[LightGBM] [Info] Auto-choosing col-wise multi-threading, the overhead of testing was 0.013198 seconds.\n",
      "You can set `force_col_wise=true` to remove the overhead.\n",
      "[LightGBM] [Info] Total Bins 258589\n",
      "[LightGBM] [Info] Number of data points in the train set: 1067, number of used features: 1017\n",
      "[LightGBM] [Info] Start training from score 2.058035\n",
      "-0.0032613223885291642\n",
      "[LightGBM] [Info] Auto-choosing col-wise multi-threading, the overhead of testing was 0.012756 seconds.\n",
      "You can set `force_col_wise=true` to remove the overhead.\n",
      "[LightGBM] [Info] Total Bins 258589\n",
      "[LightGBM] [Info] Number of data points in the train set: 1067, number of used features: 1017\n",
      "[LightGBM] [Info] Start training from score 2.313609\n",
      "0.0017328503336431211\n",
      "[LightGBM] [Info] Auto-choosing col-wise multi-threading, the overhead of testing was 0.007009 seconds.\n",
      "You can set `force_col_wise=true` to remove the overhead.\n",
      "[LightGBM] [Info] Total Bins 258589\n",
      "[LightGBM] [Info] Number of data points in the train set: 1067, number of used features: 1017\n",
      "[LightGBM] [Info] Start training from score 2.192834\n",
      "0.03790700096891553\n",
      "[LightGBM] [Info] Auto-choosing col-wise multi-threading, the overhead of testing was 0.009144 seconds.\n",
      "You can set `force_col_wise=true` to remove the overhead.\n",
      "[LightGBM] [Info] Total Bins 258589\n",
      "[LightGBM] [Info] Number of data points in the train set: 1067, number of used features: 1017\n",
      "[LightGBM] [Info] Start training from score 2.198449\n",
      "0.013374109154156821\n",
      "[LightGBM] [Info] Auto-choosing col-wise multi-threading, the overhead of testing was 0.008090 seconds.\n",
      "You can set `force_col_wise=true` to remove the overhead.\n",
      "[LightGBM] [Info] Total Bins 258589\n",
      "[LightGBM] [Info] Number of data points in the train set: 1067, number of used features: 1017\n",
      "[LightGBM] [Info] Start training from score 1.966857\n",
      "0.00029010576603982763\n",
      "[LightGBM] [Info] Auto-choosing col-wise multi-threading, the overhead of testing was 0.009429 seconds.\n",
      "You can set `force_col_wise=true` to remove the overhead.\n",
      "[LightGBM] [Info] Total Bins 258589\n",
      "[LightGBM] [Info] Number of data points in the train set: 1067, number of used features: 1017\n",
      "[LightGBM] [Info] Start training from score 2.174723\n",
      "-0.005065042415667076\n",
      "[LightGBM] [Info] Auto-choosing col-wise multi-threading, the overhead of testing was 0.010583 seconds.\n",
      "You can set `force_col_wise=true` to remove the overhead.\n",
      "[LightGBM] [Info] Total Bins 258589\n",
      "[LightGBM] [Info] Number of data points in the train set: 1067, number of used features: 1017\n",
      "[LightGBM] [Info] Start training from score 2.051488\n",
      "0.009758051401018375\n",
      "[LightGBM] [Info] Auto-choosing col-wise multi-threading, the overhead of testing was 0.009392 seconds.\n",
      "You can set `force_col_wise=true` to remove the overhead.\n",
      "[LightGBM] [Info] Total Bins 258589\n",
      "[LightGBM] [Info] Number of data points in the train set: 1067, number of used features: 1017\n",
      "[LightGBM] [Info] Start training from score 2.144805\n",
      "-0.017622278074990394\n",
      "[LightGBM] [Info] Auto-choosing col-wise multi-threading, the overhead of testing was 0.014215 seconds.\n",
      "You can set `force_col_wise=true` to remove the overhead.\n",
      "[LightGBM] [Info] Total Bins 258589\n",
      "[LightGBM] [Info] Number of data points in the train set: 1067, number of used features: 1017\n",
      "[LightGBM] [Info] Start training from score 2.097420\n",
      "0.010088228386197162\n",
      "[LightGBM] [Info] Auto-choosing col-wise multi-threading, the overhead of testing was 0.008323 seconds.\n",
      "You can set `force_col_wise=true` to remove the overhead.\n",
      "[LightGBM] [Info] Total Bins 258589\n",
      "[LightGBM] [Info] Number of data points in the train set: 1067, number of used features: 1017\n",
      "[LightGBM] [Info] Start training from score 2.264219\n",
      "-0.00024106800575474097\n",
      "[LightGBM] [Info] Auto-choosing col-wise multi-threading, the overhead of testing was 0.006962 seconds.\n",
      "You can set `force_col_wise=true` to remove the overhead.\n",
      "[LightGBM] [Info] Total Bins 258589\n",
      "[LightGBM] [Info] Number of data points in the train set: 1067, number of used features: 1017\n",
      "[LightGBM] [Info] Start training from score 2.349261\n",
      "-1.0138790297764544e-05\n",
      "[LightGBM] [Info] Auto-choosing col-wise multi-threading, the overhead of testing was 0.009396 seconds.\n",
      "You can set `force_col_wise=true` to remove the overhead.\n",
      "[LightGBM] [Info] Total Bins 258589\n",
      "[LightGBM] [Info] Number of data points in the train set: 1067, number of used features: 1017\n",
      "[LightGBM] [Info] Start training from score 2.298991\n",
      "-0.0026907844584553864\n",
      "[LightGBM] [Info] Auto-choosing col-wise multi-threading, the overhead of testing was 0.007938 seconds.\n",
      "You can set `force_col_wise=true` to remove the overhead.\n",
      "[LightGBM] [Info] Total Bins 258589\n",
      "[LightGBM] [Info] Number of data points in the train set: 1067, number of used features: 1017\n",
      "[LightGBM] [Info] Start training from score 1.938768\n",
      "0.0037822280822698007\n",
      "[LightGBM] [Info] Auto-choosing col-wise multi-threading, the overhead of testing was 0.006773 seconds.\n",
      "You can set `force_col_wise=true` to remove the overhead.\n",
      "[LightGBM] [Info] Total Bins 258589\n",
      "[LightGBM] [Info] Number of data points in the train set: 1067, number of used features: 1017\n",
      "[LightGBM] [Info] Start training from score 2.192305\n",
      "0.0007131180893028555\n",
      "[LightGBM] [Info] Auto-choosing col-wise multi-threading, the overhead of testing was 0.009928 seconds.\n",
      "You can set `force_col_wise=true` to remove the overhead.\n",
      "[LightGBM] [Info] Total Bins 258589\n",
      "[LightGBM] [Info] Number of data points in the train set: 1067, number of used features: 1017\n",
      "[LightGBM] [Info] Start training from score 2.325204\n",
      "0.004733048859765776\n",
      "[LightGBM] [Info] Auto-choosing col-wise multi-threading, the overhead of testing was 0.010288 seconds.\n",
      "You can set `force_col_wise=true` to remove the overhead.\n",
      "[LightGBM] [Info] Total Bins 258589\n",
      "[LightGBM] [Info] Number of data points in the train set: 1067, number of used features: 1017\n",
      "[LightGBM] [Info] Start training from score 2.250483\n",
      "-0.0016302160014622924\n",
      "[LightGBM] [Info] Auto-choosing col-wise multi-threading, the overhead of testing was 0.011495 seconds.\n",
      "You can set `force_col_wise=true` to remove the overhead.\n",
      "[LightGBM] [Info] Total Bins 258589\n",
      "[LightGBM] [Info] Number of data points in the train set: 1067, number of used features: 1017\n",
      "[LightGBM] [Info] Start training from score 2.046158\n",
      "0.007850572216954954\n",
      "[LightGBM] [Info] Auto-choosing col-wise multi-threading, the overhead of testing was 0.011874 seconds.\n",
      "You can set `force_col_wise=true` to remove the overhead.\n",
      "[LightGBM] [Info] Total Bins 258589\n",
      "[LightGBM] [Info] Number of data points in the train set: 1067, number of used features: 1017\n",
      "[LightGBM] [Info] Start training from score 2.241928\n",
      "-0.01044451888735387\n",
      "[LightGBM] [Info] Auto-choosing col-wise multi-threading, the overhead of testing was 0.007038 seconds.\n",
      "You can set `force_col_wise=true` to remove the overhead.\n",
      "[LightGBM] [Info] Total Bins 258589\n",
      "[LightGBM] [Info] Number of data points in the train set: 1067, number of used features: 1017\n",
      "[LightGBM] [Info] Start training from score 2.018035\n",
      "0.014718325936210253\n",
      "[LightGBM] [Info] Auto-choosing col-wise multi-threading, the overhead of testing was 0.009007 seconds.\n",
      "You can set `force_col_wise=true` to remove the overhead.\n",
      "[LightGBM] [Info] Total Bins 258589\n",
      "[LightGBM] [Info] Number of data points in the train set: 1067, number of used features: 1017\n",
      "[LightGBM] [Info] Start training from score 2.174865\n",
      "-0.0009628495133282566\n",
      "[LightGBM] [Info] Auto-choosing col-wise multi-threading, the overhead of testing was 0.007724 seconds.\n",
      "You can set `force_col_wise=true` to remove the overhead.\n",
      "[LightGBM] [Info] Total Bins 258589\n",
      "[LightGBM] [Info] Number of data points in the train set: 1067, number of used features: 1017\n",
      "[LightGBM] [Info] Start training from score 2.090233\n",
      "0.007782885873891865\n"
     ]
    }
   ],
   "source": [
    "\n",
    "\n",
    "for label in target_labels:\n",
    "    model = LGBMRegressor(n_jobs=-1, n_estimators=100, learning_rate=0.001)\n",
    "    model.fit(X_train, np.log(y_train[label].astype(float)+1))\n",
    "\n",
    "    # Make predictions\n",
    "    y_pred = model.predict(X_test)\n",
    "    # print(mean_squared_error(y_test.flatten(), y_pred.flatten()))\n",
    "    print(r2_score(np.log(y_test[label].astype(float)+1), y_pred))"
   ]
  },
  {
   "cell_type": "code",
   "execution_count": 171,
   "metadata": {},
   "outputs": [
    {
     "data": {
      "text/plain": [
       "(26846, 1024)"
      ]
     },
     "execution_count": 171,
     "metadata": {},
     "output_type": "execute_result"
    }
   ],
   "source": [
    "X_train.shape"
   ]
  },
  {
   "cell_type": "code",
   "execution_count": 75,
   "metadata": {},
   "outputs": [
    {
     "name": "stdout",
     "output_type": "stream",
     "text": [
      "[[1.        0.3037047]\n",
      " [0.3037047 1.       ]]\n",
      "[[1.         0.23283844]\n",
      " [0.23283844 1.        ]]\n",
      "[[1.        0.2384287]\n",
      " [0.2384287 1.       ]]\n",
      "[[1.        0.1353745]\n",
      " [0.1353745 1.       ]]\n",
      "[[1.         0.03568896]\n",
      " [0.03568896 1.        ]]\n",
      "[[1.         0.18484929]\n",
      " [0.18484929 1.        ]]\n",
      "[[1.        0.2974058]\n",
      " [0.2974058 1.       ]]\n",
      "[[1.         0.06333557]\n",
      " [0.06333557 1.        ]]\n",
      "[[1.         0.08558767]\n",
      " [0.08558767 1.        ]]\n",
      "[[1.         0.36133962]\n",
      " [0.36133962 1.        ]]\n",
      "[[1.         0.13524648]\n",
      " [0.13524648 1.        ]]\n",
      "[[1.         0.26380507]\n",
      " [0.26380507 1.        ]]\n",
      "[[1.         0.21176456]\n",
      " [0.21176456 1.        ]]\n",
      "[[1.         0.00904105]\n",
      " [0.00904105 1.        ]]\n",
      "[[1.         0.07144169]\n",
      " [0.07144169 1.        ]]\n",
      "[[1.         0.13079487]\n",
      " [0.13079487 1.        ]]\n",
      "[[1.         0.41093643]\n",
      " [0.41093643 1.        ]]\n",
      "[[1.         0.29633913]\n",
      " [0.29633913 1.        ]]\n",
      "[[1.         0.06346754]\n",
      " [0.06346754 1.        ]]\n",
      "[[1.         0.03870539]\n",
      " [0.03870539 1.        ]]\n",
      "[[1.         0.12750717]\n",
      " [0.12750717 1.        ]]\n",
      "[[1.         0.12550356]\n",
      " [0.12550356 1.        ]]\n",
      "[[1.         0.23411636]\n",
      " [0.23411636 1.        ]]\n",
      "[[1.        0.1051695]\n",
      " [0.1051695 1.       ]]\n",
      "[[1.         0.13620043]\n",
      " [0.13620043 1.        ]]\n",
      "[[1.         0.15041581]\n",
      " [0.15041581 1.        ]]\n",
      "[[1.         0.05044321]\n",
      " [0.05044321 1.        ]]\n",
      "[[1.        0.0965425]\n",
      " [0.0965425 1.       ]]\n",
      "[[1.         0.11337085]\n",
      " [0.11337085 1.        ]]\n",
      "[[ 1.         -0.02075937]\n",
      " [-0.02075937  1.        ]]\n",
      "[[1.        0.2926666]\n",
      " [0.2926666 1.       ]]\n",
      "[[1.         0.27688193]\n",
      " [0.27688193 1.        ]]\n",
      "[[1.         0.14809999]\n",
      " [0.14809999 1.        ]]\n",
      "[[1.         0.10742631]\n",
      " [0.10742631 1.        ]]\n",
      "[[1.         0.16892024]\n",
      " [0.16892024 1.        ]]\n"
     ]
    }
   ],
   "source": [
    "import lightgbm as lgb\n",
    "from sklearn.metrics import r2_score\n",
    "\n",
    "for label in target_labels:\n",
    "    # Prepare LightGBM datasets\n",
    "    train_data = lgb.Dataset(X_train, label=np.log(y_train[label].astype(float)))\n",
    "    test_data = lgb.Dataset(X_test, label=np.log(y_test[label].astype(float)), reference=train_data)\n",
    "    \n",
    "    # Set LightGBM parameters\n",
    "    params = {\n",
    "        'objective': 'regression',\n",
    "        'metric': 'rmse',  # Use RMSE or any relevant regression metric\n",
    "        'learning_rate': 0.001,\n",
    "        'num_threads': -1,\n",
    "        'verbosity': -1,\n",
    "        'lambda_l1': 0.0,\n",
    "        'lambda_l2': 0.0,\n",
    "        # 'num_leaves': 1024, # Larger than typical values\n",
    "        'min_data_in_leaf': 1\n",
    "\n",
    "    }\n",
    "    \n",
    "    # Train the model\n",
    "    model = lgb.train(\n",
    "        params,\n",
    "        train_data,\n",
    "        num_boost_round=500,  # Equivalent to n_estimators\n",
    "        valid_sets=[train_data, test_data],\n",
    "        valid_names=['train', 'test'],\n",
    "        # verbose_eval=False\n",
    "    )\n",
    "    \n",
    "    # Make predictions\n",
    "    y_pred = model.predict(X_test)\n",
    "    print(np.corrcoef(np.log(y_test[label].astype(float)), y_pred))\n",
    "    \n"
   ]
  },
  {
   "cell_type": "code",
   "execution_count": null,
   "metadata": {},
   "outputs": [],
   "source": []
  },
  {
   "cell_type": "code",
   "execution_count": null,
   "metadata": {},
   "outputs": [],
   "source": []
  },
  {
   "cell_type": "code",
   "execution_count": null,
   "metadata": {},
   "outputs": [],
   "source": []
  },
  {
   "cell_type": "code",
   "execution_count": null,
   "metadata": {},
   "outputs": [],
   "source": [
    "for i in range(len(target_labels)):\n",
    "    print(\n",
    "        np.corrcoef(y_test.values[:, i].flatten().astype(float),\n",
    "                    y_pred[:, i].flatten()))"
   ]
  },
  {
   "cell_type": "code",
   "execution_count": null,
   "metadata": {},
   "outputs": [],
   "source": [
    "plt.scatter(y_test.values[:, 10].flatten(), y_pred[:, 10].flatten())"
   ]
  },
  {
   "cell_type": "code",
   "execution_count": null,
   "metadata": {},
   "outputs": [],
   "source": [
    "plt.scatter(y_test.values.flatten(), y_pred.flatten())"
   ]
  },
  {
   "cell_type": "code",
   "execution_count": null,
   "metadata": {},
   "outputs": [],
   "source": [
    "for i in range(len(target_labels)):\n",
    "    model = RandomForestRegressor()\n",
    "    model.fit(X_train, y_train[:, i])\n",
    "\n",
    "    # Make predictions\n",
    "    y_pred = model.predict(X_test)\n",
    "    # print(mean_squared_error(y_test.flatten(), y_pred.flatten()))\n",
    "    print(r2_score(y_test[:, i], y_pred))"
   ]
  },
  {
   "cell_type": "code",
   "execution_count": null,
   "metadata": {},
   "outputs": [],
   "source": [
    "def find_vector_duplicates(array1, array2):\n",
    "    # Convert each vector to a tuple for hashable comparison\n",
    "    set1 = {tuple(vec) for vec in array1}\n",
    "    duplicates = [vec for vec in array2 if tuple(vec) in set1]\n",
    "    return duplicates"
   ]
  },
  {
   "cell_type": "code",
   "execution_count": null,
   "metadata": {},
   "outputs": [],
   "source": [
    "from sklearn.decomposition import PCA\n",
    "\n",
    "pca = PCA(n_components=2)"
   ]
  },
  {
   "cell_type": "code",
   "execution_count": null,
   "metadata": {},
   "outputs": [],
   "source": [
    "scaler = MinMaxScaler()\n",
    "X_scaled = pca.fit_transform(X)\n"
   ]
  },
  {
   "cell_type": "code",
   "execution_count": null,
   "metadata": {},
   "outputs": [],
   "source": [
    "pcaed = pca.fit_transform(X)"
   ]
  },
  {
   "cell_type": "code",
   "execution_count": null,
   "metadata": {},
   "outputs": [],
   "source": [
    "X_train"
   ]
  },
  {
   "cell_type": "code",
   "execution_count": null,
   "metadata": {},
   "outputs": [],
   "source": [
    "plt.scatter(pcaed[:, 0], pcaed[:, 1])\n",
    "plt.xlim(-0.445, -0.46)\n",
    "plt.ylim(-0.05, 0.05)\n"
   ]
  },
  {
   "cell_type": "code",
   "execution_count": null,
   "metadata": {},
   "outputs": [],
   "source": [
    "correls = []\n",
    "folds = KFold(5, shuffle=False)\n",
    "\n",
    "for train_idx, test_idx in folds.split(X, y):\n",
    "\n",
    "    X_train, X_test, y_train, y_test = X[train_idx], X[test_idx], y[\n",
    "        train_idx], y[test_idx]\n",
    "    # Use Random Forest Regressor\n",
    "    model = RandomForestRegressor(n_estimators=10, n_jobs=-1)\n",
    "    model.fit(X_train, y_train)\n",
    "\n",
    "    # Make predictions\n",
    "    y_pred = model.predict(X_test)\n",
    "    print(mean_squared_error(y_test.flatten(), y_pred.flatten()))\n",
    "    print(r2_score(y_test, y_pred))\n",
    "    # correls.append(np.corrcoef(y_test, y_pred)[0, 1])\n",
    "\n",
    "    # plt.scatter(y_test.flatten(), y_pred.flatten(), s=0.5)"
   ]
  },
  {
   "cell_type": "code",
   "execution_count": null,
   "metadata": {},
   "outputs": [],
   "source": [
    "correls = []\n",
    "for i in range(len(target_labels)):\n",
    "    correls.append(np.corrcoef(y_test[:, i], y_pred[:, i])[0, 1])"
   ]
  },
  {
   "attachments": {},
   "cell_type": "markdown",
   "metadata": {},
   "source": []
  },
  {
   "cell_type": "code",
   "execution_count": null,
   "metadata": {},
   "outputs": [],
   "source": [
    "np.sort(np.abs(correls))"
   ]
  },
  {
   "cell_type": "code",
   "execution_count": null,
   "metadata": {},
   "outputs": [],
   "source": [
    "import matplotlib.pyplot as plt\n",
    "import numpy as np\n",
    "\n",
    "# Data extracted from the plot (example data, replace with actual values)\n",
    "sort_idx = np.argsort(np.abs(correls))[::-1]\n",
    "genes = np.array(target_labels)[sort_idx[:112]]\n",
    "\n",
    "# Plotting\n",
    "y_pos = np.arange(len(genes))\n",
    "\n",
    "plt.figure(figsize=(10, 8))\n",
    "plt.barh(y_pos - 0.2,\n",
    "         np.abs(correls)[sort_idx[:112]],\n",
    "         height=0.4,\n",
    "         label='Pearson',\n",
    "         color='blue',\n",
    "         alpha=0.7)\n",
    "# plt.barh(y_pos + 0.2, spearman, height=0.4, label='Spearman', color='orange', alpha=0.7)\n",
    "\n",
    "plt.yticks(y_pos, genes)\n",
    "plt.xlabel(\"Correlation Coefficient\")\n",
    "plt.title(\"Correlation Comparison (Pearson vs Spearman)\")\n",
    "plt.axvline(0, color='black', linewidth=0.8, linestyle='--')\n",
    "plt.legend()\n",
    "plt.tight_layout()\n",
    "\n",
    "plt.show()\n"
   ]
  },
  {
   "cell_type": "code",
   "execution_count": null,
   "metadata": {},
   "outputs": [],
   "source": [
    "y_test.shape"
   ]
  },
  {
   "cell_type": "code",
   "execution_count": null,
   "metadata": {},
   "outputs": [],
   "source": [
    "np.corrcoef(y_test.T, y_pred.T)"
   ]
  },
  {
   "cell_type": "code",
   "execution_count": null,
   "metadata": {},
   "outputs": [],
   "source": []
  },
  {
   "cell_type": "code",
   "execution_count": null,
   "metadata": {},
   "outputs": [],
   "source": [
    "pca_vecs = pca.fit_transform(latent_vecs)"
   ]
  },
  {
   "cell_type": "code",
   "execution_count": null,
   "metadata": {},
   "outputs": [],
   "source": [
    "pca.explained_variance_ratio_.sum()"
   ]
  },
  {
   "cell_type": "code",
   "execution_count": null,
   "metadata": {},
   "outputs": [],
   "source": [
    "pca.get_covariance()"
   ]
  },
  {
   "cell_type": "code",
   "execution_count": null,
   "metadata": {},
   "outputs": [],
   "source": [
    "np.corrcoef(pca_vecs[:, 0], [pca_vecs[:, 1]])"
   ]
  },
  {
   "cell_type": "code",
   "execution_count": null,
   "metadata": {},
   "outputs": [],
   "source": [
    "plt.scatter(pca_vecs[:, 0], [pca_vecs[:, 1]])\n",
    "plt.xlim(-0.5, 0.5)\n",
    "plt.ylim(-0.5, 0.5)"
   ]
  },
  {
   "cell_type": "code",
   "execution_count": null,
   "metadata": {},
   "outputs": [],
   "source": []
  },
  {
   "cell_type": "code",
   "execution_count": null,
   "metadata": {},
   "outputs": [],
   "source": []
  },
  {
   "cell_type": "code",
   "execution_count": null,
   "metadata": {},
   "outputs": [],
   "source": []
  }
 ],
 "metadata": {
  "kernelspec": {
   "display_name": ".venv",
   "language": "python",
   "name": "python3"
  },
  "language_info": {
   "codemirror_mode": {
    "name": "ipython",
    "version": 3
   },
   "file_extension": ".py",
   "mimetype": "text/x-python",
   "name": "python",
   "nbconvert_exporter": "python",
   "pygments_lexer": "ipython3",
   "version": "3.12.3"
  },
  "orig_nbformat": 4
 },
 "nbformat": 4,
 "nbformat_minor": 2
}
