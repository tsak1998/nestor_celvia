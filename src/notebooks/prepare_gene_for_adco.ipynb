{
 "cells": [
  {
   "cell_type": "code",
   "execution_count": 2,
   "metadata": {},
   "outputs": [],
   "source": [
    "import pandas as pd\n",
    "from pathlib import Path\n",
    "\n",
    "import numpy as np"
   ]
  },
  {
   "cell_type": "code",
   "execution_count": 3,
   "metadata": {},
   "outputs": [],
   "source": [
    "pth = \"/home/tsakalis/ntua/nestor_celvia/metadata/gene_adco.csv\""
   ]
  },
  {
   "cell_type": "code",
   "execution_count": 4,
   "metadata": {},
   "outputs": [],
   "source": [
    "ref_df = pd.read_csv(pth)"
   ]
  },
  {
   "cell_type": "code",
   "execution_count": 5,
   "metadata": {},
   "outputs": [],
   "source": [
    "base_metadata_pth = Path('/home/tsakalis/ntua/nestor_celvia/metadata')\n",
    "\n",
    "basic_metadata_file = 'metadata.repository.2024-11-05.json'\n",
    "clinical_cohort_file = 'clinical.cohort.2024-11-07.json'\n",
    "biospecimen_file = 'biospecimen.cohort.2024-11-07.json'\n",
    "gene_expr_file = 'Human__TCGA_OV__UNC__RNAseq__GA_RNA__01_28_2016__BI__Gene__Firehose_RSEM_log2.cct'\n",
    "# gene_expr_file = \"Human__TCGA_OV__UNC__RNAseq__HiSeq_RNA__01_28_2016__BI__Gene__Firehose_RSEM_log2.cct\"\n",
    "\n",
    "gene_mutation_file = 'Human__TCGA_OV__WUSM__Mutation__GAIIx__01_28_2016__BI__Gene__Firehose_MutSig2CV.cbt'"
   ]
  },
  {
   "cell_type": "code",
   "execution_count": 6,
   "metadata": {},
   "outputs": [],
   "source": [
    "gene_names = pd.read_csv(base_metadata_pth / 'GeneNames.tsv', header=None)"
   ]
  },
  {
   "cell_type": "code",
   "execution_count": 7,
   "metadata": {},
   "outputs": [],
   "source": [
    "metadata_df = pd.read_json(base_metadata_pth / basic_metadata_file)\n",
    "\n",
    "clinical_cohort_df = pd.read_json(base_metadata_pth / clinical_cohort_file)\n",
    "\n",
    "biospecimen_df = pd.read_json(base_metadata_pth / biospecimen_file)\n",
    "gene_expr_df = pd.read_csv(base_metadata_pth / gene_expr_file, delimiter='\\t')\n",
    "\n",
    "gene_mutation_df = pd.read_csv(base_metadata_pth / gene_mutation_file,\n",
    "                               delimiter='\\t')"
   ]
  },
  {
   "cell_type": "code",
   "execution_count": 8,
   "metadata": {},
   "outputs": [],
   "source": [
    "metadata_df['submitter_id'] = metadata_df.submitter_id.apply(\n",
    "    lambda x: '.'.join(x.split('-')[:3]))"
   ]
  },
  {
   "cell_type": "code",
   "execution_count": 9,
   "metadata": {},
   "outputs": [],
   "source": [
    "merged_genes = pd.merge(gene_expr_df.set_index('attrib_name'),\n",
    "                        gene_names.set_index(0),\n",
    "                        left_index=True,\n",
    "                        right_index=True)\n"
   ]
  },
  {
   "cell_type": "code",
   "execution_count": 10,
   "metadata": {},
   "outputs": [],
   "source": [
    "clinical_cohort_df['submitter_id'] = clinical_cohort_df['submitter_id'].apply(\n",
    "    lambda x: x.replace('-', '.'))"
   ]
  },
  {
   "cell_type": "code",
   "execution_count": 11,
   "metadata": {},
   "outputs": [],
   "source": [
    "gene_patient = pd.merge(metadata_df,\n",
    "                        merged_genes.T,\n",
    "                        left_on='submitter_id',\n",
    "                        right_index=True)"
   ]
  },
  {
   "cell_type": "code",
   "execution_count": 12,
   "metadata": {},
   "outputs": [],
   "source": [
    "columns_map = {\"submitter_id\": \"TCGA patient\", \"fle_name_h5\": \"path\", \"file_name\": \"filename\"}"
   ]
  },
  {
   "cell_type": "code",
   "execution_count": 13,
   "metadata": {},
   "outputs": [],
   "source": [
    "gene_patient['fle_name_h5'] = gene_patient['file_name'].apply(lambda x: x.replace('svs', 'h5')).values\n"
   ]
  },
  {
   "cell_type": "code",
   "execution_count": 14,
   "metadata": {},
   "outputs": [
    {
     "data": {
      "text/plain": [
       "Index(['data_format', 'access', 'associated_entities', 'file_name',\n",
       "       'submitter_id', 'data_category', 'annotations', 'file_size', 'md5sum',\n",
       "       'file_id', 'data_type', 'state', 'experimental_strategy', 'GNA11',\n",
       "       'BTK', 'HRAS', 'RNF43', 'AKT2', 'EGFR', 'ARID1A', 'ERBB4', 'EZH2',\n",
       "       'MAP2K2', 'DDR2', 'NOTCH3', 'CREBBP', 'MAPK1', 'MYCN', 'RAC1',\n",
       "       'SMARCB1', 'TSC2', 'CDK6', 'FGFR2', 'PTCH1', 'MYD88', 'CBL', 'GNAQ',\n",
       "       'PPP2R1A', 'TOP1', 'NTRK1', 'NFE2L2', 'NOTCH2', 'MYC', 'CHEK2', 'MAGOH',\n",
       "       'PDGFRA', 'BRAF', 'ATM', 'fle_name_h5'],\n",
       "      dtype='object')"
      ]
     },
     "execution_count": 14,
     "metadata": {},
     "output_type": "execute_result"
    }
   ],
   "source": [
    "gene_patient.columns"
   ]
  },
  {
   "cell_type": "code",
   "execution_count": 15,
   "metadata": {},
   "outputs": [
    {
     "data": {
      "text/plain": [
       "0       13c2fa97-02ed-4442-aad8-9c4e6b365adc\n",
       "2       d93b71fa-bfe0-4402-876a-b51edef5ef86\n",
       "3       9d990512-1576-4625-8fbd-a8b46fbbdf99\n",
       "4       26438d97-7bd3-4f4c-9f09-38d5cef705a0\n",
       "5       525e99fd-2d3f-49b9-bf2f-bbacce843c16\n",
       "                        ...                 \n",
       "1364    a20a6cb2-2da0-491d-a22a-3bd74fb3062e\n",
       "1365    81a8c4e8-f40d-4e3e-b18c-f869917c50cb\n",
       "1366    d1217464-aa0f-4f9e-aeb0-9513886939c5\n",
       "1367    019607b4-e183-46ee-b062-9abcbe54ceb5\n",
       "1368    c43c2fa4-1429-4959-a736-3a0a324f6208\n",
       "Name: file_id, Length: 1337, dtype: object"
      ]
     },
     "execution_count": 15,
     "metadata": {},
     "output_type": "execute_result"
    }
   ],
   "source": [
    "gene_patient['file_id']"
   ]
  },
  {
   "cell_type": "code",
   "execution_count": 16,
   "metadata": {},
   "outputs": [],
   "source": [
    "gene_patient['TCGA ID'] = gene_patient['file_name'].apply(lambda x: '-'.join(x.split('-')[:4])).values\n",
    "\n",
    "# gene_patient['TCGA patient'] = gene_patient['file_name'].apply(lambda x: '-'.join(x.split('-')[:4])).values"
   ]
  },
  {
   "cell_type": "code",
   "execution_count": 17,
   "metadata": {},
   "outputs": [],
   "source": [
    "gene_patient_final = gene_patient.rename(columns_map).copy()"
   ]
  },
  {
   "cell_type": "code",
   "execution_count": 18,
   "metadata": {},
   "outputs": [
    {
     "data": {
      "text/html": [
       "<div>\n",
       "<style scoped>\n",
       "    .dataframe tbody tr th:only-of-type {\n",
       "        vertical-align: middle;\n",
       "    }\n",
       "\n",
       "    .dataframe tbody tr th {\n",
       "        vertical-align: top;\n",
       "    }\n",
       "\n",
       "    .dataframe thead th {\n",
       "        text-align: right;\n",
       "    }\n",
       "</style>\n",
       "<table border=\"1\" class=\"dataframe\">\n",
       "  <thead>\n",
       "    <tr style=\"text-align: right;\">\n",
       "      <th></th>\n",
       "      <th>data_format</th>\n",
       "      <th>access</th>\n",
       "      <th>associated_entities</th>\n",
       "      <th>file_name</th>\n",
       "      <th>submitter_id</th>\n",
       "      <th>data_category</th>\n",
       "      <th>annotations</th>\n",
       "      <th>file_size</th>\n",
       "      <th>md5sum</th>\n",
       "      <th>file_id</th>\n",
       "      <th>...</th>\n",
       "      <th>NFE2L2</th>\n",
       "      <th>NOTCH2</th>\n",
       "      <th>MYC</th>\n",
       "      <th>CHEK2</th>\n",
       "      <th>MAGOH</th>\n",
       "      <th>PDGFRA</th>\n",
       "      <th>BRAF</th>\n",
       "      <th>ATM</th>\n",
       "      <th>fle_name_h5</th>\n",
       "      <th>TCGA ID</th>\n",
       "    </tr>\n",
       "  </thead>\n",
       "  <tbody>\n",
       "    <tr>\n",
       "      <th>0</th>\n",
       "      <td>SVS</td>\n",
       "      <td>open</td>\n",
       "      <td>[{'entity_submitter_id': 'TCGA-61-1903-01A-01-...</td>\n",
       "      <td>TCGA-61-1903-01A-01-BS1.77116a06-9e30-4bf6-885...</td>\n",
       "      <td>TCGA.61.1903</td>\n",
       "      <td>Biospecimen</td>\n",
       "      <td>[{'entity_submitter_id': 'TCGA-61-1903', 'note...</td>\n",
       "      <td>200210513</td>\n",
       "      <td>05da084e2d65c34aa87bf865483f8b6d</td>\n",
       "      <td>13c2fa97-02ed-4442-aad8-9c4e6b365adc</td>\n",
       "      <td>...</td>\n",
       "      <td>7.6083</td>\n",
       "      <td>8.3437</td>\n",
       "      <td>7.8797</td>\n",
       "      <td>7.3016</td>\n",
       "      <td>8.3923</td>\n",
       "      <td>5.1404</td>\n",
       "      <td>7.7682</td>\n",
       "      <td>5.9685</td>\n",
       "      <td>TCGA-61-1903-01A-01-BS1.77116a06-9e30-4bf6-885...</td>\n",
       "      <td>TCGA-61-1903-01A</td>\n",
       "    </tr>\n",
       "    <tr>\n",
       "      <th>2</th>\n",
       "      <td>SVS</td>\n",
       "      <td>open</td>\n",
       "      <td>[{'entity_submitter_id': 'TCGA-42-2587-01A-01-...</td>\n",
       "      <td>TCGA-42-2587-01A-01-TS1.f9c60f94-e626-4e40-849...</td>\n",
       "      <td>TCGA.42.2587</td>\n",
       "      <td>Biospecimen</td>\n",
       "      <td>[{'entity_submitter_id': 'TCGA-42-2587', 'note...</td>\n",
       "      <td>138771709</td>\n",
       "      <td>c9d89dc3808a0df5bcfb7fe39994b8ca</td>\n",
       "      <td>d93b71fa-bfe0-4402-876a-b51edef5ef86</td>\n",
       "      <td>...</td>\n",
       "      <td>7.9143</td>\n",
       "      <td>8.6136</td>\n",
       "      <td>7.5858</td>\n",
       "      <td>7.2941</td>\n",
       "      <td>8.6792</td>\n",
       "      <td>7.6029</td>\n",
       "      <td>7.9861</td>\n",
       "      <td>8.4471</td>\n",
       "      <td>TCGA-42-2587-01A-01-TS1.f9c60f94-e626-4e40-849...</td>\n",
       "      <td>TCGA-42-2587-01A</td>\n",
       "    </tr>\n",
       "    <tr>\n",
       "      <th>3</th>\n",
       "      <td>SVS</td>\n",
       "      <td>open</td>\n",
       "      <td>[{'entity_submitter_id': 'TCGA-29-2414-01A-02-...</td>\n",
       "      <td>TCGA-29-2414-01A-02-BS2.5006bae6-462f-4310-b8a...</td>\n",
       "      <td>TCGA.29.2414</td>\n",
       "      <td>Biospecimen</td>\n",
       "      <td>[{'entity_submitter_id': 'TCGA-29-2414', 'note...</td>\n",
       "      <td>141220505</td>\n",
       "      <td>0ef0c1307832bc2c94ad65b2e64eedc4</td>\n",
       "      <td>9d990512-1576-4625-8fbd-a8b46fbbdf99</td>\n",
       "      <td>...</td>\n",
       "      <td>7.6193</td>\n",
       "      <td>10.4179</td>\n",
       "      <td>9.2474</td>\n",
       "      <td>6.6855</td>\n",
       "      <td>8.0525</td>\n",
       "      <td>6.3294</td>\n",
       "      <td>7.8052</td>\n",
       "      <td>6.5273</td>\n",
       "      <td>TCGA-29-2414-01A-02-BS2.5006bae6-462f-4310-b8a...</td>\n",
       "      <td>TCGA-29-2414-01A</td>\n",
       "    </tr>\n",
       "    <tr>\n",
       "      <th>4</th>\n",
       "      <td>SVS</td>\n",
       "      <td>open</td>\n",
       "      <td>[{'entity_submitter_id': 'TCGA-29-2414-02A-01-...</td>\n",
       "      <td>TCGA-29-2414-02A-01-TS1.9e8b6cda-a655-40f9-a44...</td>\n",
       "      <td>TCGA.29.2414</td>\n",
       "      <td>Biospecimen</td>\n",
       "      <td>[{'entity_submitter_id': 'TCGA-29-2414', 'note...</td>\n",
       "      <td>99784483</td>\n",
       "      <td>04cb8fd6eb96121626209cea1cf993d5</td>\n",
       "      <td>26438d97-7bd3-4f4c-9f09-38d5cef705a0</td>\n",
       "      <td>...</td>\n",
       "      <td>7.6193</td>\n",
       "      <td>10.4179</td>\n",
       "      <td>9.2474</td>\n",
       "      <td>6.6855</td>\n",
       "      <td>8.0525</td>\n",
       "      <td>6.3294</td>\n",
       "      <td>7.8052</td>\n",
       "      <td>6.5273</td>\n",
       "      <td>TCGA-29-2414-02A-01-TS1.9e8b6cda-a655-40f9-a44...</td>\n",
       "      <td>TCGA-29-2414-02A</td>\n",
       "    </tr>\n",
       "    <tr>\n",
       "      <th>5</th>\n",
       "      <td>SVS</td>\n",
       "      <td>open</td>\n",
       "      <td>[{'entity_submitter_id': 'TCGA-42-2588-01A-01-...</td>\n",
       "      <td>TCGA-42-2588-01A-01-TS1.cc3b36dc-1ce9-4db3-998...</td>\n",
       "      <td>TCGA.42.2588</td>\n",
       "      <td>Biospecimen</td>\n",
       "      <td>[{'entity_submitter_id': 'TCGA-42-2588', 'note...</td>\n",
       "      <td>116102537</td>\n",
       "      <td>9f04fbc5ce72fabcb0a1009372df12c5</td>\n",
       "      <td>525e99fd-2d3f-49b9-bf2f-bbacce843c16</td>\n",
       "      <td>...</td>\n",
       "      <td>7.6001</td>\n",
       "      <td>9.1204</td>\n",
       "      <td>8.6680</td>\n",
       "      <td>6.3689</td>\n",
       "      <td>8.5931</td>\n",
       "      <td>7.5047</td>\n",
       "      <td>7.1795</td>\n",
       "      <td>6.7160</td>\n",
       "      <td>TCGA-42-2588-01A-01-TS1.cc3b36dc-1ce9-4db3-998...</td>\n",
       "      <td>TCGA-42-2588-01A</td>\n",
       "    </tr>\n",
       "    <tr>\n",
       "      <th>...</th>\n",
       "      <td>...</td>\n",
       "      <td>...</td>\n",
       "      <td>...</td>\n",
       "      <td>...</td>\n",
       "      <td>...</td>\n",
       "      <td>...</td>\n",
       "      <td>...</td>\n",
       "      <td>...</td>\n",
       "      <td>...</td>\n",
       "      <td>...</td>\n",
       "      <td>...</td>\n",
       "      <td>...</td>\n",
       "      <td>...</td>\n",
       "      <td>...</td>\n",
       "      <td>...</td>\n",
       "      <td>...</td>\n",
       "      <td>...</td>\n",
       "      <td>...</td>\n",
       "      <td>...</td>\n",
       "      <td>...</td>\n",
       "      <td>...</td>\n",
       "    </tr>\n",
       "    <tr>\n",
       "      <th>1364</th>\n",
       "      <td>SVS</td>\n",
       "      <td>open</td>\n",
       "      <td>[{'entity_submitter_id': 'TCGA-13-1484-01A-01-...</td>\n",
       "      <td>TCGA-13-1484-01A-01-BS1.dfebf9da-d2d8-42cd-a94...</td>\n",
       "      <td>TCGA.13.1484</td>\n",
       "      <td>Biospecimen</td>\n",
       "      <td>NaN</td>\n",
       "      <td>271158307</td>\n",
       "      <td>17bad5ae203854c3fa27beeaeb1d51ce</td>\n",
       "      <td>a20a6cb2-2da0-491d-a22a-3bd74fb3062e</td>\n",
       "      <td>...</td>\n",
       "      <td>7.3916</td>\n",
       "      <td>8.7870</td>\n",
       "      <td>8.9912</td>\n",
       "      <td>6.3021</td>\n",
       "      <td>7.9721</td>\n",
       "      <td>5.7415</td>\n",
       "      <td>8.0873</td>\n",
       "      <td>7.1429</td>\n",
       "      <td>TCGA-13-1484-01A-01-BS1.dfebf9da-d2d8-42cd-a94...</td>\n",
       "      <td>TCGA-13-1484-01A</td>\n",
       "    </tr>\n",
       "    <tr>\n",
       "      <th>1365</th>\n",
       "      <td>SVS</td>\n",
       "      <td>open</td>\n",
       "      <td>[{'entity_submitter_id': 'TCGA-13-0906-01A-01-...</td>\n",
       "      <td>TCGA-13-0906-01A-01-BS1.e8aa0544-cc48-4941-9d7...</td>\n",
       "      <td>TCGA.13.0906</td>\n",
       "      <td>Biospecimen</td>\n",
       "      <td>NaN</td>\n",
       "      <td>175722371</td>\n",
       "      <td>dff143da3e0fb16bf4b0559a2a92af77</td>\n",
       "      <td>81a8c4e8-f40d-4e3e-b18c-f869917c50cb</td>\n",
       "      <td>...</td>\n",
       "      <td>8.3973</td>\n",
       "      <td>8.8336</td>\n",
       "      <td>8.2922</td>\n",
       "      <td>6.1920</td>\n",
       "      <td>9.4318</td>\n",
       "      <td>6.2662</td>\n",
       "      <td>7.5769</td>\n",
       "      <td>5.9633</td>\n",
       "      <td>TCGA-13-0906-01A-01-BS1.e8aa0544-cc48-4941-9d7...</td>\n",
       "      <td>TCGA-13-0906-01A</td>\n",
       "    </tr>\n",
       "    <tr>\n",
       "      <th>1366</th>\n",
       "      <td>SVS</td>\n",
       "      <td>open</td>\n",
       "      <td>[{'entity_submitter_id': 'TCGA-13-0906-01A-01-...</td>\n",
       "      <td>TCGA-13-0906-01A-01-TS1.7be7e649-9db2-4a60-b12...</td>\n",
       "      <td>TCGA.13.0906</td>\n",
       "      <td>Biospecimen</td>\n",
       "      <td>NaN</td>\n",
       "      <td>315044077</td>\n",
       "      <td>2e9988fa5644ccd92fcc669d9d369e24</td>\n",
       "      <td>d1217464-aa0f-4f9e-aeb0-9513886939c5</td>\n",
       "      <td>...</td>\n",
       "      <td>8.3973</td>\n",
       "      <td>8.8336</td>\n",
       "      <td>8.2922</td>\n",
       "      <td>6.1920</td>\n",
       "      <td>9.4318</td>\n",
       "      <td>6.2662</td>\n",
       "      <td>7.5769</td>\n",
       "      <td>5.9633</td>\n",
       "      <td>TCGA-13-0906-01A-01-TS1.7be7e649-9db2-4a60-b12...</td>\n",
       "      <td>TCGA-13-0906-01A</td>\n",
       "    </tr>\n",
       "    <tr>\n",
       "      <th>1367</th>\n",
       "      <td>SVS</td>\n",
       "      <td>open</td>\n",
       "      <td>[{'entity_submitter_id': 'TCGA-04-1348-01A-01-...</td>\n",
       "      <td>TCGA-04-1348-01A-01-TS1.ffb07f65-72b7-494c-abf...</td>\n",
       "      <td>TCGA.04.1348</td>\n",
       "      <td>Biospecimen</td>\n",
       "      <td>NaN</td>\n",
       "      <td>109640757</td>\n",
       "      <td>1d974d73037217e9a9d97e08023d6eeb</td>\n",
       "      <td>019607b4-e183-46ee-b062-9abcbe54ceb5</td>\n",
       "      <td>...</td>\n",
       "      <td>8.2965</td>\n",
       "      <td>8.8037</td>\n",
       "      <td>9.1196</td>\n",
       "      <td>6.5004</td>\n",
       "      <td>8.4558</td>\n",
       "      <td>5.9298</td>\n",
       "      <td>7.5717</td>\n",
       "      <td>6.4380</td>\n",
       "      <td>TCGA-04-1348-01A-01-TS1.ffb07f65-72b7-494c-abf...</td>\n",
       "      <td>TCGA-04-1348-01A</td>\n",
       "    </tr>\n",
       "    <tr>\n",
       "      <th>1368</th>\n",
       "      <td>SVS</td>\n",
       "      <td>open</td>\n",
       "      <td>[{'entity_submitter_id': 'TCGA-13-1496-01A-01-...</td>\n",
       "      <td>TCGA-13-1496-01A-01-TS1.6e8bc620-4631-48ed-8bf...</td>\n",
       "      <td>TCGA.13.1496</td>\n",
       "      <td>Biospecimen</td>\n",
       "      <td>NaN</td>\n",
       "      <td>420133177</td>\n",
       "      <td>599802ce9923acaefba5524bad7c5139</td>\n",
       "      <td>c43c2fa4-1429-4959-a736-3a0a324f6208</td>\n",
       "      <td>...</td>\n",
       "      <td>8.0515</td>\n",
       "      <td>9.6339</td>\n",
       "      <td>7.6517</td>\n",
       "      <td>6.7537</td>\n",
       "      <td>8.5260</td>\n",
       "      <td>5.0950</td>\n",
       "      <td>8.2110</td>\n",
       "      <td>6.5788</td>\n",
       "      <td>TCGA-13-1496-01A-01-TS1.6e8bc620-4631-48ed-8bf...</td>\n",
       "      <td>TCGA-13-1496-01A</td>\n",
       "    </tr>\n",
       "  </tbody>\n",
       "</table>\n",
       "<p>1337 rows × 50 columns</p>\n",
       "</div>"
      ],
      "text/plain": [
       "     data_format access                                associated_entities  \\\n",
       "0            SVS   open  [{'entity_submitter_id': 'TCGA-61-1903-01A-01-...   \n",
       "2            SVS   open  [{'entity_submitter_id': 'TCGA-42-2587-01A-01-...   \n",
       "3            SVS   open  [{'entity_submitter_id': 'TCGA-29-2414-01A-02-...   \n",
       "4            SVS   open  [{'entity_submitter_id': 'TCGA-29-2414-02A-01-...   \n",
       "5            SVS   open  [{'entity_submitter_id': 'TCGA-42-2588-01A-01-...   \n",
       "...          ...    ...                                                ...   \n",
       "1364         SVS   open  [{'entity_submitter_id': 'TCGA-13-1484-01A-01-...   \n",
       "1365         SVS   open  [{'entity_submitter_id': 'TCGA-13-0906-01A-01-...   \n",
       "1366         SVS   open  [{'entity_submitter_id': 'TCGA-13-0906-01A-01-...   \n",
       "1367         SVS   open  [{'entity_submitter_id': 'TCGA-04-1348-01A-01-...   \n",
       "1368         SVS   open  [{'entity_submitter_id': 'TCGA-13-1496-01A-01-...   \n",
       "\n",
       "                                              file_name  submitter_id  \\\n",
       "0     TCGA-61-1903-01A-01-BS1.77116a06-9e30-4bf6-885...  TCGA.61.1903   \n",
       "2     TCGA-42-2587-01A-01-TS1.f9c60f94-e626-4e40-849...  TCGA.42.2587   \n",
       "3     TCGA-29-2414-01A-02-BS2.5006bae6-462f-4310-b8a...  TCGA.29.2414   \n",
       "4     TCGA-29-2414-02A-01-TS1.9e8b6cda-a655-40f9-a44...  TCGA.29.2414   \n",
       "5     TCGA-42-2588-01A-01-TS1.cc3b36dc-1ce9-4db3-998...  TCGA.42.2588   \n",
       "...                                                 ...           ...   \n",
       "1364  TCGA-13-1484-01A-01-BS1.dfebf9da-d2d8-42cd-a94...  TCGA.13.1484   \n",
       "1365  TCGA-13-0906-01A-01-BS1.e8aa0544-cc48-4941-9d7...  TCGA.13.0906   \n",
       "1366  TCGA-13-0906-01A-01-TS1.7be7e649-9db2-4a60-b12...  TCGA.13.0906   \n",
       "1367  TCGA-04-1348-01A-01-TS1.ffb07f65-72b7-494c-abf...  TCGA.04.1348   \n",
       "1368  TCGA-13-1496-01A-01-TS1.6e8bc620-4631-48ed-8bf...  TCGA.13.1496   \n",
       "\n",
       "     data_category                                        annotations  \\\n",
       "0      Biospecimen  [{'entity_submitter_id': 'TCGA-61-1903', 'note...   \n",
       "2      Biospecimen  [{'entity_submitter_id': 'TCGA-42-2587', 'note...   \n",
       "3      Biospecimen  [{'entity_submitter_id': 'TCGA-29-2414', 'note...   \n",
       "4      Biospecimen  [{'entity_submitter_id': 'TCGA-29-2414', 'note...   \n",
       "5      Biospecimen  [{'entity_submitter_id': 'TCGA-42-2588', 'note...   \n",
       "...            ...                                                ...   \n",
       "1364   Biospecimen                                                NaN   \n",
       "1365   Biospecimen                                                NaN   \n",
       "1366   Biospecimen                                                NaN   \n",
       "1367   Biospecimen                                                NaN   \n",
       "1368   Biospecimen                                                NaN   \n",
       "\n",
       "      file_size                            md5sum  \\\n",
       "0     200210513  05da084e2d65c34aa87bf865483f8b6d   \n",
       "2     138771709  c9d89dc3808a0df5bcfb7fe39994b8ca   \n",
       "3     141220505  0ef0c1307832bc2c94ad65b2e64eedc4   \n",
       "4      99784483  04cb8fd6eb96121626209cea1cf993d5   \n",
       "5     116102537  9f04fbc5ce72fabcb0a1009372df12c5   \n",
       "...         ...                               ...   \n",
       "1364  271158307  17bad5ae203854c3fa27beeaeb1d51ce   \n",
       "1365  175722371  dff143da3e0fb16bf4b0559a2a92af77   \n",
       "1366  315044077  2e9988fa5644ccd92fcc669d9d369e24   \n",
       "1367  109640757  1d974d73037217e9a9d97e08023d6eeb   \n",
       "1368  420133177  599802ce9923acaefba5524bad7c5139   \n",
       "\n",
       "                                   file_id  ...  NFE2L2   NOTCH2     MYC  \\\n",
       "0     13c2fa97-02ed-4442-aad8-9c4e6b365adc  ...  7.6083   8.3437  7.8797   \n",
       "2     d93b71fa-bfe0-4402-876a-b51edef5ef86  ...  7.9143   8.6136  7.5858   \n",
       "3     9d990512-1576-4625-8fbd-a8b46fbbdf99  ...  7.6193  10.4179  9.2474   \n",
       "4     26438d97-7bd3-4f4c-9f09-38d5cef705a0  ...  7.6193  10.4179  9.2474   \n",
       "5     525e99fd-2d3f-49b9-bf2f-bbacce843c16  ...  7.6001   9.1204  8.6680   \n",
       "...                                    ...  ...     ...      ...     ...   \n",
       "1364  a20a6cb2-2da0-491d-a22a-3bd74fb3062e  ...  7.3916   8.7870  8.9912   \n",
       "1365  81a8c4e8-f40d-4e3e-b18c-f869917c50cb  ...  8.3973   8.8336  8.2922   \n",
       "1366  d1217464-aa0f-4f9e-aeb0-9513886939c5  ...  8.3973   8.8336  8.2922   \n",
       "1367  019607b4-e183-46ee-b062-9abcbe54ceb5  ...  8.2965   8.8037  9.1196   \n",
       "1368  c43c2fa4-1429-4959-a736-3a0a324f6208  ...  8.0515   9.6339  7.6517   \n",
       "\n",
       "       CHEK2   MAGOH  PDGFRA    BRAF     ATM  \\\n",
       "0     7.3016  8.3923  5.1404  7.7682  5.9685   \n",
       "2     7.2941  8.6792  7.6029  7.9861  8.4471   \n",
       "3     6.6855  8.0525  6.3294  7.8052  6.5273   \n",
       "4     6.6855  8.0525  6.3294  7.8052  6.5273   \n",
       "5     6.3689  8.5931  7.5047  7.1795  6.7160   \n",
       "...      ...     ...     ...     ...     ...   \n",
       "1364  6.3021  7.9721  5.7415  8.0873  7.1429   \n",
       "1365  6.1920  9.4318  6.2662  7.5769  5.9633   \n",
       "1366  6.1920  9.4318  6.2662  7.5769  5.9633   \n",
       "1367  6.5004  8.4558  5.9298  7.5717  6.4380   \n",
       "1368  6.7537  8.5260  5.0950  8.2110  6.5788   \n",
       "\n",
       "                                            fle_name_h5           TCGA ID  \n",
       "0     TCGA-61-1903-01A-01-BS1.77116a06-9e30-4bf6-885...  TCGA-61-1903-01A  \n",
       "2     TCGA-42-2587-01A-01-TS1.f9c60f94-e626-4e40-849...  TCGA-42-2587-01A  \n",
       "3     TCGA-29-2414-01A-02-BS2.5006bae6-462f-4310-b8a...  TCGA-29-2414-01A  \n",
       "4     TCGA-29-2414-02A-01-TS1.9e8b6cda-a655-40f9-a44...  TCGA-29-2414-02A  \n",
       "5     TCGA-42-2588-01A-01-TS1.cc3b36dc-1ce9-4db3-998...  TCGA-42-2588-01A  \n",
       "...                                                 ...               ...  \n",
       "1364  TCGA-13-1484-01A-01-BS1.dfebf9da-d2d8-42cd-a94...  TCGA-13-1484-01A  \n",
       "1365  TCGA-13-0906-01A-01-BS1.e8aa0544-cc48-4941-9d7...  TCGA-13-0906-01A  \n",
       "1366  TCGA-13-0906-01A-01-TS1.7be7e649-9db2-4a60-b12...  TCGA-13-0906-01A  \n",
       "1367  TCGA-04-1348-01A-01-TS1.ffb07f65-72b7-494c-abf...  TCGA-04-1348-01A  \n",
       "1368  TCGA-13-1496-01A-01-TS1.6e8bc620-4631-48ed-8bf...  TCGA-13-1496-01A  \n",
       "\n",
       "[1337 rows x 50 columns]"
      ]
     },
     "execution_count": 18,
     "metadata": {},
     "output_type": "execute_result"
    }
   ],
   "source": [
    "gene_patient_final"
   ]
  },
  {
   "cell_type": "code",
   "execution_count": 19,
   "metadata": {},
   "outputs": [],
   "source": [
    "gene_targets = ['GNA11',\n",
    "       'BTK', 'HRAS', 'RNF43', 'AKT2', 'EGFR', 'ARID1A', 'ERBB4', 'EZH2',\n",
    "       'MAP2K2', 'DDR2', 'NOTCH3', 'CREBBP', 'MAPK1', 'MYCN', 'RAC1',\n",
    "       'SMARCB1', 'TSC2', 'CDK6', 'FGFR2', 'PTCH1', 'MYD88', 'CBL', 'GNAQ',\n",
    "       'PPP2R1A', 'TOP1', 'NTRK1', 'NFE2L2', 'NOTCH2', 'MYC', 'CHEK2', 'MAGOH',\n",
    "       'PDGFRA', 'BRAF', 'ATM']"
   ]
  },
  {
   "cell_type": "code",
   "execution_count": 20,
   "metadata": {},
   "outputs": [
    {
     "data": {
      "text/plain": [
       "Index(['data_format', 'access', 'associated_entities', 'file_name',\n",
       "       'submitter_id', 'data_category', 'annotations', 'file_size', 'md5sum',\n",
       "       'file_id', 'data_type', 'state', 'experimental_strategy', 'GNA11',\n",
       "       'BTK', 'HRAS', 'RNF43', 'AKT2', 'EGFR', 'ARID1A', 'ERBB4', 'EZH2',\n",
       "       'MAP2K2', 'DDR2', 'NOTCH3', 'CREBBP', 'MAPK1', 'MYCN', 'RAC1',\n",
       "       'SMARCB1', 'TSC2', 'CDK6', 'FGFR2', 'PTCH1', 'MYD88', 'CBL', 'GNAQ',\n",
       "       'PPP2R1A', 'TOP1', 'NTRK1', 'NFE2L2', 'NOTCH2', 'MYC', 'CHEK2', 'MAGOH',\n",
       "       'PDGFRA', 'BRAF', 'ATM', 'fle_name_h5', 'TCGA ID'],\n",
       "      dtype='object')"
      ]
     },
     "execution_count": 20,
     "metadata": {},
     "output_type": "execute_result"
    }
   ],
   "source": [
    "gene_patient_final.columns"
   ]
  },
  {
   "cell_type": "code",
   "execution_count": 21,
   "metadata": {},
   "outputs": [],
   "source": [
    "gene_patient_final[gene_targets] = np.log(gene_patient_final[gene_targets].values)"
   ]
  },
  {
   "cell_type": "code",
   "execution_count": 22,
   "metadata": {},
   "outputs": [],
   "source": [
    "gene_patient_final.to_csv('train_genes_adco.csv', index=False)"
   ]
  },
  {
   "cell_type": "code",
   "execution_count": 23,
   "metadata": {},
   "outputs": [
    {
     "data": {
      "text/plain": [
       "Index(['data_format', 'access', 'associated_entities', 'file_name',\n",
       "       'submitter_id', 'data_category', 'annotations', 'file_size', 'md5sum',\n",
       "       'file_id', 'data_type', 'state', 'experimental_strategy', 'GNA11',\n",
       "       'BTK', 'HRAS', 'RNF43', 'AKT2', 'EGFR', 'ARID1A', 'ERBB4', 'EZH2',\n",
       "       'MAP2K2', 'DDR2', 'NOTCH3', 'CREBBP', 'MAPK1', 'MYCN', 'RAC1',\n",
       "       'SMARCB1', 'TSC2', 'CDK6', 'FGFR2', 'PTCH1', 'MYD88', 'CBL', 'GNAQ',\n",
       "       'PPP2R1A', 'TOP1', 'NTRK1', 'NFE2L2', 'NOTCH2', 'MYC', 'CHEK2', 'MAGOH',\n",
       "       'PDGFRA', 'BRAF', 'ATM', 'fle_name_h5', 'TCGA ID'],\n",
       "      dtype='object')"
      ]
     },
     "execution_count": 23,
     "metadata": {},
     "output_type": "execute_result"
    }
   ],
   "source": [
    "gene_patient_final.columns\n"
   ]
  },
  {
   "cell_type": "code",
   "execution_count": 24,
   "metadata": {},
   "outputs": [
    {
     "data": {
      "text/plain": [
       "Index(['TCGA ID', 'MKI67', 'AURKA', 'BIRC5', 'CCNB1', 'MYBL2', 'MMP11', 'CTSV',\n",
       "       'ESR1', 'PGR', 'BCL2', 'SCUBE2', 'GRB7', 'ERBB2', 'GSTM1', 'CD68',\n",
       "       'BAG1', 'ACTB', 'GAPDH', 'RPLP0', 'GUSB', 'TFRC', 'filename', 'path',\n",
       "       'slide_id', 'bcr_patient_barcode', 'OS', 'OS.time', 'PFI', 'PFI.time',\n",
       "       'aperio.AppMag', 'tumor', 'TCGA patient'],\n",
       "      dtype='object')"
      ]
     },
     "execution_count": 24,
     "metadata": {},
     "output_type": "execute_result"
    }
   ],
   "source": [
    "ref_df.columns"
   ]
  },
  {
   "cell_type": "code",
   "execution_count": null,
   "metadata": {},
   "outputs": [],
   "source": []
  },
  {
   "cell_type": "code",
   "execution_count": null,
   "metadata": {},
   "outputs": [],
   "source": []
  },
  {
   "cell_type": "code",
   "execution_count": null,
   "metadata": {},
   "outputs": [],
   "source": []
  }
 ],
 "metadata": {
  "kernelspec": {
   "display_name": ".venv",
   "language": "python",
   "name": "python3"
  },
  "language_info": {
   "codemirror_mode": {
    "name": "ipython",
    "version": 3
   },
   "file_extension": ".py",
   "mimetype": "text/x-python",
   "name": "python",
   "nbconvert_exporter": "python",
   "pygments_lexer": "ipython3",
   "version": "3.12.3"
  }
 },
 "nbformat": 4,
 "nbformat_minor": 2
}
